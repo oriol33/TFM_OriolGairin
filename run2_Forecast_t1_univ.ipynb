{
  "nbformat": 4,
  "nbformat_minor": 0,
  "metadata": {
    "colab": {
      "provenance": [],
      "authorship_tag": "ABX9TyMxrBczxmmKv2CAUUAFzD54",
      "include_colab_link": true
    },
    "kernelspec": {
      "name": "python3",
      "display_name": "Python 3"
    },
    "language_info": {
      "name": "python"
    }
  },
  "cells": [
    {
      "cell_type": "markdown",
      "metadata": {
        "id": "view-in-github",
        "colab_type": "text"
      },
      "source": [
        "<a href=\"https://colab.research.google.com/github/oriol33/TFM_OriolGairin/blob/main/run2_Forecast_t1_univ.ipynb\" target=\"_parent\"><img src=\"https://colab.research.google.com/assets/colab-badge.svg\" alt=\"Open In Colab\"/></a>"
      ]
    },
    {
      "cell_type": "markdown",
      "source": [
        "# **LSTM Forecast on CISS series**"
      ],
      "metadata": {
        "id": "QkSdK_xdDJcS"
      }
    },
    {
      "cell_type": "code",
      "source": [
        "#Import libraries\n",
        "import math\n",
        "import numpy as np\n",
        "import pandas as pd\n",
        "from keras.models import Sequential\n",
        "from keras.layers import Dense, LSTM, Dropout\n",
        "import matplotlib.pyplot as plt\n",
        "import tensorflow as tf\n",
        "from tensorflow import keras\n",
        "from sklearn.metrics import mean_absolute_error, mean_squared_error\n",
        "#from keras.engine.sequential import training_utils\n",
        "#from sklearn.preprocessing import MinMaxScaler\n",
        "\n",
        "plt.style.use('fivethirtyeight')"
      ],
      "metadata": {
        "id": "xf6hYAAIEiP-"
      },
      "execution_count": null,
      "outputs": []
    },
    {
      "cell_type": "code",
      "source": [
        "#For saving and loading our model\n",
        "import os \n",
        "from google.colab import drive\n",
        "drive.mount('/content/drive')"
      ],
      "metadata": {
        "colab": {
          "base_uri": "https://localhost:8080/"
        },
        "id": "Q1rpIQJtZ5eV",
        "outputId": "91d67e12-4ff3-492b-9276-94a59386cecd"
      },
      "execution_count": null,
      "outputs": [
        {
          "output_type": "stream",
          "name": "stdout",
          "text": [
            "Mounted at /content/drive\n"
          ]
        }
      ]
    },
    {
      "cell_type": "code",
      "source": [
        "cwd = os.getcwd()  # Get the current working directory (cwd)\n",
        "files = os.listdir(cwd)  # Get all the files in that directory\n",
        "print(\"Files in %r: %s\" % (cwd, files))"
      ],
      "metadata": {
        "colab": {
          "base_uri": "https://localhost:8080/"
        },
        "id": "g6_WcEaCdVMN",
        "outputId": "aff7cc26-6e40-4855-ca20-c41c253ba0dd"
      },
      "execution_count": null,
      "outputs": [
        {
          "output_type": "stream",
          "name": "stdout",
          "text": [
            "Files in '/content': ['.config', 'drive', 'sample_data']\n"
          ]
        }
      ]
    },
    {
      "cell_type": "code",
      "source": [
        "# change the OS to use your project folder as the working directory\n",
        "os.chdir('/content/drive/MyDrive/MESIO/TFM/Models')"
      ],
      "metadata": {
        "id": "hE3iHCQHduPs"
      },
      "execution_count": null,
      "outputs": []
    },
    {
      "cell_type": "code",
      "source": [
        "#Comprovation purposes\n",
        "!touch 'new_file_in_working_directory.txt'"
      ],
      "metadata": {
        "id": "hlwGN2D4eQ26"
      },
      "execution_count": null,
      "outputs": []
    },
    {
      "cell_type": "markdown",
      "source": [
        "**Upload and preparation of the data**"
      ],
      "metadata": {
        "id": "3dVOZdCeDZCJ"
      }
    },
    {
      "cell_type": "code",
      "execution_count": null,
      "metadata": {
        "id": "wpSX4glUC9g0"
      },
      "outputs": [],
      "source": [
        "#Import files from desktop\n",
        "from google.colab import files\n",
        " \n",
        "files.upload()  "
      ]
    },
    {
      "cell_type": "code",
      "source": [
        "#Read csv\n",
        "euro = pd.read_csv('euro.csv', skiprows=5)\n",
        "uk = pd.read_csv('uk.csv', skiprows=5)\n",
        "us = pd.read_csv('us.csv', skiprows=5)\n",
        "china = pd.read_csv('china.csv', skiprows=5)\n",
        "germany = pd.read_csv('germany.csv', skiprows=5)\n",
        "italy = pd.read_csv('italy.csv', skiprows=5)\n",
        "spain = pd.read_csv('spain.csv', skiprows=5)\n",
        "portugal = pd.read_csv('portugal.csv', skiprows=5)\n",
        "france = pd.read_csv('france.csv', skiprows=5)"
      ],
      "metadata": {
        "id": "GTB6iws_EeQE"
      },
      "execution_count": null,
      "outputs": []
    },
    {
      "cell_type": "code",
      "source": [
        "# Change column names\n",
        "euro.columns = ['date', 'value', 'status']\n",
        "uk.columns = ['date', 'value', 'status']\n",
        "us.columns = ['date', 'value', 'status']\n",
        "china.columns = ['date', 'value', 'status', 'comment']\n",
        "germany.columns = ['date', 'value', 'status', 'comment']\n",
        "italy.columns = ['date', 'value', 'status']\n",
        "spain.columns = ['date', 'value', 'status']\n",
        "portugal.columns = ['date', 'value', 'status']\n",
        "france.columns = ['date', 'value', 'status']"
      ],
      "metadata": {
        "id": "0rAw6QQRFGbs"
      },
      "execution_count": null,
      "outputs": []
    },
    {
      "cell_type": "code",
      "source": [
        "uk"
      ],
      "metadata": {
        "colab": {
          "base_uri": "https://localhost:8080/",
          "height": 423
        },
        "id": "RRzAj68qGFyJ",
        "outputId": "8ccb5c02-fef4-43d9-8862-16fb2de99e28"
      },
      "execution_count": null,
      "outputs": [
        {
          "output_type": "execute_result",
          "data": {
            "text/plain": [
              "            date   value            status\n",
              "0     2022-09-16  0.2753  Normal value (A)\n",
              "1     2022-09-15  0.2615  Normal value (A)\n",
              "2     2022-09-14  0.2571  Normal value (A)\n",
              "3     2022-09-13  0.2375  Normal value (A)\n",
              "4     2022-09-12  0.2234  Normal value (A)\n",
              "...          ...     ...               ...\n",
              "5750  2000-09-07  0.0308  Normal value (A)\n",
              "5751  2000-09-06  0.0254  Normal value (A)\n",
              "5752  2000-09-05  0.0269  Normal value (A)\n",
              "5753  2000-09-04  0.0331  Normal value (A)\n",
              "5754  2000-09-01  0.0305  Normal value (A)\n",
              "\n",
              "[5755 rows x 3 columns]"
            ],
            "text/html": [
              "\n",
              "  <div id=\"df-02fc1c84-4c9f-4ca9-937b-3d10de4ecf20\">\n",
              "    <div class=\"colab-df-container\">\n",
              "      <div>\n",
              "<style scoped>\n",
              "    .dataframe tbody tr th:only-of-type {\n",
              "        vertical-align: middle;\n",
              "    }\n",
              "\n",
              "    .dataframe tbody tr th {\n",
              "        vertical-align: top;\n",
              "    }\n",
              "\n",
              "    .dataframe thead th {\n",
              "        text-align: right;\n",
              "    }\n",
              "</style>\n",
              "<table border=\"1\" class=\"dataframe\">\n",
              "  <thead>\n",
              "    <tr style=\"text-align: right;\">\n",
              "      <th></th>\n",
              "      <th>date</th>\n",
              "      <th>value</th>\n",
              "      <th>status</th>\n",
              "    </tr>\n",
              "  </thead>\n",
              "  <tbody>\n",
              "    <tr>\n",
              "      <th>0</th>\n",
              "      <td>2022-09-16</td>\n",
              "      <td>0.2753</td>\n",
              "      <td>Normal value (A)</td>\n",
              "    </tr>\n",
              "    <tr>\n",
              "      <th>1</th>\n",
              "      <td>2022-09-15</td>\n",
              "      <td>0.2615</td>\n",
              "      <td>Normal value (A)</td>\n",
              "    </tr>\n",
              "    <tr>\n",
              "      <th>2</th>\n",
              "      <td>2022-09-14</td>\n",
              "      <td>0.2571</td>\n",
              "      <td>Normal value (A)</td>\n",
              "    </tr>\n",
              "    <tr>\n",
              "      <th>3</th>\n",
              "      <td>2022-09-13</td>\n",
              "      <td>0.2375</td>\n",
              "      <td>Normal value (A)</td>\n",
              "    </tr>\n",
              "    <tr>\n",
              "      <th>4</th>\n",
              "      <td>2022-09-12</td>\n",
              "      <td>0.2234</td>\n",
              "      <td>Normal value (A)</td>\n",
              "    </tr>\n",
              "    <tr>\n",
              "      <th>...</th>\n",
              "      <td>...</td>\n",
              "      <td>...</td>\n",
              "      <td>...</td>\n",
              "    </tr>\n",
              "    <tr>\n",
              "      <th>5750</th>\n",
              "      <td>2000-09-07</td>\n",
              "      <td>0.0308</td>\n",
              "      <td>Normal value (A)</td>\n",
              "    </tr>\n",
              "    <tr>\n",
              "      <th>5751</th>\n",
              "      <td>2000-09-06</td>\n",
              "      <td>0.0254</td>\n",
              "      <td>Normal value (A)</td>\n",
              "    </tr>\n",
              "    <tr>\n",
              "      <th>5752</th>\n",
              "      <td>2000-09-05</td>\n",
              "      <td>0.0269</td>\n",
              "      <td>Normal value (A)</td>\n",
              "    </tr>\n",
              "    <tr>\n",
              "      <th>5753</th>\n",
              "      <td>2000-09-04</td>\n",
              "      <td>0.0331</td>\n",
              "      <td>Normal value (A)</td>\n",
              "    </tr>\n",
              "    <tr>\n",
              "      <th>5754</th>\n",
              "      <td>2000-09-01</td>\n",
              "      <td>0.0305</td>\n",
              "      <td>Normal value (A)</td>\n",
              "    </tr>\n",
              "  </tbody>\n",
              "</table>\n",
              "<p>5755 rows × 3 columns</p>\n",
              "</div>\n",
              "      <button class=\"colab-df-convert\" onclick=\"convertToInteractive('df-02fc1c84-4c9f-4ca9-937b-3d10de4ecf20')\"\n",
              "              title=\"Convert this dataframe to an interactive table.\"\n",
              "              style=\"display:none;\">\n",
              "        \n",
              "  <svg xmlns=\"http://www.w3.org/2000/svg\" height=\"24px\"viewBox=\"0 0 24 24\"\n",
              "       width=\"24px\">\n",
              "    <path d=\"M0 0h24v24H0V0z\" fill=\"none\"/>\n",
              "    <path d=\"M18.56 5.44l.94 2.06.94-2.06 2.06-.94-2.06-.94-.94-2.06-.94 2.06-2.06.94zm-11 1L8.5 8.5l.94-2.06 2.06-.94-2.06-.94L8.5 2.5l-.94 2.06-2.06.94zm10 10l.94 2.06.94-2.06 2.06-.94-2.06-.94-.94-2.06-.94 2.06-2.06.94z\"/><path d=\"M17.41 7.96l-1.37-1.37c-.4-.4-.92-.59-1.43-.59-.52 0-1.04.2-1.43.59L10.3 9.45l-7.72 7.72c-.78.78-.78 2.05 0 2.83L4 21.41c.39.39.9.59 1.41.59.51 0 1.02-.2 1.41-.59l7.78-7.78 2.81-2.81c.8-.78.8-2.07 0-2.86zM5.41 20L4 18.59l7.72-7.72 1.47 1.35L5.41 20z\"/>\n",
              "  </svg>\n",
              "      </button>\n",
              "      \n",
              "  <style>\n",
              "    .colab-df-container {\n",
              "      display:flex;\n",
              "      flex-wrap:wrap;\n",
              "      gap: 12px;\n",
              "    }\n",
              "\n",
              "    .colab-df-convert {\n",
              "      background-color: #E8F0FE;\n",
              "      border: none;\n",
              "      border-radius: 50%;\n",
              "      cursor: pointer;\n",
              "      display: none;\n",
              "      fill: #1967D2;\n",
              "      height: 32px;\n",
              "      padding: 0 0 0 0;\n",
              "      width: 32px;\n",
              "    }\n",
              "\n",
              "    .colab-df-convert:hover {\n",
              "      background-color: #E2EBFA;\n",
              "      box-shadow: 0px 1px 2px rgba(60, 64, 67, 0.3), 0px 1px 3px 1px rgba(60, 64, 67, 0.15);\n",
              "      fill: #174EA6;\n",
              "    }\n",
              "\n",
              "    [theme=dark] .colab-df-convert {\n",
              "      background-color: #3B4455;\n",
              "      fill: #D2E3FC;\n",
              "    }\n",
              "\n",
              "    [theme=dark] .colab-df-convert:hover {\n",
              "      background-color: #434B5C;\n",
              "      box-shadow: 0px 1px 3px 1px rgba(0, 0, 0, 0.15);\n",
              "      filter: drop-shadow(0px 1px 2px rgba(0, 0, 0, 0.3));\n",
              "      fill: #FFFFFF;\n",
              "    }\n",
              "  </style>\n",
              "\n",
              "      <script>\n",
              "        const buttonEl =\n",
              "          document.querySelector('#df-02fc1c84-4c9f-4ca9-937b-3d10de4ecf20 button.colab-df-convert');\n",
              "        buttonEl.style.display =\n",
              "          google.colab.kernel.accessAllowed ? 'block' : 'none';\n",
              "\n",
              "        async function convertToInteractive(key) {\n",
              "          const element = document.querySelector('#df-02fc1c84-4c9f-4ca9-937b-3d10de4ecf20');\n",
              "          const dataTable =\n",
              "            await google.colab.kernel.invokeFunction('convertToInteractive',\n",
              "                                                     [key], {});\n",
              "          if (!dataTable) return;\n",
              "\n",
              "          const docLinkHtml = 'Like what you see? Visit the ' +\n",
              "            '<a target=\"_blank\" href=https://colab.research.google.com/notebooks/data_table.ipynb>data table notebook</a>'\n",
              "            + ' to learn more about interactive tables.';\n",
              "          element.innerHTML = '';\n",
              "          dataTable['output_type'] = 'display_data';\n",
              "          await google.colab.output.renderOutput(dataTable, element);\n",
              "          const docLink = document.createElement('div');\n",
              "          docLink.innerHTML = docLinkHtml;\n",
              "          element.appendChild(docLink);\n",
              "        }\n",
              "      </script>\n",
              "    </div>\n",
              "  </div>\n",
              "  "
            ]
          },
          "metadata": {},
          "execution_count": 9
        }
      ]
    },
    {
      "cell_type": "code",
      "source": [
        "#Reverse data frame (so that first observation is the oldest)\n",
        "euro = euro.loc[::-1].reset_index(drop=True)\n",
        "uk = uk.loc[::-1].reset_index(drop=True)\n",
        "us = us.loc[::-1].reset_index(drop=True)\n",
        "china = china.loc[::-1].reset_index(drop=True)\n",
        "germany = germany.loc[::-1].reset_index(drop=True)\n",
        "italy = italy.loc[::-1].reset_index(drop=True)\n",
        "spain = spain.loc[::-1].reset_index(drop=True)\n",
        "portugal = portugal.loc[::-1].reset_index(drop=True)\n",
        "france = france.loc[::-1].reset_index(drop=True)"
      ],
      "metadata": {
        "id": "mVHcEXHEI1_y"
      },
      "execution_count": null,
      "outputs": []
    },
    {
      "cell_type": "code",
      "source": [
        "#Plot\n",
        "plt.figure(figsize=(10,4))\n",
        "plt.title(\"CISS\")\n",
        "plt.plot(france['value'])\n",
        "plt.xlabel('Date', fontsize=18)\n",
        "plt.ylabel('', fontsize=18)\n",
        "plt.show()"
      ],
      "metadata": {
        "colab": {
          "base_uri": "https://localhost:8080/",
          "height": 325
        },
        "id": "9SsCH0qhH_Nf",
        "outputId": "36027643-0a12-4103-cdb9-9772b45adfe0"
      },
      "execution_count": null,
      "outputs": [
        {
          "output_type": "display_data",
          "data": {
            "text/plain": [
              "<Figure size 720x288 with 1 Axes>"
            ],
            "image/png": "[encoded data removed]"
          },
          "metadata": {}
        }
      ]
    },
    {
      "cell_type": "code",
      "source": [
        "#Select value column\n",
        "euro = euro.filter(['value'])\n",
        "uk = uk.filter(['value'])\n",
        "us = us.filter(['value'])\n",
        "china = china.filter(['value'])\n",
        "germany = germany.filter(['value'])\n",
        "italy = italy.filter(['value'])\n",
        "spain = spain.filter(['value'])\n",
        "portugal = portugal.filter(['value'])\n",
        "france = france.filter(['value'])\n",
        "\n",
        "#Convert dataframe to numpy\n",
        "euro = euro.values\n",
        "uk = uk.values\n",
        "us = us.values\n",
        "china = china.values\n",
        "germany = germany.values\n",
        "italy = italy.values\n",
        "spain = spain.values\n",
        "portugal = portugal.values\n",
        "france = france.values"
      ],
      "metadata": {
        "id": "S7y_ovTLX09r"
      },
      "execution_count": null,
      "outputs": []
    },
    {
      "cell_type": "code",
      "source": [
        "france.shape , china.shape , len(euro)"
      ],
      "metadata": {
        "colab": {
          "base_uri": "https://localhost:8080/"
        },
        "id": "B0YnpPkPhuk3",
        "outputId": "867b37c7-7239-4a44-defe-b22d590b2bc9"
      },
      "execution_count": null,
      "outputs": [
        {
          "output_type": "execute_result",
          "data": {
            "text/plain": [
              "((5755, 1), (4160, 1), 5755)"
            ]
          },
          "metadata": {},
          "execution_count": 13
        }
      ]
    },
    {
      "cell_type": "code",
      "source": [
        "#Partitions for Train + Validation + Test\n",
        "#train_pct = 0.75\n",
        "#valid_pct = 0.15\n",
        "#test_pct = 0.10\n",
        "\n",
        "training_data_len = 4320\n",
        "valid_data_len = 860\n",
        "\n",
        "#Hyperparamether sequence_length (prediction at t+1 by using previous 'sequence_length' days)\n",
        "sequence_length = 64"
      ],
      "metadata": {
        "id": "X3W3_m3-TD_R"
      },
      "execution_count": null,
      "outputs": []
    },
    {
      "cell_type": "code",
      "source": [
        "#Create the Train , Validation & Test datasets (for now, we exclude china)\n",
        "train_euro = euro[0:training_data_len, :]\n",
        "train_uk = uk[0:training_data_len, :]\n",
        "train_us = us[0:training_data_len, :]\n",
        "train_germany = germany[0:training_data_len, :]\n",
        "train_italy = italy[0:training_data_len, :]\n",
        "train_spain = spain[0:training_data_len, :]\n",
        "train_portugal = portugal[0:training_data_len, :]\n",
        "train_france = france[0:training_data_len, :]\n",
        "\n",
        "valid_euro = euro[training_data_len:(training_data_len+valid_data_len), :]\n",
        "valid_uk = uk[training_data_len:(training_data_len+valid_data_len), :]\n",
        "valid_us = us[training_data_len:(training_data_len+valid_data_len), :]\n",
        "valid_germany = germany[training_data_len:(training_data_len+valid_data_len), :]\n",
        "valid_italy = italy[training_data_len:(training_data_len+valid_data_len), :]\n",
        "valid_spain = spain[training_data_len:(training_data_len+valid_data_len), :]\n",
        "valid_portugal = portugal[training_data_len:(training_data_len+valid_data_len), :]\n",
        "valid_france = france[training_data_len:(training_data_len+valid_data_len), :]\n",
        "\n",
        "test_euro = euro[(training_data_len+valid_data_len):-3 , :]\n",
        "test_uk = uk[(training_data_len+valid_data_len):-3 , :]\n",
        "test_us = us[(training_data_len+valid_data_len):-3 , :]\n",
        "test_germany = germany[(training_data_len+valid_data_len):-3 , :]\n",
        "test_italy = italy[(training_data_len+valid_data_len):-3 , :]\n",
        "test_spain = spain[(training_data_len+valid_data_len):-3 , :]\n",
        "test_portugal = portugal[(training_data_len+valid_data_len):-3 , :]\n",
        "test_france = france[(training_data_len+valid_data_len):-3 , :]"
      ],
      "metadata": {
        "id": "g89sV8j-h9cu"
      },
      "execution_count": null,
      "outputs": []
    },
    {
      "cell_type": "code",
      "source": [
        "print(train_euro.shape ,valid_euro.shape, test_euro.shape)"
      ],
      "metadata": {
        "colab": {
          "base_uri": "https://localhost:8080/"
        },
        "id": "SsdvReXIly54",
        "outputId": "baae9490-953c-4248-b103-b07eef56f990"
      },
      "execution_count": null,
      "outputs": [
        {
          "output_type": "stream",
          "name": "stdout",
          "text": [
            "(4320, 1) (860, 1) (572, 1)\n"
          ]
        }
      ]
    },
    {
      "cell_type": "code",
      "source": [
        "#Create function to compute x_train and y_train sequences (x: input & y:output).\n",
        "def seq_fun(train_data, valid_data, test_data):\n",
        "  x_train = []\n",
        "  y_train = []\n",
        "  x_valid = []\n",
        "  y_valid = []\n",
        "  x_test = []  \n",
        "  y_test = []\n",
        "\n",
        "  for i in range(sequence_length, len(train_data)):\n",
        "    x_train.append(train_data[(i-sequence_length):i, 0])\n",
        "    y_train.append(train_data[i,0])\n",
        "\n",
        "  for i in range(sequence_length, len(valid_data)):\n",
        "    x_valid.append(valid_data[(i-sequence_length):i, 0])\n",
        "    y_valid.append(valid_data[i,0])\n",
        "\n",
        "  for i in range(sequence_length, len(test_data)):\n",
        "    x_test.append(test_data[(i-sequence_length):i, 0])\n",
        "    y_test.append(test_data[i,0])\n",
        "\n",
        "  x_train, y_train, x_valid, y_valid, x_test, y_test = np.array(x_train), np.array(y_train), np.array(x_valid) , np.array(y_valid), np.array(x_test), np.array(y_test)\n",
        "  return(x_train, y_train, x_valid, y_valid, x_test, y_test)"
      ],
      "metadata": {
        "id": "RDID9U7EjNd6"
      },
      "execution_count": null,
      "outputs": []
    },
    {
      "cell_type": "code",
      "source": [
        "#Obtain sequences on our datasets\n",
        "train_euro_x , train_euro_y, valid_euro_x, valid_euro_y, test_euro_x, test_euro_y = seq_fun(train_euro, valid_euro, test_euro) \n",
        "train_uk_x , train_uk_y, valid_uk_x, valid_uk_y, test_uk_x, test_uk_y = seq_fun(train_uk, valid_uk, test_uk) \n",
        "train_us_x , train_us_y, valid_us_x, valid_us_y, test_us_x, test_us_y = seq_fun(train_us, valid_us, test_us)\n",
        "train_germany_x , train_germany_y, valid_germany_x, valid_germany_y, test_germany_x, test_germany_y = seq_fun(train_germany, valid_germany, test_germany)\n",
        "train_italy_x , train_italy_y, valid_italy_x, valid_italy_y, test_italy_x, test_italy_y = seq_fun(train_italy, valid_italy, test_italy)\n",
        "train_spain_x , train_spain_y, valid_spain_x, valid_spain_y, test_spain_x, test_spain_y = seq_fun(train_spain, valid_spain, test_spain)\n",
        "train_portugal_x , train_portugal_y, valid_portugal_x, valid_portugal_y, test_portugal_x, test_portugal_y = seq_fun(train_portugal, valid_portugal, test_portugal)\n",
        "train_france_x , train_france_y, valid_france_x, valid_france_y, test_france_x, test_france_y = seq_fun(train_france, valid_france, test_france)  "
      ],
      "metadata": {
        "id": "7Ec7LxHTv01h"
      },
      "execution_count": null,
      "outputs": []
    },
    {
      "cell_type": "code",
      "source": [
        "#Make sure of the correct shape dimensions\n",
        "print(train_euro_x.shape , train_euro_y.shape, valid_euro_x.shape, valid_euro_y.shape, test_euro_x.shape, test_euro_y.shape)\n",
        "print(train_france_x.shape , train_france_y.shape, valid_france_x.shape, valid_france_y.shape, test_france_x.shape, test_france_y.shape)"
      ],
      "metadata": {
        "colab": {
          "base_uri": "https://localhost:8080/"
        },
        "id": "abF7M7hswi9w",
        "outputId": "b4e15e53-3c69-4bed-823d-fd1534d856a5"
      },
      "execution_count": null,
      "outputs": [
        {
          "output_type": "stream",
          "name": "stdout",
          "text": [
            "(4256, 64) (4256,) (796, 64) (796,) (508, 64) (508,)\n",
            "(4256, 64) (4256,) (796, 64) (796,) (508, 64) (508,)\n"
          ]
        }
      ]
    },
    {
      "cell_type": "markdown",
      "source": [
        "**LSTM network building and training**"
      ],
      "metadata": {
        "id": "hDdYxL2FWs6M"
      }
    },
    {
      "cell_type": "markdown",
      "source": [
        "Our approach consists on using all train_datasets (from all countries) to train one unique LSTM network that generalizes the properties of the CISS indices. We do so because of the lack of large amounts of data and the need for a data augmentation method to avoid overfitting.\n",
        "\n",
        "Precisely, we will have 3 LSTM networks, one for each horizon t+h|t of prediction."
      ],
      "metadata": {
        "id": "eXhaETTNVlGV"
      }
    },
    {
      "cell_type": "markdown",
      "source": [
        "**Approach 1:** Concadenate training sequences. Simplest approach (LSTM benchmark). Take batch_size=1 so that internal state is reset for every sequence within the epoch. No hyperparameter tunning optimization technique (just balanced \"common sense\" choice of hyperparamethers).\n",
        "\n",
        "**Approach 2:** Concadenate training sequences. The input in the model should be ordered in time. We give the model the ability to remember its internal state during the training sequences within each country. After, we reset its internal state. No hyperparameter tunning optimization technique (just balanced \"common sense\" choice of hyperparamethers).\n",
        "\n",
        "**Approach 3:** Bayesian Optimization of the hyperparameter space. "
      ],
      "metadata": {
        "id": "LeF33dyjYT92"
      }
    },
    {
      "cell_type": "code",
      "source": [
        "#Create function to compute x_train and y_train sequences (x: input & y:output).\n",
        "def reshaping(train_data_x):\n",
        "  reshaped_data = np.reshape(train_data_x, (train_data_x.shape[0], train_data_x.shape[1], 1))\n",
        "  return(reshaped_data)"
      ],
      "metadata": {
        "id": "8Hvlk5OzXaF7"
      },
      "execution_count": null,
      "outputs": []
    },
    {
      "cell_type": "code",
      "source": [
        "#Reshape the data to fit to LSTM. You have to input 3d array (number of samples, number of timesteps, number of features).\n",
        "train_euro_x = reshaping(train_euro_x)\n",
        "train_uk_x = reshaping(train_uk_x)\n",
        "train_us_x = reshaping(train_us_x)\n",
        "train_germany_x = reshaping(train_germany_x)\n",
        "train_italy_x = reshaping(train_italy_x)\n",
        "train_spain_x = reshaping(train_spain_x)\n",
        "train_portugal_x = reshaping(train_portugal_x)\n",
        "train_france_x = reshaping(train_france_x)\n",
        "\n",
        "valid_euro_x = reshaping(valid_euro_x)\n",
        "valid_uk_x = reshaping(valid_uk_x)\n",
        "valid_us_x = reshaping(valid_us_x)\n",
        "valid_germany_x = reshaping(valid_germany_x)\n",
        "valid_italy_x = reshaping(valid_italy_x)\n",
        "valid_spain_x = reshaping(valid_spain_x)\n",
        "valid_portugal_x = reshaping(valid_portugal_x)\n",
        "valid_france_x = reshaping(valid_france_x)\n",
        "\n",
        "train_euro_x.shape, train_us_x.shape, valid_euro_x.shape"
      ],
      "metadata": {
        "colab": {
          "base_uri": "https://localhost:8080/"
        },
        "id": "LNTLWmadVOaq",
        "outputId": "f2c9ee50-bf79-4ef6-82c7-fd839ae9de61"
      },
      "execution_count": null,
      "outputs": [
        {
          "output_type": "execute_result",
          "data": {
            "text/plain": [
              "((4256, 64, 1), (4256, 64, 1), (796, 64, 1))"
            ]
          },
          "metadata": {},
          "execution_count": 21
        }
      ]
    },
    {
      "cell_type": "markdown",
      "source": [
        "**Hyperparameters and tunning possibilities**: \n",
        "\n",
        "*   Arquitectura del modelo: layers y unidades por layer (Ratio #secuencias/#param. tiene que ser razonable).\n",
        "*   Sequence length: How many timesteps is our input composed of.\n",
        "*   Batch_size: number of samples to work through before updating the internal model parameters (number of samples processed before the model is updated).\n",
        "*   Epochs: number times that the learning algorithm will work through the entire training dataset (the number of complete passes through the training dataset).\n",
        "*   Optimizer (choice of optimizer: Adam preferred choice overall; choice of learning rate)\n",
        "*   Loss function (define loss function)\n",
        "*   Early stoping (min_delta and patience)\n",
        "*   Dropout regularization (dropout: Fraction of the units to drop for the linear transformation of the inputs; recurrent_dropout: Fraction of the units to drop for the linear transformation of the recurrent state.)\n",
        "\n",
        "By default, an LSTM layer in Keras maintains state between data within one batch. ***If*** our tarining data is not ordered in time, ***then*** we might choose batch size=1 (or multiple length of the samples of one country). The nb. of epochs will depend upon when the loss function is stabilized.\n",
        "\n",
        "By default, the samples within an epoch are shuffled prior to being exposed to the network. ***If*** we want the network to build up state as it learns across the sequence of observations, ***then*** we should disable the shuffling of samples by setting “shuffle” to “False“.\n",
        "\n",
        "---\n",
        "**To do list**\n",
        "\n",
        "(Empty)\n",
        "\n",
        "---\n",
        "**Benchmark comparison**\n",
        "T+1|T (only on germany CISS)\n",
        "\n",
        "*   Naive approach: 0.0001052777\n",
        "*   Arma: 8.704908e-05 (0.00008704908)\n",
        "*   Relative Gain: 17.31%\n",
        "\n",
        "\n",
        "\n",
        "\n"
      ],
      "metadata": {
        "id": "fP7WAkMurm-B"
      }
    },
    {
      "cell_type": "code",
      "source": [
        "#Build the LSTM model    (stateful_model_t1_univ.h5)\n",
        "#Architecture:\n",
        "#   -Input: 1 feature at a time, of a sequence of length 'sequence_length'\n",
        "#   -Hidden layers: ...\n",
        "#   -Output: 1 output (returns a value, the univariate forecast for one of the time series)\n",
        "\n",
        "#Total number of parameters:\n",
        "# LSTM layer:  i: num. of input features ; h: number of hidden units => 4hi + 4h + 4hh parameters\n",
        "\n",
        "#batch_size = 4 #batch size\n",
        "\n",
        "#model = Sequential()\n",
        "#model.add(LSTM(12, return_sequences=True, batch_input_shape=(batch_size, train_euro_x.shape[1], train_euro_x.shape[2]), stateful=True))\n",
        "#model.add(LSTM(6, return_sequences=False, dropout=0.05, recurrent_dropout=0.05, stateful=True))\n",
        "#model.add(Dense(1))"
      ],
      "metadata": {
        "id": "5CgUhkGTkqsn"
      },
      "execution_count": null,
      "outputs": []
    },
    {
      "cell_type": "code",
      "source": [
        "#Build the LSTM model\n",
        "#Architecture:\n",
        "#   -Input: 1 feature at a time, of a sequence of length 'sequence_length'\n",
        "#   -Hidden layers: ...\n",
        "#   -Output: 1 output (returns a value, the univariate forecast for one of the time series)\n",
        "\n",
        "#Total number of parameters:\n",
        "# LSTM layer:  i: num. of input features ; h: number of hidden units => 4hi + 4h + 4hh parameters\n",
        "\n",
        "batch_size = 4 #batch size\n",
        "\n",
        "model = Sequential()\n",
        "model.add(LSTM(12, return_sequences=False, batch_input_shape=(batch_size, train_euro_x.shape[1], train_euro_x.shape[2]), dropout=0.0, recurrent_dropout=0.0, stateful=True))\n",
        "model.add(Dense(1))"
      ],
      "metadata": {
        "id": "WzkQFZ0YJZK6"
      },
      "execution_count": null,
      "outputs": []
    },
    {
      "cell_type": "code",
      "source": [
        "model.summary()"
      ],
      "metadata": {
        "colab": {
          "base_uri": "https://localhost:8080/"
        },
        "id": "OEYnaK4jv5BZ",
        "outputId": "daf91ff3-fd08-4b65-e4ed-1f16280e1135"
      },
      "execution_count": null,
      "outputs": [
        {
          "output_type": "stream",
          "name": "stdout",
          "text": [
            "Model: \"sequential\"\n",
            "_________________________________________________________________\n",
            " Layer (type)                Output Shape              Param #   \n",
            "=================================================================\n",
            " lstm (LSTM)                 (4, 12)                   672       \n",
            "                                                                 \n",
            " dense (Dense)               (4, 1)                    13        \n",
            "                                                                 \n",
            "=================================================================\n",
            "Total params: 685\n",
            "Trainable params: 685\n",
            "Non-trainable params: 0\n",
            "_________________________________________________________________\n"
          ]
        }
      ]
    },
    {
      "cell_type": "code",
      "source": [
        "#Choose hyperparameters\n",
        "batch_size = 4 #batch size\n",
        "epochs = 50  #epochs (maximum training duration)\n",
        "loss_f = tf.keras.losses.MeanSquaredError()  #loss function\n",
        "lr = 0.0001 #learning rate\n",
        "opti = tf.keras.optimizers.Adam(learning_rate=lr)  #optimizer\n",
        "callbacks = [keras.callbacks.EarlyStopping(monitor=\"val_loss\", min_delta=1e-7, patience=12, verbose=1, restore_best_weights=True)]   #early stopping (define min_delta and patience periods)"
      ],
      "metadata": {
        "id": "R8P0ZwlHmyLM"
      },
      "execution_count": null,
      "outputs": []
    },
    {
      "cell_type": "code",
      "source": [
        "#Compile the model\n",
        "model.compile(optimizer=opti, loss=loss_f, metrics=[tf.keras.metrics.MeanAbsoluteError()])"
      ],
      "metadata": {
        "id": "hSGSwdI83ZcB"
      },
      "execution_count": null,
      "outputs": []
    },
    {
      "cell_type": "code",
      "source": [
        "#Define model training and state reset points\n",
        "def training(nb_epoch):\n",
        "  for i in range(nb_epoch):\n",
        "    model.fit(train_euro_x, train_euro_y, batch_size=batch_size, epochs=1, validation_data=(valid_euro_x, valid_euro_y), callbacks=callbacks, shuffle=False)\n",
        "    model.reset_states()\n",
        "   \n",
        "    model.fit(train_uk_x, train_uk_y, batch_size=batch_size, epochs=1, validation_data=(valid_uk_x, valid_uk_y), callbacks=callbacks, shuffle=False)\n",
        "    model.reset_states()\n",
        "   \n",
        "    model.fit(train_us_x, train_us_y, batch_size=batch_size, epochs=1, validation_data=(valid_us_x, valid_us_y), callbacks=callbacks, shuffle=False)\n",
        "    model.reset_states()\n",
        "\n",
        "    model.fit(train_germany_x, train_germany_y, batch_size=batch_size, epochs=1, validation_data=(valid_germany_x, valid_germany_y), callbacks=callbacks, shuffle=False)\n",
        "    model.reset_states()\n",
        "\n",
        "    model.fit(train_italy_x, train_italy_y, batch_size=batch_size, epochs=1, validation_data=(valid_italy_x, valid_italy_y), callbacks=callbacks, shuffle=False)\n",
        "    model.reset_states()\n",
        "\n",
        "    model.fit(train_spain_x, train_spain_y, batch_size=batch_size, epochs=1, validation_data=(valid_spain_x, valid_spain_y), callbacks=callbacks, shuffle=False)\n",
        "    model.reset_states()\n",
        "\n",
        "    model.fit(train_portugal_x, train_portugal_y, batch_size=batch_size, epochs=1, validation_data=(valid_portugal_x, valid_portugal_y), callbacks=callbacks, shuffle=False)\n",
        "    model.reset_states()\n",
        "\n",
        "    model.fit(train_france_x, train_france_y, batch_size=batch_size, epochs=1, validation_data=(valid_france_x, valid_france_y), callbacks=callbacks, shuffle=False)\n",
        "    model.reset_states()\n",
        "  return model"
      ],
      "metadata": {
        "id": "eUZvRjAekowV"
      },
      "execution_count": null,
      "outputs": []
    },
    {
      "cell_type": "code",
      "source": [
        "stateful_model = training(nb_epoch=epochs)"
      ],
      "metadata": {
        "colab": {
          "base_uri": "https://localhost:8080/"
        },
        "id": "Z0-J82FThAZH",
        "outputId": "c9e2511e-246e-4e70-c71f-bc98f262079f"
      },
      "execution_count": null,
      "outputs": [
        {
          "output_type": "stream",
          "name": "stdout",
          "text": [
            "1064/1064 [==============================] - 28s 21ms/step - loss: 0.0075 - mean_absolute_error: 0.0604 - val_loss: 0.0033 - val_mean_absolute_error: 0.0388\n",
            "1064/1064 [==============================] - 17s 16ms/step - loss: 0.0015 - mean_absolute_error: 0.0269 - val_loss: 0.0023 - val_mean_absolute_error: 0.0297\n",
            "1064/1064 [==============================] - 17s 16ms/step - loss: 0.0015 - mean_absolute_error: 0.0246 - val_loss: 0.0023 - val_mean_absolute_error: 0.0203\n",
            "1064/1064 [==============================] - 18s 17ms/step - loss: 0.0017 - mean_absolute_error: 0.0281 - val_loss: 0.0019 - val_mean_absolute_error: 0.0250\n",
            "1064/1064 [==============================] - 17s 16ms/step - loss: 0.0011 - mean_absolute_error: 0.0219 - val_loss: 0.0018 - val_mean_absolute_error: 0.0229\n",
            "1064/1064 [==============================] - 19s 18ms/step - loss: 0.0011 - mean_absolute_error: 0.0222 - val_loss: 0.0010 - val_mean_absolute_error: 0.0142\n",
            "1064/1064 [==============================] - 17s 16ms/step - loss: 0.0011 - mean_absolute_error: 0.0235 - val_loss: 0.0011 - val_mean_absolute_error: 0.0229\n",
            "1064/1064 [==============================] - 17s 16ms/step - loss: 6.8234e-04 - mean_absolute_error: 0.0180 - val_loss: 5.3548e-04 - val_mean_absolute_error: 0.0114\n",
            "1064/1064 [==============================] - 17s 16ms/step - loss: 0.0011 - mean_absolute_error: 0.0225 - val_loss: 9.0300e-04 - val_mean_absolute_error: 0.0199\n",
            "1064/1064 [==============================] - 17s 16ms/step - loss: 5.1929e-04 - mean_absolute_error: 0.0152 - val_loss: 7.5314e-04 - val_mean_absolute_error: 0.0170\n",
            "1064/1064 [==============================] - 17s 16ms/step - loss: 4.7653e-04 - mean_absolute_error: 0.0142 - val_loss: 5.9863e-04 - val_mean_absolute_error: 0.0115\n",
            "1064/1064 [==============================] - 17s 16ms/step - loss: 6.3315e-04 - mean_absolute_error: 0.0166 - val_loss: 5.5250e-04 - val_mean_absolute_error: 0.0138\n",
            "1064/1064 [==============================] - 17s 16ms/step - loss: 4.3919e-04 - mean_absolute_error: 0.0139 - val_loss: 6.5195e-04 - val_mean_absolute_error: 0.0144\n",
            "1064/1064 [==============================] - 17s 16ms/step - loss: 4.8453e-04 - mean_absolute_error: 0.0145 - val_loss: 3.7370e-04 - val_mean_absolute_error: 0.0086\n",
            "1064/1064 [==============================] - 17s 16ms/step - loss: 5.9377e-04 - mean_absolute_error: 0.0170 - val_loss: 4.3052e-04 - val_mean_absolute_error: 0.0151\n",
            "1064/1064 [==============================] - 17s 16ms/step - loss: 3.8399e-04 - mean_absolute_error: 0.0132 - val_loss: 2.5537e-04 - val_mean_absolute_error: 0.0079\n",
            "1064/1064 [==============================] - 17s 16ms/step - loss: 6.1872e-04 - mean_absolute_error: 0.0166 - val_loss: 4.6701e-04 - val_mean_absolute_error: 0.0156\n",
            "1064/1064 [==============================] - 17s 16ms/step - loss: 3.3429e-04 - mean_absolute_error: 0.0120 - val_loss: 4.4290e-04 - val_mean_absolute_error: 0.0132\n",
            "1064/1064 [==============================] - 17s 16ms/step - loss: 3.0821e-04 - mean_absolute_error: 0.0113 - val_loss: 3.2948e-04 - val_mean_absolute_error: 0.0093\n",
            "1064/1064 [==============================] - 17s 16ms/step - loss: 4.2921e-04 - mean_absolute_error: 0.0135 - val_loss: 3.1352e-04 - val_mean_absolute_error: 0.0106\n",
            "1064/1064 [==============================] - 17s 16ms/step - loss: 3.0891e-04 - mean_absolute_error: 0.0116 - val_loss: 4.0264e-04 - val_mean_absolute_error: 0.0116\n",
            "1064/1064 [==============================] - 17s 16ms/step - loss: 3.4395e-04 - mean_absolute_error: 0.0121 - val_loss: 2.3486e-04 - val_mean_absolute_error: 0.0068\n",
            "1064/1064 [==============================] - 17s 16ms/step - loss: 4.3268e-04 - mean_absolute_error: 0.0144 - val_loss: 2.7151e-04 - val_mean_absolute_error: 0.0121\n",
            "1064/1064 [==============================] - 17s 16ms/step - loss: 2.8196e-04 - mean_absolute_error: 0.0112 - val_loss: 1.7531e-04 - val_mean_absolute_error: 0.0063\n",
            "1064/1064 [==============================] - 17s 16ms/step - loss: 4.5042e-04 - mean_absolute_error: 0.0140 - val_loss: 3.2451e-04 - val_mean_absolute_error: 0.0131\n",
            "1064/1064 [==============================] - 17s 16ms/step - loss: 2.5212e-04 - mean_absolute_error: 0.0104 - val_loss: 3.1684e-04 - val_mean_absolute_error: 0.0110\n",
            "1064/1064 [==============================] - 17s 16ms/step - loss: 2.3536e-04 - mean_absolute_error: 0.0099 - val_loss: 2.3966e-04 - val_mean_absolute_error: 0.0081\n",
            "1064/1064 [==============================] - 17s 16ms/step - loss: 3.2363e-04 - mean_absolute_error: 0.0116 - val_loss: 2.2358e-04 - val_mean_absolute_error: 0.0088\n",
            "1064/1064 [==============================] - 17s 16ms/step - loss: 2.3914e-04 - mean_absolute_error: 0.0101 - val_loss: 2.8068e-04 - val_mean_absolute_error: 0.0096\n",
            "1064/1064 [==============================] - 17s 16ms/step - loss: 2.6180e-04 - mean_absolute_error: 0.0105 - val_loss: 1.6480e-04 - val_mean_absolute_error: 0.0054\n",
            "1064/1064 [==============================] - 17s 16ms/step - loss: 3.2465e-04 - mean_absolute_error: 0.0124 - val_loss: 1.8325e-04 - val_mean_absolute_error: 0.0098\n",
            "1064/1064 [==============================] - 17s 16ms/step - loss: 2.1536e-04 - mean_absolute_error: 0.0097 - val_loss: 1.2557e-04 - val_mean_absolute_error: 0.0052\n",
            "1064/1064 [==============================] - 17s 16ms/step - loss: 3.4576e-04 - mean_absolute_error: 0.0121 - val_loss: 2.3888e-04 - val_mean_absolute_error: 0.0109\n",
            "1064/1064 [==============================] - 17s 16ms/step - loss: 1.9534e-04 - mean_absolute_error: 0.0091 - val_loss: 2.3541e-04 - val_mean_absolute_error: 0.0092\n",
            "1064/1064 [==============================] - 18s 17ms/step - loss: 1.8802e-04 - mean_absolute_error: 0.0088 - val_loss: 1.8508e-04 - val_mean_absolute_error: 0.0072\n",
            "1064/1064 [==============================] - 17s 16ms/step - loss: 2.5507e-04 - mean_absolute_error: 0.0102 - val_loss: 1.6501e-04 - val_mean_absolute_error: 0.0073\n",
            "1064/1064 [==============================] - 17s 16ms/step - loss: 1.8984e-04 - mean_absolute_error: 0.0090 - val_loss: 2.0031e-04 - val_mean_absolute_error: 0.0080\n",
            "1064/1064 [==============================] - 17s 16ms/step - loss: 2.0543e-04 - mean_absolute_error: 0.0093 - val_loss: 1.1711e-04 - val_mean_absolute_error: 0.0045\n",
            "1064/1064 [==============================] - 18s 16ms/step - loss: 2.5141e-04 - mean_absolute_error: 0.0108 - val_loss: 1.2447e-04 - val_mean_absolute_error: 0.0080\n",
            "1064/1064 [==============================] - 17s 16ms/step - loss: 1.7084e-04 - mean_absolute_error: 0.0086 - val_loss: 9.0801e-05 - val_mean_absolute_error: 0.0044\n",
            "1064/1064 [==============================] - 17s 16ms/step - loss: 2.8037e-04 - mean_absolute_error: 0.0108 - val_loss: 1.8365e-04 - val_mean_absolute_error: 0.0092\n",
            "1064/1064 [==============================] - 18s 17ms/step - loss: 1.5584e-04 - mean_absolute_error: 0.0081 - val_loss: 1.8323e-04 - val_mean_absolute_error: 0.0079\n",
            "1064/1064 [==============================] - 18s 17ms/step - loss: 1.5672e-04 - mean_absolute_error: 0.0079 - val_loss: 1.4903e-04 - val_mean_absolute_error: 0.0064\n",
            "1064/1064 [==============================] - 18s 17ms/step - loss: 2.1157e-04 - mean_absolute_error: 0.0092 - val_loss: 1.2668e-04 - val_mean_absolute_error: 0.0062\n",
            "1064/1064 [==============================] - 17s 16ms/step - loss: 1.5636e-04 - mean_absolute_error: 0.0082 - val_loss: 1.5373e-04 - val_mean_absolute_error: 0.0069\n",
            "1064/1064 [==============================] - 17s 16ms/step - loss: 1.6867e-04 - mean_absolute_error: 0.0083 - val_loss: 8.7867e-05 - val_mean_absolute_error: 0.0040\n",
            "1064/1064 [==============================] - 17s 16ms/step - loss: 2.0632e-04 - mean_absolute_error: 0.0096 - val_loss: 9.3571e-05 - val_mean_absolute_error: 0.0071\n",
            "1064/1064 [==============================] - 17s 16ms/step - loss: 1.4338e-04 - mean_absolute_error: 0.0078 - val_loss: 7.1449e-05 - val_mean_absolute_error: 0.0040\n",
            "1064/1064 [==============================] - 17s 16ms/step - loss: 2.4414e-04 - mean_absolute_error: 0.0100 - val_loss: 1.5078e-04 - val_mean_absolute_error: 0.0081\n",
            "1064/1064 [==============================] - 17s 16ms/step - loss: 1.3203e-04 - mean_absolute_error: 0.0074 - val_loss: 1.5043e-04 - val_mean_absolute_error: 0.0070\n",
            "1064/1064 [==============================] - 17s 16ms/step - loss: 1.3944e-04 - mean_absolute_error: 0.0074 - val_loss: 1.2421e-04 - val_mean_absolute_error: 0.0059\n",
            "1064/1064 [==============================] - 17s 16ms/step - loss: 1.8717e-04 - mean_absolute_error: 0.0086 - val_loss: 1.0269e-04 - val_mean_absolute_error: 0.0055\n",
            "1064/1064 [==============================] - 17s 16ms/step - loss: 1.3766e-04 - mean_absolute_error: 0.0076 - val_loss: 1.3277e-04 - val_mean_absolute_error: 0.0066\n",
            "1064/1064 [==============================] - 17s 16ms/step - loss: 1.4995e-04 - mean_absolute_error: 0.0078 - val_loss: 7.6051e-05 - val_mean_absolute_error: 0.0038\n",
            "1064/1064 [==============================] - 17s 16ms/step - loss: 1.8362e-04 - mean_absolute_error: 0.0090 - val_loss: 9.8257e-05 - val_mean_absolute_error: 0.0080\n",
            "1064/1064 [==============================] - 17s 16ms/step - loss: 1.2977e-04 - mean_absolute_error: 0.0073 - val_loss: 6.6035e-05 - val_mean_absolute_error: 0.0039\n",
            "1064/1064 [==============================] - 17s 16ms/step - loss: 2.2672e-04 - mean_absolute_error: 0.0096 - val_loss: 1.4089e-04 - val_mean_absolute_error: 0.0078\n",
            "1064/1064 [==============================] - 17s 16ms/step - loss: 1.2036e-04 - mean_absolute_error: 0.0070 - val_loss: 1.3502e-04 - val_mean_absolute_error: 0.0067\n",
            "1064/1064 [==============================] - 17s 16ms/step - loss: 1.2729e-04 - mean_absolute_error: 0.0071 - val_loss: 1.1696e-04 - val_mean_absolute_error: 0.0056\n",
            "1064/1064 [==============================] - 17s 16ms/step - loss: 1.7396e-04 - mean_absolute_error: 0.0083 - val_loss: 1.0191e-04 - val_mean_absolute_error: 0.0058\n",
            "1064/1064 [==============================] - 17s 16ms/step - loss: 1.2966e-04 - mean_absolute_error: 0.0074 - val_loss: 1.3268e-04 - val_mean_absolute_error: 0.0072\n",
            "1064/1064 [==============================] - 17s 16ms/step - loss: 1.4106e-04 - mean_absolute_error: 0.0076 - val_loss: 7.1990e-05 - val_mean_absolute_error: 0.0037\n",
            "1064/1064 [==============================] - 17s 16ms/step - loss: 1.7027e-04 - mean_absolute_error: 0.0087 - val_loss: 1.5564e-04 - val_mean_absolute_error: 0.0114\n",
            "1064/1064 [==============================] - 17s 16ms/step - loss: 1.2132e-04 - mean_absolute_error: 0.0071 - val_loss: 6.4171e-05 - val_mean_absolute_error: 0.0038\n",
            "1064/1064 [==============================] - 17s 16ms/step - loss: 2.1355e-04 - mean_absolute_error: 0.0094 - val_loss: 1.4091e-04 - val_mean_absolute_error: 0.0081\n",
            "1064/1064 [==============================] - 17s 16ms/step - loss: 1.1388e-04 - mean_absolute_error: 0.0068 - val_loss: 1.2651e-04 - val_mean_absolute_error: 0.0067\n",
            "1064/1064 [==============================] - 17s 16ms/step - loss: 1.1938e-04 - mean_absolute_error: 0.0069 - val_loss: 1.1237e-04 - val_mean_absolute_error: 0.0055\n",
            "1064/1064 [==============================] - 17s 16ms/step - loss: 1.6517e-04 - mean_absolute_error: 0.0081 - val_loss: 9.8777e-05 - val_mean_absolute_error: 0.0060\n",
            "1064/1064 [==============================] - 18s 17ms/step - loss: 1.2404e-04 - mean_absolute_error: 0.0072 - val_loss: 1.2845e-04 - val_mean_absolute_error: 0.0072\n",
            "1064/1064 [==============================] - 17s 16ms/step - loss: 1.3508e-04 - mean_absolute_error: 0.0074 - val_loss: 6.7787e-05 - val_mean_absolute_error: 0.0037\n",
            "1064/1064 [==============================] - 17s 16ms/step - loss: 1.6302e-04 - mean_absolute_error: 0.0085 - val_loss: 1.6511e-04 - val_mean_absolute_error: 0.0119\n",
            "1064/1064 [==============================] - 17s 16ms/step - loss: 1.1633e-04 - mean_absolute_error: 0.0069 - val_loss: 6.0579e-05 - val_mean_absolute_error: 0.0037\n",
            "1064/1064 [==============================] - 18s 17ms/step - loss: 2.0524e-04 - mean_absolute_error: 0.0092 - val_loss: 1.3555e-04 - val_mean_absolute_error: 0.0080\n",
            "1064/1064 [==============================] - 17s 16ms/step - loss: 1.0934e-04 - mean_absolute_error: 0.0067 - val_loss: 1.2098e-04 - val_mean_absolute_error: 0.0066\n",
            "1064/1064 [==============================] - 17s 16ms/step - loss: 1.1491e-04 - mean_absolute_error: 0.0067 - val_loss: 1.0920e-04 - val_mean_absolute_error: 0.0054\n",
            "1064/1064 [==============================] - 17s 16ms/step - loss: 1.5946e-04 - mean_absolute_error: 0.0079 - val_loss: 9.5053e-05 - val_mean_absolute_error: 0.0060\n",
            "1064/1064 [==============================] - 17s 16ms/step - loss: 1.2038e-04 - mean_absolute_error: 0.0071 - val_loss: 1.2490e-04 - val_mean_absolute_error: 0.0072\n",
            "1064/1064 [==============================] - 17s 16ms/step - loss: 1.3116e-04 - mean_absolute_error: 0.0073 - val_loss: 6.4967e-05 - val_mean_absolute_error: 0.0036\n",
            "1064/1064 [==============================] - 17s 16ms/step - loss: 1.5818e-04 - mean_absolute_error: 0.0083 - val_loss: 1.6467e-04 - val_mean_absolute_error: 0.0119\n",
            "1064/1064 [==============================] - 17s 16ms/step - loss: 1.1288e-04 - mean_absolute_error: 0.0068 - val_loss: 5.7949e-05 - val_mean_absolute_error: 0.0037\n",
            "1064/1064 [==============================] - 17s 16ms/step - loss: 1.9919e-04 - mean_absolute_error: 0.0090 - val_loss: 1.3048e-04 - val_mean_absolute_error: 0.0079\n",
            "1064/1064 [==============================] - 17s 16ms/step - loss: 1.0601e-04 - mean_absolute_error: 0.0065 - val_loss: 1.1755e-04 - val_mean_absolute_error: 0.0065\n",
            "1064/1064 [==============================] - 17s 16ms/step - loss: 1.1186e-04 - mean_absolute_error: 0.0066 - val_loss: 1.0647e-04 - val_mean_absolute_error: 0.0053\n",
            "1064/1064 [==============================] - 17s 16ms/step - loss: 1.5530e-04 - mean_absolute_error: 0.0078 - val_loss: 9.1775e-05 - val_mean_absolute_error: 0.0059\n",
            "1064/1064 [==============================] - 18s 17ms/step - loss: 1.1776e-04 - mean_absolute_error: 0.0070 - val_loss: 1.2240e-04 - val_mean_absolute_error: 0.0071\n",
            "1064/1064 [==============================] - 17s 16ms/step - loss: 1.2848e-04 - mean_absolute_error: 0.0072 - val_loss: 6.3247e-05 - val_mean_absolute_error: 0.0036\n",
            "1064/1064 [==============================] - 17s 16ms/step - loss: 1.5478e-04 - mean_absolute_error: 0.0082 - val_loss: 1.5643e-04 - val_mean_absolute_error: 0.0116\n",
            "1064/1064 [==============================] - 17s 16ms/step - loss: 1.1044e-04 - mean_absolute_error: 0.0068 - val_loss: 5.6102e-05 - val_mean_absolute_error: 0.0037\n",
            "1064/1064 [==============================] - 17s 16ms/step - loss: 1.9489e-04 - mean_absolute_error: 0.0089 - val_loss: 1.2632e-04 - val_mean_absolute_error: 0.0078\n",
            "1064/1064 [==============================] - 17s 16ms/step - loss: 1.0367e-04 - mean_absolute_error: 0.0065 - val_loss: 1.1576e-04 - val_mean_absolute_error: 0.0064\n",
            "1064/1064 [==============================] - 17s 16ms/step - loss: 1.0976e-04 - mean_absolute_error: 0.0065 - val_loss: 1.0433e-04 - val_mean_absolute_error: 0.0053\n",
            "1064/1064 [==============================] - 17s 16ms/step - loss: 1.5237e-04 - mean_absolute_error: 0.0077 - val_loss: 8.9318e-05 - val_mean_absolute_error: 0.0058\n",
            "1064/1064 [==============================] - 17s 16ms/step - loss: 1.1593e-04 - mean_absolute_error: 0.0069 - val_loss: 1.2068e-04 - val_mean_absolute_error: 0.0070\n",
            "1064/1064 [==============================] - 17s 16ms/step - loss: 1.2667e-04 - mean_absolute_error: 0.0072 - val_loss: 6.2304e-05 - val_mean_absolute_error: 0.0035\n",
            "1064/1064 [==============================] - 17s 16ms/step - loss: 1.5244e-04 - mean_absolute_error: 0.0082 - val_loss: 1.4148e-04 - val_mean_absolute_error: 0.0109\n",
            "1064/1064 [==============================] - 18s 16ms/step - loss: 1.0880e-04 - mean_absolute_error: 0.0067 - val_loss: 5.4834e-05 - val_mean_absolute_error: 0.0036\n",
            "1064/1064 [==============================] - 17s 16ms/step - loss: 1.9186e-04 - mean_absolute_error: 0.0088 - val_loss: 1.2352e-04 - val_mean_absolute_error: 0.0077\n",
            "1064/1064 [==============================] - 18s 17ms/step - loss: 1.0215e-04 - mean_absolute_error: 0.0064 - val_loss: 1.1528e-04 - val_mean_absolute_error: 0.0064\n",
            "1064/1064 [==============================] - 18s 16ms/step - loss: 1.0816e-04 - mean_absolute_error: 0.0065 - val_loss: 1.0313e-04 - val_mean_absolute_error: 0.0053\n",
            "1064/1064 [==============================] - 17s 16ms/step - loss: 1.5036e-04 - mean_absolute_error: 0.0076 - val_loss: 8.8007e-05 - val_mean_absolute_error: 0.0058\n",
            "1064/1064 [==============================] - 18s 17ms/step - loss: 1.1473e-04 - mean_absolute_error: 0.0069 - val_loss: 1.1927e-04 - val_mean_absolute_error: 0.0069\n",
            "1064/1064 [==============================] - 17s 16ms/step - loss: 1.2545e-04 - mean_absolute_error: 0.0071 - val_loss: 6.1699e-05 - val_mean_absolute_error: 0.0035\n",
            "1064/1064 [==============================] - 17s 16ms/step - loss: 1.5088e-04 - mean_absolute_error: 0.0081 - val_loss: 1.2389e-04 - val_mean_absolute_error: 0.0101\n",
            "1064/1064 [==============================] - 17s 16ms/step - loss: 1.0773e-04 - mean_absolute_error: 0.0067 - val_loss: 5.4067e-05 - val_mean_absolute_error: 0.0035\n",
            "1064/1064 [==============================] - 17s 16ms/step - loss: 1.8943e-04 - mean_absolute_error: 0.0088 - val_loss: 1.2237e-04 - val_mean_absolute_error: 0.0077\n",
            "1064/1064 [==============================] - 17s 16ms/step - loss: 1.0121e-04 - mean_absolute_error: 0.0064 - val_loss: 1.1579e-04 - val_mean_absolute_error: 0.0064\n",
            "1064/1064 [==============================] - 17s 16ms/step - loss: 1.0662e-04 - mean_absolute_error: 0.0064 - val_loss: 1.0305e-04 - val_mean_absolute_error: 0.0053\n",
            "1064/1064 [==============================] - 17s 16ms/step - loss: 1.4888e-04 - mean_absolute_error: 0.0076 - val_loss: 8.7946e-05 - val_mean_absolute_error: 0.0058\n",
            "1064/1064 [==============================] - 17s 16ms/step - loss: 1.1394e-04 - mean_absolute_error: 0.0069 - val_loss: 1.1751e-04 - val_mean_absolute_error: 0.0068\n",
            "1064/1064 [==============================] - 18s 17ms/step - loss: 1.2457e-04 - mean_absolute_error: 0.0071 - val_loss: 6.0739e-05 - val_mean_absolute_error: 0.0035\n",
            "1064/1064 [==============================] - 18s 17ms/step - loss: 1.4997e-04 - mean_absolute_error: 0.0081 - val_loss: 1.0834e-04 - val_mean_absolute_error: 0.0092\n",
            "1064/1064 [==============================] - 17s 16ms/step - loss: 1.0692e-04 - mean_absolute_error: 0.0066 - val_loss: 5.3569e-05 - val_mean_absolute_error: 0.0035\n",
            "1064/1064 [==============================] - 17s 16ms/step - loss: 1.8673e-04 - mean_absolute_error: 0.0087 - val_loss: 1.2289e-04 - val_mean_absolute_error: 0.0078\n",
            "1064/1064 [==============================] - 18s 16ms/step - loss: 1.0053e-04 - mean_absolute_error: 0.0064 - val_loss: 1.1635e-04 - val_mean_absolute_error: 0.0064\n",
            "1064/1064 [==============================] - 17s 16ms/step - loss: 1.0479e-04 - mean_absolute_error: 0.0064 - val_loss: 1.0408e-04 - val_mean_absolute_error: 0.0053\n",
            "1064/1064 [==============================] - 17s 16ms/step - loss: 1.4759e-04 - mean_absolute_error: 0.0076 - val_loss: 8.8550e-05 - val_mean_absolute_error: 0.0060\n",
            "1064/1064 [==============================] - 18s 17ms/step - loss: 1.1324e-04 - mean_absolute_error: 0.0068 - val_loss: 1.1521e-04 - val_mean_absolute_error: 0.0067\n",
            "1064/1064 [==============================] - 17s 16ms/step - loss: 1.2392e-04 - mean_absolute_error: 0.0071 - val_loss: 5.8817e-05 - val_mean_absolute_error: 0.0034\n",
            "1064/1064 [==============================] - 20s 18ms/step - loss: 1.4964e-04 - mean_absolute_error: 0.0081 - val_loss: 9.5567e-05 - val_mean_absolute_error: 0.0085\n",
            "1064/1064 [==============================] - 18s 17ms/step - loss: 1.0607e-04 - mean_absolute_error: 0.0066 - val_loss: 5.2646e-05 - val_mean_absolute_error: 0.0035\n",
            "1064/1064 [==============================] - 18s 17ms/step - loss: 1.8356e-04 - mean_absolute_error: 0.0086 - val_loss: 1.2372e-04 - val_mean_absolute_error: 0.0079\n",
            "1064/1064 [==============================] - 18s 17ms/step - loss: 1.0007e-04 - mean_absolute_error: 0.0064 - val_loss: 1.1563e-04 - val_mean_absolute_error: 0.0065\n",
            "1064/1064 [==============================] - 18s 17ms/step - loss: 1.0318e-04 - mean_absolute_error: 0.0064 - val_loss: 1.0462e-04 - val_mean_absolute_error: 0.0054\n",
            "1064/1064 [==============================] - 17s 16ms/step - loss: 1.4633e-04 - mean_absolute_error: 0.0076 - val_loss: 8.8626e-05 - val_mean_absolute_error: 0.0063\n",
            "1064/1064 [==============================] - 18s 16ms/step - loss: 1.1233e-04 - mean_absolute_error: 0.0068 - val_loss: 1.1506e-04 - val_mean_absolute_error: 0.0068\n",
            "1064/1064 [==============================] - 17s 16ms/step - loss: 1.2352e-04 - mean_absolute_error: 0.0070 - val_loss: 5.7347e-05 - val_mean_absolute_error: 0.0034\n",
            "1064/1064 [==============================] - 18s 17ms/step - loss: 1.4958e-04 - mean_absolute_error: 0.0081 - val_loss: 8.5468e-05 - val_mean_absolute_error: 0.0079\n",
            "1064/1064 [==============================] - 18s 16ms/step - loss: 1.0543e-04 - mean_absolute_error: 0.0066 - val_loss: 5.0989e-05 - val_mean_absolute_error: 0.0034\n",
            "1064/1064 [==============================] - 18s 17ms/step - loss: 1.8170e-04 - mean_absolute_error: 0.0085 - val_loss: 1.2181e-04 - val_mean_absolute_error: 0.0081\n",
            "1064/1064 [==============================] - 17s 16ms/step - loss: 9.9918e-05 - mean_absolute_error: 0.0063 - val_loss: 1.1327e-04 - val_mean_absolute_error: 0.0064\n",
            "1064/1064 [==============================] - 18s 17ms/step - loss: 1.0332e-04 - mean_absolute_error: 0.0064 - val_loss: 1.0183e-04 - val_mean_absolute_error: 0.0053\n",
            "1064/1064 [==============================] - 17s 16ms/step - loss: 1.4540e-04 - mean_absolute_error: 0.0075 - val_loss: 8.7053e-05 - val_mean_absolute_error: 0.0064\n",
            "1064/1064 [==============================] - 18s 17ms/step - loss: 1.1176e-04 - mean_absolute_error: 0.0068 - val_loss: 1.1444e-04 - val_mean_absolute_error: 0.0067\n",
            "1064/1064 [==============================] - 18s 17ms/step - loss: 1.2344e-04 - mean_absolute_error: 0.0070 - val_loss: 5.5974e-05 - val_mean_absolute_error: 0.0033\n",
            "1064/1064 [==============================] - 18s 17ms/step - loss: 1.4969e-04 - mean_absolute_error: 0.0081 - val_loss: 7.9245e-05 - val_mean_absolute_error: 0.0075\n",
            "1064/1064 [==============================] - 18s 17ms/step - loss: 1.0519e-04 - mean_absolute_error: 0.0066 - val_loss: 4.9306e-05 - val_mean_absolute_error: 0.0034\n",
            "1064/1064 [==============================] - 17s 16ms/step - loss: 1.8163e-04 - mean_absolute_error: 0.0085 - val_loss: 1.1570e-04 - val_mean_absolute_error: 0.0078\n",
            "1064/1064 [==============================] - 18s 17ms/step - loss: 9.8981e-05 - mean_absolute_error: 0.0063 - val_loss: 1.1226e-04 - val_mean_absolute_error: 0.0064\n",
            "1064/1064 [==============================] - 17s 16ms/step - loss: 1.0272e-04 - mean_absolute_error: 0.0064 - val_loss: 1.0002e-04 - val_mean_absolute_error: 0.0053\n",
            "1064/1064 [==============================] - 18s 17ms/step - loss: 1.4508e-04 - mean_absolute_error: 0.0075 - val_loss: 8.5151e-05 - val_mean_absolute_error: 0.0063\n",
            "1064/1064 [==============================] - 18s 17ms/step - loss: 1.1171e-04 - mean_absolute_error: 0.0068 - val_loss: 1.1323e-04 - val_mean_absolute_error: 0.0067\n",
            "1064/1064 [==============================] - 18s 17ms/step - loss: 1.2335e-04 - mean_absolute_error: 0.0070 - val_loss: 5.4752e-05 - val_mean_absolute_error: 0.0033\n",
            "1064/1064 [==============================] - 18s 17ms/step - loss: 1.4983e-04 - mean_absolute_error: 0.0081 - val_loss: 7.4160e-05 - val_mean_absolute_error: 0.0072\n",
            "1064/1064 [==============================] - 18s 17ms/step - loss: 1.0512e-04 - mean_absolute_error: 0.0066 - val_loss: 4.8023e-05 - val_mean_absolute_error: 0.0033\n",
            "1064/1064 [==============================] - 18s 17ms/step - loss: 1.8058e-04 - mean_absolute_error: 0.0085 - val_loss: 1.1402e-04 - val_mean_absolute_error: 0.0077\n",
            "1064/1064 [==============================] - 18s 17ms/step - loss: 9.8752e-05 - mean_absolute_error: 0.0063 - val_loss: 1.1101e-04 - val_mean_absolute_error: 0.0063\n",
            "1064/1064 [==============================] - 18s 17ms/step - loss: 1.0279e-04 - mean_absolute_error: 0.0064 - val_loss: 9.8439e-05 - val_mean_absolute_error: 0.0052\n",
            "1064/1064 [==============================] - 17s 16ms/step - loss: 1.4493e-04 - mean_absolute_error: 0.0075 - val_loss: 8.2276e-05 - val_mean_absolute_error: 0.0061\n",
            "1064/1064 [==============================] - 18s 17ms/step - loss: 1.1172e-04 - mean_absolute_error: 0.0068 - val_loss: 1.1145e-04 - val_mean_absolute_error: 0.0066\n",
            "1064/1064 [==============================] - 18s 17ms/step - loss: 1.2331e-04 - mean_absolute_error: 0.0070 - val_loss: 5.3201e-05 - val_mean_absolute_error: 0.0032\n",
            "1064/1064 [==============================] - 18s 17ms/step - loss: 1.4997e-04 - mean_absolute_error: 0.0081 - val_loss: 7.0999e-05 - val_mean_absolute_error: 0.0070\n",
            "1064/1064 [==============================] - 18s 17ms/step - loss: 1.0515e-04 - mean_absolute_error: 0.0066 - val_loss: 4.6978e-05 - val_mean_absolute_error: 0.0033\n",
            "1064/1064 [==============================] - 18s 17ms/step - loss: 1.8054e-04 - mean_absolute_error: 0.0085 - val_loss: 1.1172e-04 - val_mean_absolute_error: 0.0076\n",
            "1064/1064 [==============================] - 18s 17ms/step - loss: 9.8661e-05 - mean_absolute_error: 0.0063 - val_loss: 1.0993e-04 - val_mean_absolute_error: 0.0063\n",
            "1064/1064 [==============================] - 18s 17ms/step - loss: 1.0265e-04 - mean_absolute_error: 0.0064 - val_loss: 9.6887e-05 - val_mean_absolute_error: 0.0052\n",
            "1064/1064 [==============================] - 18s 17ms/step - loss: 1.4469e-04 - mean_absolute_error: 0.0075 - val_loss: 7.9839e-05 - val_mean_absolute_error: 0.0060\n",
            "1064/1064 [==============================] - 18s 17ms/step - loss: 1.1179e-04 - mean_absolute_error: 0.0068 - val_loss: 1.0999e-04 - val_mean_absolute_error: 0.0065\n",
            "1064/1064 [==============================] - 18s 17ms/step - loss: 1.2368e-04 - mean_absolute_error: 0.0070 - val_loss: 5.1978e-05 - val_mean_absolute_error: 0.0032\n",
            "1064/1064 [==============================] - 17s 16ms/step - loss: 1.4927e-04 - mean_absolute_error: 0.0081 - val_loss: 6.9551e-05 - val_mean_absolute_error: 0.0069\n",
            "1064/1064 [==============================] - 18s 17ms/step - loss: 1.0496e-04 - mean_absolute_error: 0.0066 - val_loss: 4.6228e-05 - val_mean_absolute_error: 0.0033\n",
            "1064/1064 [==============================] - 18s 17ms/step - loss: 1.8072e-04 - mean_absolute_error: 0.0085 - val_loss: 1.1420e-04 - val_mean_absolute_error: 0.0078\n",
            "1064/1064 [==============================] - 18s 17ms/step - loss: 9.8973e-05 - mean_absolute_error: 0.0063 - val_loss: 1.0887e-04 - val_mean_absolute_error: 0.0062\n",
            "1064/1064 [==============================] - 18s 17ms/step - loss: 1.0221e-04 - mean_absolute_error: 0.0064 - val_loss: 9.5558e-05 - val_mean_absolute_error: 0.0051\n",
            "1064/1064 [==============================] - 18s 17ms/step - loss: 1.4448e-04 - mean_absolute_error: 0.0075 - val_loss: 7.8133e-05 - val_mean_absolute_error: 0.0059\n",
            "1064/1064 [==============================] - 18s 17ms/step - loss: 1.1188e-04 - mean_absolute_error: 0.0068 - val_loss: 1.0846e-04 - val_mean_absolute_error: 0.0064\n",
            "1064/1064 [==============================] - 18s 17ms/step - loss: 1.2357e-04 - mean_absolute_error: 0.0070 - val_loss: 5.0072e-05 - val_mean_absolute_error: 0.0031\n",
            "1064/1064 [==============================] - 18s 17ms/step - loss: 1.4904e-04 - mean_absolute_error: 0.0080 - val_loss: 6.7797e-05 - val_mean_absolute_error: 0.0068\n",
            "1064/1064 [==============================] - 18s 17ms/step - loss: 1.0484e-04 - mean_absolute_error: 0.0066 - val_loss: 4.5697e-05 - val_mean_absolute_error: 0.0033\n",
            "1064/1064 [==============================] - 18s 17ms/step - loss: 1.7967e-04 - mean_absolute_error: 0.0084 - val_loss: 1.1150e-04 - val_mean_absolute_error: 0.0077\n",
            "1064/1064 [==============================] - 18s 17ms/step - loss: 9.8783e-05 - mean_absolute_error: 0.0063 - val_loss: 1.0753e-04 - val_mean_absolute_error: 0.0061\n",
            "1064/1064 [==============================] - 18s 17ms/step - loss: 1.0209e-04 - mean_absolute_error: 0.0064 - val_loss: 9.4760e-05 - val_mean_absolute_error: 0.0051\n",
            "1064/1064 [==============================] - 18s 17ms/step - loss: 1.4453e-04 - mean_absolute_error: 0.0075 - val_loss: 7.6443e-05 - val_mean_absolute_error: 0.0058\n",
            "1064/1064 [==============================] - 18s 17ms/step - loss: 1.1211e-04 - mean_absolute_error: 0.0068 - val_loss: 1.0630e-04 - val_mean_absolute_error: 0.0063\n",
            "1064/1064 [==============================] - 18s 17ms/step - loss: 1.2385e-04 - mean_absolute_error: 0.0070 - val_loss: 4.9982e-05 - val_mean_absolute_error: 0.0031\n",
            "1064/1064 [==============================] - 18s 17ms/step - loss: 1.4907e-04 - mean_absolute_error: 0.0080 - val_loss: 6.6747e-05 - val_mean_absolute_error: 0.0068\n",
            "1064/1064 [==============================] - 18s 17ms/step - loss: 1.0490e-04 - mean_absolute_error: 0.0066 - val_loss: 4.5053e-05 - val_mean_absolute_error: 0.0032\n",
            "1064/1064 [==============================] - 18s 17ms/step - loss: 1.7962e-04 - mean_absolute_error: 0.0084 - val_loss: 1.1119e-04 - val_mean_absolute_error: 0.0077\n",
            "1064/1064 [==============================] - 18s 17ms/step - loss: 9.8717e-05 - mean_absolute_error: 0.0063 - val_loss: 1.0665e-04 - val_mean_absolute_error: 0.0061\n",
            "1064/1064 [==============================] - 18s 17ms/step - loss: 1.0174e-04 - mean_absolute_error: 0.0063 - val_loss: 9.3988e-05 - val_mean_absolute_error: 0.0051\n",
            "1064/1064 [==============================] - 18s 17ms/step - loss: 1.4509e-04 - mean_absolute_error: 0.0075 - val_loss: 7.6484e-05 - val_mean_absolute_error: 0.0058\n",
            "1064/1064 [==============================] - 18s 17ms/step - loss: 1.1197e-04 - mean_absolute_error: 0.0068 - val_loss: 1.0746e-04 - val_mean_absolute_error: 0.0064\n",
            "1064/1064 [==============================] - 19s 18ms/step - loss: 1.2393e-04 - mean_absolute_error: 0.0070 - val_loss: 4.8850e-05 - val_mean_absolute_error: 0.0031\n",
            "1064/1064 [==============================] - 18s 17ms/step - loss: 1.4917e-04 - mean_absolute_error: 0.0080 - val_loss: 6.6803e-05 - val_mean_absolute_error: 0.0068\n",
            "1064/1064 [==============================] - 18s 17ms/step - loss: 1.0501e-04 - mean_absolute_error: 0.0066 - val_loss: 4.4606e-05 - val_mean_absolute_error: 0.0032\n",
            "1064/1064 [==============================] - 18s 17ms/step - loss: 1.7934e-04 - mean_absolute_error: 0.0084 - val_loss: 1.1396e-04 - val_mean_absolute_error: 0.0078\n",
            "1064/1064 [==============================] - 18s 17ms/step - loss: 9.8867e-05 - mean_absolute_error: 0.0063 - val_loss: 1.0552e-04 - val_mean_absolute_error: 0.0061\n",
            "1064/1064 [==============================] - 18s 17ms/step - loss: 1.0131e-04 - mean_absolute_error: 0.0063 - val_loss: 9.3022e-05 - val_mean_absolute_error: 0.0051\n",
            "1064/1064 [==============================] - 18s 17ms/step - loss: 1.4515e-04 - mean_absolute_error: 0.0075 - val_loss: 7.5989e-05 - val_mean_absolute_error: 0.0059\n",
            "1064/1064 [==============================] - 18s 17ms/step - loss: 1.1183e-04 - mean_absolute_error: 0.0068 - val_loss: 1.0752e-04 - val_mean_absolute_error: 0.0064\n",
            "1064/1064 [==============================] - 18s 17ms/step - loss: 1.2405e-04 - mean_absolute_error: 0.0070 - val_loss: 4.8196e-05 - val_mean_absolute_error: 0.0031\n",
            "1064/1064 [==============================] - 18s 17ms/step - loss: 1.4890e-04 - mean_absolute_error: 0.0080 - val_loss: 6.7228e-05 - val_mean_absolute_error: 0.0069\n",
            "1064/1064 [==============================] - 18s 17ms/step - loss: 1.0535e-04 - mean_absolute_error: 0.0066 - val_loss: 4.4420e-05 - val_mean_absolute_error: 0.0032\n",
            "1064/1064 [==============================] - 18s 17ms/step - loss: 1.7861e-04 - mean_absolute_error: 0.0084 - val_loss: 1.1109e-04 - val_mean_absolute_error: 0.0077\n",
            "1064/1064 [==============================] - 18s 17ms/step - loss: 9.8552e-05 - mean_absolute_error: 0.0063 - val_loss: 1.0472e-04 - val_mean_absolute_error: 0.0061\n",
            "1064/1064 [==============================] - 18s 17ms/step - loss: 1.0119e-04 - mean_absolute_error: 0.0063 - val_loss: 9.1823e-05 - val_mean_absolute_error: 0.0050\n",
            "1064/1064 [==============================] - 18s 17ms/step - loss: 1.4495e-04 - mean_absolute_error: 0.0075 - val_loss: 7.6518e-05 - val_mean_absolute_error: 0.0060\n",
            "1064/1064 [==============================] - 19s 17ms/step - loss: 1.1196e-04 - mean_absolute_error: 0.0068 - val_loss: 1.0890e-04 - val_mean_absolute_error: 0.0065\n",
            "1064/1064 [==============================] - 18s 17ms/step - loss: 1.2432e-04 - mean_absolute_error: 0.0070 - val_loss: 4.7784e-05 - val_mean_absolute_error: 0.0031\n",
            "1064/1064 [==============================] - 18s 17ms/step - loss: 1.4905e-04 - mean_absolute_error: 0.0080 - val_loss: 6.6202e-05 - val_mean_absolute_error: 0.0068\n",
            "1064/1064 [==============================] - 18s 17ms/step - loss: 1.0531e-04 - mean_absolute_error: 0.0066 - val_loss: 4.4842e-05 - val_mean_absolute_error: 0.0032\n",
            "1064/1064 [==============================] - 18s 17ms/step - loss: 1.7846e-04 - mean_absolute_error: 0.0084 - val_loss: 1.1100e-04 - val_mean_absolute_error: 0.0078\n",
            "1064/1064 [==============================] - 18s 17ms/step - loss: 9.8586e-05 - mean_absolute_error: 0.0063 - val_loss: 1.0389e-04 - val_mean_absolute_error: 0.0061\n",
            "1064/1064 [==============================] - 18s 17ms/step - loss: 1.0093e-04 - mean_absolute_error: 0.0063 - val_loss: 9.1143e-05 - val_mean_absolute_error: 0.0050\n",
            "1064/1064 [==============================] - 18s 17ms/step - loss: 1.4487e-04 - mean_absolute_error: 0.0075 - val_loss: 7.5150e-05 - val_mean_absolute_error: 0.0060\n",
            "1064/1064 [==============================] - 18s 17ms/step - loss: 1.1207e-04 - mean_absolute_error: 0.0068 - val_loss: 1.0844e-04 - val_mean_absolute_error: 0.0066\n",
            "1064/1064 [==============================] - 18s 17ms/step - loss: 1.2420e-04 - mean_absolute_error: 0.0070 - val_loss: 4.6808e-05 - val_mean_absolute_error: 0.0031\n",
            "1064/1064 [==============================] - 18s 17ms/step - loss: 1.4883e-04 - mean_absolute_error: 0.0080 - val_loss: 6.7142e-05 - val_mean_absolute_error: 0.0069\n",
            "1064/1064 [==============================] - 18s 17ms/step - loss: 1.0508e-04 - mean_absolute_error: 0.0066 - val_loss: 4.4153e-05 - val_mean_absolute_error: 0.0032\n",
            "1064/1064 [==============================] - 18s 17ms/step - loss: 1.7816e-04 - mean_absolute_error: 0.0084 - val_loss: 1.0983e-04 - val_mean_absolute_error: 0.0077\n",
            "1064/1064 [==============================] - 18s 17ms/step - loss: 9.8469e-05 - mean_absolute_error: 0.0063 - val_loss: 1.0337e-04 - val_mean_absolute_error: 0.0061\n",
            "1064/1064 [==============================] - 18s 17ms/step - loss: 1.0080e-04 - mean_absolute_error: 0.0063 - val_loss: 9.0846e-05 - val_mean_absolute_error: 0.0050\n",
            "1064/1064 [==============================] - 19s 17ms/step - loss: 1.4500e-04 - mean_absolute_error: 0.0075 - val_loss: 7.5710e-05 - val_mean_absolute_error: 0.0060\n",
            "1064/1064 [==============================] - 18s 17ms/step - loss: 1.1214e-04 - mean_absolute_error: 0.0068 - val_loss: 1.0836e-04 - val_mean_absolute_error: 0.0066\n",
            "1064/1064 [==============================] - 18s 17ms/step - loss: 1.2429e-04 - mean_absolute_error: 0.0070 - val_loss: 4.6686e-05 - val_mean_absolute_error: 0.0031\n",
            "1064/1064 [==============================] - 18s 17ms/step - loss: 1.4875e-04 - mean_absolute_error: 0.0080 - val_loss: 6.7153e-05 - val_mean_absolute_error: 0.0069\n",
            "1064/1064 [==============================] - 18s 17ms/step - loss: 1.0510e-04 - mean_absolute_error: 0.0066 - val_loss: 4.3424e-05 - val_mean_absolute_error: 0.0032\n",
            "1064/1064 [==============================] - 18s 17ms/step - loss: 1.7786e-04 - mean_absolute_error: 0.0084 - val_loss: 1.0976e-04 - val_mean_absolute_error: 0.0077\n",
            "1064/1064 [==============================] - 18s 17ms/step - loss: 9.8432e-05 - mean_absolute_error: 0.0063 - val_loss: 1.0277e-04 - val_mean_absolute_error: 0.0061\n",
            "1064/1064 [==============================] - 18s 17ms/step - loss: 1.0071e-04 - mean_absolute_error: 0.0063 - val_loss: 9.0431e-05 - val_mean_absolute_error: 0.0050\n",
            "1064/1064 [==============================] - 18s 17ms/step - loss: 1.4462e-04 - mean_absolute_error: 0.0075 - val_loss: 7.6090e-05 - val_mean_absolute_error: 0.0061\n",
            "1064/1064 [==============================] - 18s 17ms/step - loss: 1.1170e-04 - mean_absolute_error: 0.0068 - val_loss: 1.0757e-04 - val_mean_absolute_error: 0.0066\n",
            "1064/1064 [==============================] - 18s 17ms/step - loss: 1.2478e-04 - mean_absolute_error: 0.0071 - val_loss: 4.5713e-05 - val_mean_absolute_error: 0.0031\n",
            "1064/1064 [==============================] - 18s 17ms/step - loss: 1.4916e-04 - mean_absolute_error: 0.0080 - val_loss: 6.7755e-05 - val_mean_absolute_error: 0.0069\n",
            "1064/1064 [==============================] - 18s 17ms/step - loss: 1.0480e-04 - mean_absolute_error: 0.0066 - val_loss: 4.3234e-05 - val_mean_absolute_error: 0.0032\n",
            "1064/1064 [==============================] - 19s 18ms/step - loss: 1.7794e-04 - mean_absolute_error: 0.0084 - val_loss: 1.1039e-04 - val_mean_absolute_error: 0.0078\n",
            "1064/1064 [==============================] - 18s 17ms/step - loss: 9.8498e-05 - mean_absolute_error: 0.0063 - val_loss: 1.0240e-04 - val_mean_absolute_error: 0.0061\n",
            "1064/1064 [==============================] - 19s 18ms/step - loss: 1.0050e-04 - mean_absolute_error: 0.0063 - val_loss: 9.0455e-05 - val_mean_absolute_error: 0.0050\n",
            "1064/1064 [==============================] - 19s 18ms/step - loss: 1.4410e-04 - mean_absolute_error: 0.0075 - val_loss: 7.5057e-05 - val_mean_absolute_error: 0.0061\n",
            "1064/1064 [==============================] - 19s 18ms/step - loss: 1.1240e-04 - mean_absolute_error: 0.0068 - val_loss: 1.0298e-04 - val_mean_absolute_error: 0.0064\n",
            "1064/1064 [==============================] - 19s 17ms/step - loss: 1.2386e-04 - mean_absolute_error: 0.0070 - val_loss: 4.5318e-05 - val_mean_absolute_error: 0.0030\n",
            "1064/1064 [==============================] - 18s 17ms/step - loss: 1.4846e-04 - mean_absolute_error: 0.0080 - val_loss: 6.6384e-05 - val_mean_absolute_error: 0.0068\n",
            "1064/1064 [==============================] - 18s 17ms/step - loss: 1.0473e-04 - mean_absolute_error: 0.0066 - val_loss: 4.3412e-05 - val_mean_absolute_error: 0.0032\n",
            "1064/1064 [==============================] - 18s 17ms/step - loss: 1.7826e-04 - mean_absolute_error: 0.0084 - val_loss: 1.0691e-04 - val_mean_absolute_error: 0.0077\n",
            "1064/1064 [==============================] - 18s 17ms/step - loss: 9.8057e-05 - mean_absolute_error: 0.0063 - val_loss: 1.0139e-04 - val_mean_absolute_error: 0.0061\n",
            "1064/1064 [==============================] - 19s 18ms/step - loss: 1.0036e-04 - mean_absolute_error: 0.0063 - val_loss: 8.8861e-05 - val_mean_absolute_error: 0.0049\n",
            "1064/1064 [==============================] - 19s 17ms/step - loss: 1.4517e-04 - mean_absolute_error: 0.0075 - val_loss: 7.4068e-05 - val_mean_absolute_error: 0.0060\n",
            "1064/1064 [==============================] - 19s 17ms/step - loss: 1.1243e-04 - mean_absolute_error: 0.0068 - val_loss: 1.0356e-04 - val_mean_absolute_error: 0.0064\n",
            "1064/1064 [==============================] - 19s 17ms/step - loss: 1.2468e-04 - mean_absolute_error: 0.0070 - val_loss: 4.5051e-05 - val_mean_absolute_error: 0.0030\n",
            "1064/1064 [==============================] - 18s 17ms/step - loss: 1.4821e-04 - mean_absolute_error: 0.0080 - val_loss: 6.7227e-05 - val_mean_absolute_error: 0.0069\n",
            "1064/1064 [==============================] - 19s 18ms/step - loss: 1.0526e-04 - mean_absolute_error: 0.0066 - val_loss: 4.3489e-05 - val_mean_absolute_error: 0.0032\n",
            "1064/1064 [==============================] - 18s 17ms/step - loss: 1.7825e-04 - mean_absolute_error: 0.0084 - val_loss: 1.1069e-04 - val_mean_absolute_error: 0.0078\n",
            "1064/1064 [==============================] - 18s 17ms/step - loss: 9.9036e-05 - mean_absolute_error: 0.0063 - val_loss: 1.0145e-04 - val_mean_absolute_error: 0.0061\n",
            "1064/1064 [==============================] - 18s 17ms/step - loss: 1.0036e-04 - mean_absolute_error: 0.0063 - val_loss: 9.1016e-05 - val_mean_absolute_error: 0.0050\n",
            "1064/1064 [==============================] - 19s 17ms/step - loss: 1.4441e-04 - mean_absolute_error: 0.0075 - val_loss: 7.5943e-05 - val_mean_absolute_error: 0.0062\n",
            "1064/1064 [==============================] - 19s 18ms/step - loss: 1.1286e-04 - mean_absolute_error: 0.0068 - val_loss: 1.0374e-04 - val_mean_absolute_error: 0.0064\n",
            "1064/1064 [==============================] - 19s 18ms/step - loss: 1.2434e-04 - mean_absolute_error: 0.0071 - val_loss: 4.4813e-05 - val_mean_absolute_error: 0.0030\n",
            "1064/1064 [==============================] - 18s 17ms/step - loss: 1.4852e-04 - mean_absolute_error: 0.0080 - val_loss: 6.7366e-05 - val_mean_absolute_error: 0.0069\n",
            "1064/1064 [==============================] - 19s 18ms/step - loss: 1.0452e-04 - mean_absolute_error: 0.0066 - val_loss: 4.3675e-05 - val_mean_absolute_error: 0.0032\n",
            "1064/1064 [==============================] - 19s 18ms/step - loss: 1.7770e-04 - mean_absolute_error: 0.0084 - val_loss: 1.1083e-04 - val_mean_absolute_error: 0.0079\n",
            "1064/1064 [==============================] - 19s 18ms/step - loss: 9.8489e-05 - mean_absolute_error: 0.0063 - val_loss: 1.0113e-04 - val_mean_absolute_error: 0.0061\n",
            "1064/1064 [==============================] - 19s 17ms/step - loss: 1.0021e-04 - mean_absolute_error: 0.0063 - val_loss: 8.9561e-05 - val_mean_absolute_error: 0.0050\n",
            "1064/1064 [==============================] - 19s 18ms/step - loss: 1.4464e-04 - mean_absolute_error: 0.0075 - val_loss: 7.6164e-05 - val_mean_absolute_error: 0.0062\n",
            "1064/1064 [==============================] - 18s 17ms/step - loss: 1.1256e-04 - mean_absolute_error: 0.0068 - val_loss: 1.0364e-04 - val_mean_absolute_error: 0.0064\n",
            "1064/1064 [==============================] - 19s 18ms/step - loss: 1.2460e-04 - mean_absolute_error: 0.0071 - val_loss: 4.4517e-05 - val_mean_absolute_error: 0.0030\n",
            "1064/1064 [==============================] - 19s 17ms/step - loss: 1.4923e-04 - mean_absolute_error: 0.0080 - val_loss: 6.6741e-05 - val_mean_absolute_error: 0.0068\n",
            "1064/1064 [==============================] - 19s 18ms/step - loss: 1.0466e-04 - mean_absolute_error: 0.0066 - val_loss: 4.3544e-05 - val_mean_absolute_error: 0.0032\n",
            "1064/1064 [==============================] - 19s 18ms/step - loss: 1.7760e-04 - mean_absolute_error: 0.0084 - val_loss: 1.1197e-04 - val_mean_absolute_error: 0.0080\n",
            "1064/1064 [==============================] - 19s 18ms/step - loss: 9.8821e-05 - mean_absolute_error: 0.0063 - val_loss: 1.0103e-04 - val_mean_absolute_error: 0.0061\n",
            "1064/1064 [==============================] - 19s 18ms/step - loss: 9.9991e-05 - mean_absolute_error: 0.0063 - val_loss: 8.9580e-05 - val_mean_absolute_error: 0.0050\n",
            "1064/1064 [==============================] - 18s 17ms/step - loss: 1.4501e-04 - mean_absolute_error: 0.0075 - val_loss: 7.4935e-05 - val_mean_absolute_error: 0.0060\n",
            "1064/1064 [==============================] - 19s 18ms/step - loss: 1.1242e-04 - mean_absolute_error: 0.0068 - val_loss: 1.0326e-04 - val_mean_absolute_error: 0.0063\n",
            "1064/1064 [==============================] - 19s 18ms/step - loss: 1.2438e-04 - mean_absolute_error: 0.0070 - val_loss: 4.5432e-05 - val_mean_absolute_error: 0.0030\n",
            "1064/1064 [==============================] - 19s 18ms/step - loss: 1.4979e-04 - mean_absolute_error: 0.0080 - val_loss: 6.6647e-05 - val_mean_absolute_error: 0.0068\n",
            "1064/1064 [==============================] - 19s 18ms/step - loss: 1.0529e-04 - mean_absolute_error: 0.0066 - val_loss: 4.3418e-05 - val_mean_absolute_error: 0.0032\n",
            "1064/1064 [==============================] - 19s 18ms/step - loss: 1.7777e-04 - mean_absolute_error: 0.0084 - val_loss: 1.1049e-04 - val_mean_absolute_error: 0.0079\n",
            "1064/1064 [==============================] - 19s 17ms/step - loss: 9.9704e-05 - mean_absolute_error: 0.0063 - val_loss: 1.0041e-04 - val_mean_absolute_error: 0.0060\n",
            "1064/1064 [==============================] - 19s 18ms/step - loss: 9.9803e-05 - mean_absolute_error: 0.0063 - val_loss: 8.9234e-05 - val_mean_absolute_error: 0.0050\n",
            "1064/1064 [==============================] - 19s 17ms/step - loss: 1.4477e-04 - mean_absolute_error: 0.0075 - val_loss: 7.4945e-05 - val_mean_absolute_error: 0.0060\n",
            "1064/1064 [==============================] - 19s 18ms/step - loss: 1.1231e-04 - mean_absolute_error: 0.0068 - val_loss: 1.0318e-04 - val_mean_absolute_error: 0.0063\n",
            "1064/1064 [==============================] - 19s 17ms/step - loss: 1.2450e-04 - mean_absolute_error: 0.0070 - val_loss: 4.5284e-05 - val_mean_absolute_error: 0.0030\n",
            "1064/1064 [==============================] - 19s 18ms/step - loss: 1.4937e-04 - mean_absolute_error: 0.0080 - val_loss: 6.6176e-05 - val_mean_absolute_error: 0.0068\n",
            "1064/1064 [==============================] - 18s 17ms/step - loss: 1.0582e-04 - mean_absolute_error: 0.0066 - val_loss: 4.3234e-05 - val_mean_absolute_error: 0.0032\n",
            "1064/1064 [==============================] - 19s 18ms/step - loss: 1.7806e-04 - mean_absolute_error: 0.0084 - val_loss: 1.0967e-04 - val_mean_absolute_error: 0.0078\n",
            "1064/1064 [==============================] - 19s 18ms/step - loss: 9.9971e-05 - mean_absolute_error: 0.0063 - val_loss: 1.0037e-04 - val_mean_absolute_error: 0.0060\n",
            "1064/1064 [==============================] - 19s 18ms/step - loss: 1.0023e-04 - mean_absolute_error: 0.0063 - val_loss: 9.0342e-05 - val_mean_absolute_error: 0.0050\n",
            "1064/1064 [==============================] - 19s 18ms/step - loss: 1.4482e-04 - mean_absolute_error: 0.0075 - val_loss: 7.4084e-05 - val_mean_absolute_error: 0.0059\n",
            "1064/1064 [==============================] - 19s 18ms/step - loss: 1.1260e-04 - mean_absolute_error: 0.0068 - val_loss: 1.0324e-04 - val_mean_absolute_error: 0.0063\n",
            "1064/1064 [==============================] - 19s 18ms/step - loss: 1.2435e-04 - mean_absolute_error: 0.0070 - val_loss: 4.5430e-05 - val_mean_absolute_error: 0.0030\n",
            "1064/1064 [==============================] - 19s 18ms/step - loss: 1.4975e-04 - mean_absolute_error: 0.0080 - val_loss: 6.5656e-05 - val_mean_absolute_error: 0.0067\n",
            "1064/1064 [==============================] - 19s 18ms/step - loss: 1.0490e-04 - mean_absolute_error: 0.0066 - val_loss: 4.3218e-05 - val_mean_absolute_error: 0.0032\n",
            "1064/1064 [==============================] - 19s 18ms/step - loss: 1.7760e-04 - mean_absolute_error: 0.0084 - val_loss: 1.0875e-04 - val_mean_absolute_error: 0.0077\n",
            "1064/1064 [==============================] - 19s 18ms/step - loss: 1.0026e-04 - mean_absolute_error: 0.0063 - val_loss: 1.0027e-04 - val_mean_absolute_error: 0.0059\n",
            "1064/1064 [==============================] - 19s 18ms/step - loss: 9.9622e-05 - mean_absolute_error: 0.0063 - val_loss: 8.9145e-05 - val_mean_absolute_error: 0.0050\n",
            "1064/1064 [==============================] - 19s 17ms/step - loss: 1.4407e-04 - mean_absolute_error: 0.0075 - val_loss: 7.4950e-05 - val_mean_absolute_error: 0.0060\n",
            "1064/1064 [==============================] - 19s 18ms/step - loss: 1.1260e-04 - mean_absolute_error: 0.0068 - val_loss: 1.0340e-04 - val_mean_absolute_error: 0.0063\n",
            "1064/1064 [==============================] - 19s 18ms/step - loss: 1.2416e-04 - mean_absolute_error: 0.0070 - val_loss: 4.5378e-05 - val_mean_absolute_error: 0.0030\n",
            "1064/1064 [==============================] - 19s 18ms/step - loss: 1.4959e-04 - mean_absolute_error: 0.0080 - val_loss: 6.3149e-05 - val_mean_absolute_error: 0.0065\n",
            "1064/1064 [==============================] - 19s 18ms/step - loss: 1.0492e-04 - mean_absolute_error: 0.0066 - val_loss: 4.2922e-05 - val_mean_absolute_error: 0.0032\n",
            "1064/1064 [==============================] - 19s 18ms/step - loss: 1.7703e-04 - mean_absolute_error: 0.0084 - val_loss: 1.1070e-04 - val_mean_absolute_error: 0.0078\n",
            "1064/1064 [==============================] - 19s 18ms/step - loss: 1.0042e-04 - mean_absolute_error: 0.0063 - val_loss: 1.0030e-04 - val_mean_absolute_error: 0.0059\n",
            "1064/1064 [==============================] - 19s 18ms/step - loss: 9.9888e-05 - mean_absolute_error: 0.0063 - val_loss: 8.8489e-05 - val_mean_absolute_error: 0.0049\n",
            "1064/1064 [==============================] - 19s 18ms/step - loss: 1.4375e-04 - mean_absolute_error: 0.0075 - val_loss: 7.4451e-05 - val_mean_absolute_error: 0.0059\n",
            "1064/1064 [==============================] - 19s 18ms/step - loss: 1.1218e-04 - mean_absolute_error: 0.0068 - val_loss: 1.0291e-04 - val_mean_absolute_error: 0.0062\n",
            "1064/1064 [==============================] - 19s 18ms/step - loss: 1.2425e-04 - mean_absolute_error: 0.0070 - val_loss: 4.5084e-05 - val_mean_absolute_error: 0.0030\n",
            "1064/1064 [==============================] - 19s 18ms/step - loss: 1.4926e-04 - mean_absolute_error: 0.0080 - val_loss: 6.2517e-05 - val_mean_absolute_error: 0.0065\n",
            "1064/1064 [==============================] - 20s 18ms/step - loss: 1.0497e-04 - mean_absolute_error: 0.0066 - val_loss: 4.2793e-05 - val_mean_absolute_error: 0.0032\n",
            "1064/1064 [==============================] - 19s 18ms/step - loss: 1.7751e-04 - mean_absolute_error: 0.0084 - val_loss: 1.0809e-04 - val_mean_absolute_error: 0.0077\n",
            "1064/1064 [==============================] - 19s 18ms/step - loss: 9.9319e-05 - mean_absolute_error: 0.0063 - val_loss: 9.9694e-05 - val_mean_absolute_error: 0.0059\n",
            "1064/1064 [==============================] - 19s 18ms/step - loss: 1.0010e-04 - mean_absolute_error: 0.0063 - val_loss: 8.8205e-05 - val_mean_absolute_error: 0.0049\n",
            "1064/1064 [==============================] - 19s 18ms/step - loss: 1.4377e-04 - mean_absolute_error: 0.0075 - val_loss: 7.3468e-05 - val_mean_absolute_error: 0.0059\n",
            "1064/1064 [==============================] - 19s 18ms/step - loss: 1.1206e-04 - mean_absolute_error: 0.0068 - val_loss: 1.0229e-04 - val_mean_absolute_error: 0.0062\n",
            "1064/1064 [==============================] - 19s 18ms/step - loss: 1.2406e-04 - mean_absolute_error: 0.0070 - val_loss: 4.4951e-05 - val_mean_absolute_error: 0.0030\n",
            "1064/1064 [==============================] - 20s 18ms/step - loss: 1.4927e-04 - mean_absolute_error: 0.0080 - val_loss: 6.2942e-05 - val_mean_absolute_error: 0.0065\n",
            "1064/1064 [==============================] - 19s 18ms/step - loss: 1.0498e-04 - mean_absolute_error: 0.0066 - val_loss: 4.2624e-05 - val_mean_absolute_error: 0.0032\n",
            "1064/1064 [==============================] - 19s 18ms/step - loss: 1.7675e-04 - mean_absolute_error: 0.0084 - val_loss: 1.0737e-04 - val_mean_absolute_error: 0.0076\n",
            "1064/1064 [==============================] - 19s 18ms/step - loss: 1.0031e-04 - mean_absolute_error: 0.0063 - val_loss: 1.0014e-04 - val_mean_absolute_error: 0.0059\n",
            "1064/1064 [==============================] - 20s 19ms/step - loss: 9.9567e-05 - mean_absolute_error: 0.0063 - val_loss: 8.7515e-05 - val_mean_absolute_error: 0.0049\n",
            "1064/1064 [==============================] - 20s 18ms/step - loss: 1.4363e-04 - mean_absolute_error: 0.0075 - val_loss: 7.4463e-05 - val_mean_absolute_error: 0.0059\n",
            "1064/1064 [==============================] - 19s 18ms/step - loss: 1.1188e-04 - mean_absolute_error: 0.0068 - val_loss: 1.0299e-04 - val_mean_absolute_error: 0.0062\n",
            "1064/1064 [==============================] - 19s 18ms/step - loss: 1.2409e-04 - mean_absolute_error: 0.0070 - val_loss: 4.5313e-05 - val_mean_absolute_error: 0.0030\n",
            "1064/1064 [==============================] - 19s 18ms/step - loss: 1.4916e-04 - mean_absolute_error: 0.0080 - val_loss: 6.1382e-05 - val_mean_absolute_error: 0.0064\n",
            "1064/1064 [==============================] - 19s 18ms/step - loss: 1.0502e-04 - mean_absolute_error: 0.0066 - val_loss: 4.2502e-05 - val_mean_absolute_error: 0.0032\n",
            "1064/1064 [==============================] - 19s 18ms/step - loss: 1.7775e-04 - mean_absolute_error: 0.0084 - val_loss: 1.0529e-04 - val_mean_absolute_error: 0.0075\n",
            "1064/1064 [==============================] - 19s 18ms/step - loss: 9.8716e-05 - mean_absolute_error: 0.0063 - val_loss: 9.9350e-05 - val_mean_absolute_error: 0.0059\n",
            "1064/1064 [==============================] - 19s 18ms/step - loss: 1.0004e-04 - mean_absolute_error: 0.0063 - val_loss: 8.7764e-05 - val_mean_absolute_error: 0.0049\n",
            "1064/1064 [==============================] - 19s 18ms/step - loss: 1.4377e-04 - mean_absolute_error: 0.0075 - val_loss: 7.2365e-05 - val_mean_absolute_error: 0.0058\n",
            "1064/1064 [==============================] - 19s 18ms/step - loss: 1.1223e-04 - mean_absolute_error: 0.0068 - val_loss: 1.0216e-04 - val_mean_absolute_error: 0.0062\n",
            "1064/1064 [==============================] - 19s 18ms/step - loss: 1.2390e-04 - mean_absolute_error: 0.0070 - val_loss: 4.5474e-05 - val_mean_absolute_error: 0.0031\n",
            "1064/1064 [==============================] - 19s 18ms/step - loss: 1.4887e-04 - mean_absolute_error: 0.0080 - val_loss: 6.1442e-05 - val_mean_absolute_error: 0.0064\n",
            "1064/1064 [==============================] - 19s 18ms/step - loss: 1.0479e-04 - mean_absolute_error: 0.0066 - val_loss: 4.2428e-05 - val_mean_absolute_error: 0.0032\n",
            "1064/1064 [==============================] - 20s 18ms/step - loss: 1.7736e-04 - mean_absolute_error: 0.0084 - val_loss: 1.0739e-04 - val_mean_absolute_error: 0.0077\n",
            "1064/1064 [==============================] - 19s 18ms/step - loss: 9.9871e-05 - mean_absolute_error: 0.0063 - val_loss: 9.9352e-05 - val_mean_absolute_error: 0.0059\n",
            "1064/1064 [==============================] - 20s 19ms/step - loss: 1.0011e-04 - mean_absolute_error: 0.0063 - val_loss: 8.7147e-05 - val_mean_absolute_error: 0.0049\n",
            "1064/1064 [==============================] - 20s 19ms/step - loss: 1.4371e-04 - mean_absolute_error: 0.0075 - val_loss: 7.2485e-05 - val_mean_absolute_error: 0.0058\n",
            "1064/1064 [==============================] - 20s 18ms/step - loss: 1.1206e-04 - mean_absolute_error: 0.0068 - val_loss: 1.0198e-04 - val_mean_absolute_error: 0.0062\n",
            "1064/1064 [==============================] - 20s 19ms/step - loss: 1.2368e-04 - mean_absolute_error: 0.0070 - val_loss: 4.5644e-05 - val_mean_absolute_error: 0.0031\n",
            "1064/1064 [==============================] - 20s 18ms/step - loss: 1.4854e-04 - mean_absolute_error: 0.0080 - val_loss: 6.1569e-05 - val_mean_absolute_error: 0.0064\n",
            "1064/1064 [==============================] - 19s 18ms/step - loss: 1.0469e-04 - mean_absolute_error: 0.0066 - val_loss: 4.2282e-05 - val_mean_absolute_error: 0.0032\n",
            "1064/1064 [==============================] - 20s 18ms/step - loss: 1.7802e-04 - mean_absolute_error: 0.0084 - val_loss: 1.0781e-04 - val_mean_absolute_error: 0.0077\n",
            "1064/1064 [==============================] - 19s 18ms/step - loss: 9.9602e-05 - mean_absolute_error: 0.0063 - val_loss: 9.9178e-05 - val_mean_absolute_error: 0.0058\n",
            "1064/1064 [==============================] - 20s 19ms/step - loss: 9.9487e-05 - mean_absolute_error: 0.0063 - val_loss: 8.6210e-05 - val_mean_absolute_error: 0.0049\n",
            "1064/1064 [==============================] - 19s 18ms/step - loss: 1.4350e-04 - mean_absolute_error: 0.0075 - val_loss: 7.2056e-05 - val_mean_absolute_error: 0.0058\n",
            "1064/1064 [==============================] - 21s 19ms/step - loss: 1.1148e-04 - mean_absolute_error: 0.0068 - val_loss: 1.0200e-04 - val_mean_absolute_error: 0.0062\n",
            "1064/1064 [==============================] - 20s 19ms/step - loss: 1.2353e-04 - mean_absolute_error: 0.0070 - val_loss: 4.5887e-05 - val_mean_absolute_error: 0.0031\n",
            "1064/1064 [==============================] - 20s 19ms/step - loss: 1.4858e-04 - mean_absolute_error: 0.0080 - val_loss: 6.1132e-05 - val_mean_absolute_error: 0.0064\n",
            "1064/1064 [==============================] - 20s 18ms/step - loss: 1.0461e-04 - mean_absolute_error: 0.0066 - val_loss: 4.2209e-05 - val_mean_absolute_error: 0.0032\n",
            "1064/1064 [==============================] - 19s 18ms/step - loss: 1.7790e-04 - mean_absolute_error: 0.0084 - val_loss: 1.0732e-04 - val_mean_absolute_error: 0.0076\n",
            "1064/1064 [==============================] - 19s 18ms/step - loss: 9.9459e-05 - mean_absolute_error: 0.0063 - val_loss: 9.9036e-05 - val_mean_absolute_error: 0.0058\n",
            "1064/1064 [==============================] - 20s 19ms/step - loss: 9.9345e-05 - mean_absolute_error: 0.0063 - val_loss: 8.5748e-05 - val_mean_absolute_error: 0.0049\n",
            "1064/1064 [==============================] - 19s 18ms/step - loss: 1.4336e-04 - mean_absolute_error: 0.0075 - val_loss: 7.1963e-05 - val_mean_absolute_error: 0.0057\n",
            "1064/1064 [==============================] - 20s 18ms/step - loss: 1.1144e-04 - mean_absolute_error: 0.0068 - val_loss: 1.0146e-04 - val_mean_absolute_error: 0.0061\n",
            "1064/1064 [==============================] - 19s 18ms/step - loss: 1.2315e-04 - mean_absolute_error: 0.0070 - val_loss: 4.5637e-05 - val_mean_absolute_error: 0.0031\n",
            "1064/1064 [==============================] - 19s 18ms/step - loss: 1.4869e-04 - mean_absolute_error: 0.0080 - val_loss: 6.0762e-05 - val_mean_absolute_error: 0.0063\n",
            "1064/1064 [==============================] - 19s 18ms/step - loss: 1.0499e-04 - mean_absolute_error: 0.0066 - val_loss: 4.2442e-05 - val_mean_absolute_error: 0.0032\n",
            "1064/1064 [==============================] - 19s 18ms/step - loss: 1.7691e-04 - mean_absolute_error: 0.0084 - val_loss: 1.0584e-04 - val_mean_absolute_error: 0.0075\n",
            "1064/1064 [==============================] - 20s 18ms/step - loss: 9.9179e-05 - mean_absolute_error: 0.0063 - val_loss: 9.9380e-05 - val_mean_absolute_error: 0.0058\n",
            "1064/1064 [==============================] - 20s 18ms/step - loss: 9.9521e-05 - mean_absolute_error: 0.0063 - val_loss: 8.6730e-05 - val_mean_absolute_error: 0.0049\n",
            "1064/1064 [==============================] - 20s 18ms/step - loss: 1.4313e-04 - mean_absolute_error: 0.0075 - val_loss: 7.1891e-05 - val_mean_absolute_error: 0.0058\n",
            "1064/1064 [==============================] - 19s 18ms/step - loss: 1.1141e-04 - mean_absolute_error: 0.0068 - val_loss: 1.0151e-04 - val_mean_absolute_error: 0.0061\n",
            "1064/1064 [==============================] - 20s 18ms/step - loss: 1.2308e-04 - mean_absolute_error: 0.0070 - val_loss: 4.5101e-05 - val_mean_absolute_error: 0.0030\n",
            "1064/1064 [==============================] - 19s 18ms/step - loss: 1.4816e-04 - mean_absolute_error: 0.0080 - val_loss: 5.9550e-05 - val_mean_absolute_error: 0.0062\n",
            "1064/1064 [==============================] - 19s 18ms/step - loss: 1.0447e-04 - mean_absolute_error: 0.0066 - val_loss: 4.2276e-05 - val_mean_absolute_error: 0.0032\n",
            "1064/1064 [==============================] - 19s 18ms/step - loss: 1.7714e-04 - mean_absolute_error: 0.0084 - val_loss: 1.0667e-04 - val_mean_absolute_error: 0.0076\n",
            "1064/1064 [==============================] - 20s 19ms/step - loss: 9.9606e-05 - mean_absolute_error: 0.0063 - val_loss: 9.9072e-05 - val_mean_absolute_error: 0.0058\n",
            "1064/1064 [==============================] - 20s 18ms/step - loss: 9.9265e-05 - mean_absolute_error: 0.0063 - val_loss: 8.5623e-05 - val_mean_absolute_error: 0.0049\n",
            "1064/1064 [==============================] - 20s 19ms/step - loss: 1.4309e-04 - mean_absolute_error: 0.0075 - val_loss: 7.1286e-05 - val_mean_absolute_error: 0.0057\n",
            "1064/1064 [==============================] - 20s 18ms/step - loss: 1.1132e-04 - mean_absolute_error: 0.0068 - val_loss: 1.0075e-04 - val_mean_absolute_error: 0.0061\n",
            "1064/1064 [==============================] - 19s 18ms/step - loss: 1.2302e-04 - mean_absolute_error: 0.0070 - val_loss: 4.4061e-05 - val_mean_absolute_error: 0.0030\n",
            "1064/1064 [==============================] - 19s 18ms/step - loss: 1.4790e-04 - mean_absolute_error: 0.0080 - val_loss: 6.0647e-05 - val_mean_absolute_error: 0.0063\n",
            "1064/1064 [==============================] - 20s 19ms/step - loss: 1.0467e-04 - mean_absolute_error: 0.0066 - val_loss: 4.1564e-05 - val_mean_absolute_error: 0.0032\n",
            "1064/1064 [==============================] - 19s 18ms/step - loss: 1.7713e-04 - mean_absolute_error: 0.0084 - val_loss: 1.0584e-04 - val_mean_absolute_error: 0.0076\n",
            "1064/1064 [==============================] - 19s 18ms/step - loss: 9.9385e-05 - mean_absolute_error: 0.0063 - val_loss: 9.8730e-05 - val_mean_absolute_error: 0.0058\n",
            "1064/1064 [==============================] - 19s 18ms/step - loss: 9.9400e-05 - mean_absolute_error: 0.0063 - val_loss: 8.5158e-05 - val_mean_absolute_error: 0.0049\n",
            "1064/1064 [==============================] - 19s 18ms/step - loss: 1.4299e-04 - mean_absolute_error: 0.0074 - val_loss: 7.1832e-05 - val_mean_absolute_error: 0.0058\n",
            "1064/1064 [==============================] - 19s 18ms/step - loss: 1.1163e-04 - mean_absolute_error: 0.0068 - val_loss: 1.0073e-04 - val_mean_absolute_error: 0.0061\n",
            "1064/1064 [==============================] - 20s 19ms/step - loss: 1.2312e-04 - mean_absolute_error: 0.0070 - val_loss: 4.3465e-05 - val_mean_absolute_error: 0.0030\n",
            "1064/1064 [==============================] - 20s 18ms/step - loss: 1.4806e-04 - mean_absolute_error: 0.0080 - val_loss: 6.0905e-05 - val_mean_absolute_error: 0.0063\n",
            "1064/1064 [==============================] - 19s 18ms/step - loss: 1.0497e-04 - mean_absolute_error: 0.0066 - val_loss: 4.1941e-05 - val_mean_absolute_error: 0.0032\n",
            "1064/1064 [==============================] - 19s 18ms/step - loss: 1.7718e-04 - mean_absolute_error: 0.0084 - val_loss: 1.0405e-04 - val_mean_absolute_error: 0.0074\n",
            "1064/1064 [==============================] - 20s 18ms/step - loss: 9.9103e-05 - mean_absolute_error: 0.0063 - val_loss: 9.8483e-05 - val_mean_absolute_error: 0.0058\n",
            "1064/1064 [==============================] - 19s 18ms/step - loss: 9.9359e-05 - mean_absolute_error: 0.0063 - val_loss: 8.4947e-05 - val_mean_absolute_error: 0.0048\n",
            "1064/1064 [==============================] - 19s 18ms/step - loss: 1.4336e-04 - mean_absolute_error: 0.0075 - val_loss: 7.0977e-05 - val_mean_absolute_error: 0.0057\n",
            "1064/1064 [==============================] - 19s 18ms/step - loss: 1.1132e-04 - mean_absolute_error: 0.0068 - val_loss: 1.0067e-04 - val_mean_absolute_error: 0.0061\n",
            "1064/1064 [==============================] - 20s 19ms/step - loss: 1.2297e-04 - mean_absolute_error: 0.0070 - val_loss: 4.4484e-05 - val_mean_absolute_error: 0.0030\n",
            "1064/1064 [==============================] - 20s 19ms/step - loss: 1.4793e-04 - mean_absolute_error: 0.0080 - val_loss: 5.7702e-05 - val_mean_absolute_error: 0.0061\n",
            "1064/1064 [==============================] - 19s 18ms/step - loss: 1.0446e-04 - mean_absolute_error: 0.0066 - val_loss: 4.2334e-05 - val_mean_absolute_error: 0.0032\n",
            "1064/1064 [==============================] - 20s 19ms/step - loss: 1.7682e-04 - mean_absolute_error: 0.0084 - val_loss: 1.0387e-04 - val_mean_absolute_error: 0.0074\n",
            "1064/1064 [==============================] - 20s 18ms/step - loss: 9.9162e-05 - mean_absolute_error: 0.0063 - val_loss: 9.9462e-05 - val_mean_absolute_error: 0.0058\n",
            "1064/1064 [==============================] - 19s 18ms/step - loss: 9.9302e-05 - mean_absolute_error: 0.0063 - val_loss: 8.5981e-05 - val_mean_absolute_error: 0.0049\n",
            "1064/1064 [==============================] - 20s 18ms/step - loss: 1.4294e-04 - mean_absolute_error: 0.0074 - val_loss: 7.1115e-05 - val_mean_absolute_error: 0.0057\n",
            "1064/1064 [==============================] - 19s 18ms/step - loss: 1.1123e-04 - mean_absolute_error: 0.0068 - val_loss: 1.0085e-04 - val_mean_absolute_error: 0.0061\n",
            "1064/1064 [==============================] - 19s 18ms/step - loss: 1.2324e-04 - mean_absolute_error: 0.0070 - val_loss: 4.3988e-05 - val_mean_absolute_error: 0.0030\n",
            "1064/1064 [==============================] - 19s 18ms/step - loss: 1.4814e-04 - mean_absolute_error: 0.0080 - val_loss: 5.9908e-05 - val_mean_absolute_error: 0.0062\n",
            "1064/1064 [==============================] - 20s 19ms/step - loss: 1.0510e-04 - mean_absolute_error: 0.0066 - val_loss: 4.1780e-05 - val_mean_absolute_error: 0.0032\n",
            "1064/1064 [==============================] - 20s 18ms/step - loss: 1.7660e-04 - mean_absolute_error: 0.0084 - val_loss: 1.0328e-04 - val_mean_absolute_error: 0.0074\n",
            "1064/1064 [==============================] - 19s 18ms/step - loss: 9.9038e-05 - mean_absolute_error: 0.0063 - val_loss: 9.8639e-05 - val_mean_absolute_error: 0.0058\n",
            "1064/1064 [==============================] - 19s 18ms/step - loss: 9.9460e-05 - mean_absolute_error: 0.0063 - val_loss: 8.4884e-05 - val_mean_absolute_error: 0.0048\n",
            "1064/1064 [==============================] - 20s 18ms/step - loss: 1.4313e-04 - mean_absolute_error: 0.0075 - val_loss: 7.1296e-05 - val_mean_absolute_error: 0.0057\n",
            "1064/1064 [==============================] - 19s 18ms/step - loss: 1.1171e-04 - mean_absolute_error: 0.0068 - val_loss: 1.0023e-04 - val_mean_absolute_error: 0.0061\n",
            "1064/1064 [==============================] - 19s 18ms/step - loss: 1.2356e-04 - mean_absolute_error: 0.0070 - val_loss: 4.4872e-05 - val_mean_absolute_error: 0.0030\n",
            "1064/1064 [==============================] - 19s 18ms/step - loss: 1.4821e-04 - mean_absolute_error: 0.0080 - val_loss: 5.8432e-05 - val_mean_absolute_error: 0.0061\n",
            "1064/1064 [==============================] - 20s 19ms/step - loss: 1.0450e-04 - mean_absolute_error: 0.0066 - val_loss: 4.2223e-05 - val_mean_absolute_error: 0.0032\n",
            "1064/1064 [==============================] - 20s 19ms/step - loss: 1.7682e-04 - mean_absolute_error: 0.0084 - val_loss: 1.0276e-04 - val_mean_absolute_error: 0.0073\n",
            "1064/1064 [==============================] - 20s 19ms/step - loss: 9.9103e-05 - mean_absolute_error: 0.0063 - val_loss: 9.9536e-05 - val_mean_absolute_error: 0.0058\n",
            "1064/1064 [==============================] - 19s 18ms/step - loss: 9.9362e-05 - mean_absolute_error: 0.0063 - val_loss: 8.6013e-05 - val_mean_absolute_error: 0.0049\n",
            "1064/1064 [==============================] - 20s 19ms/step - loss: 1.4289e-04 - mean_absolute_error: 0.0074 - val_loss: 7.0720e-05 - val_mean_absolute_error: 0.0056\n",
            "1064/1064 [==============================] - 20s 19ms/step - loss: 1.1110e-04 - mean_absolute_error: 0.0068 - val_loss: 1.0039e-04 - val_mean_absolute_error: 0.0061\n",
            "1064/1064 [==============================] - 20s 18ms/step - loss: 1.2287e-04 - mean_absolute_error: 0.0070 - val_loss: 4.3083e-05 - val_mean_absolute_error: 0.0029\n",
            "1064/1064 [==============================] - 19s 18ms/step - loss: 1.4809e-04 - mean_absolute_error: 0.0080 - val_loss: 5.9450e-05 - val_mean_absolute_error: 0.0062\n",
            "1064/1064 [==============================] - 20s 19ms/step - loss: 1.0517e-04 - mean_absolute_error: 0.0066 - val_loss: 4.1635e-05 - val_mean_absolute_error: 0.0032\n"
          ]
        }
      ]
    },
    {
      "cell_type": "code",
      "source": [
        "#Loss per epoch\n",
        "#history.history Contains the loss and metrics per epoch\n",
        "loss_per_epoch= stateful_model.history.history['loss']\n",
        "val_loss_per_epoch = stateful_model.history.history['val_loss']\n",
        "plt.plot(range(len(val_loss_per_epoch)), val_loss_per_epoch, label=\"val_loss\")\n",
        "plt.plot(range(len(loss_per_epoch)), loss_per_epoch, label = \"loss\")\n",
        "plt.legend()\n",
        "plt.show()"
      ],
      "metadata": {
        "id": "jmbJrmNFzfOd",
        "colab": {
          "base_uri": "https://localhost:8080/",
          "height": 282
        },
        "outputId": "9e44835b-da70-4bfd-bb48-6cb7e7f3928d"
      },
      "execution_count": null,
      "outputs": [
        {
          "output_type": "display_data",
          "data": {
            "text/plain": [
              "<Figure size 432x288 with 1 Axes>"
            ],
            "image/png": "[encoded data removed]"
          },
          "metadata": {}
        }
      ]
    },
    {
      "cell_type": "markdown",
      "source": [
        "**Save & load the model**"
      ],
      "metadata": {
        "id": "QbPsMOKmckrS"
      }
    },
    {
      "cell_type": "code",
      "source": [
        "#Save the model\n",
        "stateful_model.save(\"stateful_model_v3_t1_univ.h5\")"
      ],
      "metadata": {
        "id": "fBa-ZBwEQQ9_"
      },
      "execution_count": null,
      "outputs": []
    },
    {
      "cell_type": "code",
      "source": [
        "#Load the model\n",
        "#stateful_model = keras.models.load_model(\"stateful_model_t1_univ.h5\")\n",
        "stateful_model.summary()"
      ],
      "metadata": {
        "id": "9q8-8d7vZIKD",
        "colab": {
          "base_uri": "https://localhost:8080/"
        },
        "outputId": "5bb7f617-0c8e-4579-9cc1-4b2bfbd04b8a"
      },
      "execution_count": null,
      "outputs": [
        {
          "output_type": "stream",
          "name": "stdout",
          "text": [
            "Model: \"sequential_2\"\n",
            "_________________________________________________________________\n",
            " Layer (type)                Output Shape              Param #   \n",
            "=================================================================\n",
            " lstm_2 (LSTM)               (4, 16)                   1152      \n",
            "                                                                 \n",
            " dense_2 (Dense)             (4, 1)                    17        \n",
            "                                                                 \n",
            "=================================================================\n",
            "Total params: 1,169\n",
            "Trainable params: 1,169\n",
            "Non-trainable params: 0\n",
            "_________________________________________________________________\n"
          ]
        }
      ]
    },
    {
      "cell_type": "code",
      "source": [
        "#Save the model\n",
        "#model.save('/content/drive/MyDrive/MESIO/TFM/Models')"
      ],
      "metadata": {
        "id": "6savKJI6eo0B"
      },
      "execution_count": null,
      "outputs": []
    },
    {
      "cell_type": "code",
      "source": [
        "#Load the model\n",
        "#model = keras.models.load_model('/content/drive/MyDrive/MESIO/TFM/Models')\n",
        "#model.summary()"
      ],
      "metadata": {
        "id": "At0d4zymkTbo"
      },
      "execution_count": null,
      "outputs": []
    },
    {
      "cell_type": "markdown",
      "source": [
        "**Evaluate by country**"
      ],
      "metadata": {
        "id": "n1Fg4bCcB3Fn"
      }
    },
    {
      "cell_type": "code",
      "source": [
        "predictions_euro = stateful_model.predict(reshaping(test_euro_x), batch_size=4)\n",
        "predictions_uk = stateful_model.predict(reshaping(test_uk_x), batch_size=4)\n",
        "predictions_us = stateful_model.predict(reshaping(test_us_x), batch_size=4)\n",
        "predictions_germany = stateful_model.predict(reshaping(test_germany_x), batch_size=4)\n",
        "predictions_italy = stateful_model.predict(reshaping(test_italy_x), batch_size=4)\n",
        "predictions_spain = stateful_model.predict(reshaping(test_spain_x), batch_size=4)\n",
        "predictions_portugal = stateful_model.predict(reshaping(test_portugal_x), batch_size=4)\n",
        "predictions_france = stateful_model.predict(reshaping(test_france_x), batch_size=4)"
      ],
      "metadata": {
        "colab": {
          "base_uri": "https://localhost:8080/"
        },
        "id": "ava6BSnq4Ju1",
        "outputId": "37888dcc-0f73-46da-9733-065d8777f8db"
      },
      "execution_count": null,
      "outputs": [
        {
          "output_type": "stream",
          "name": "stdout",
          "text": [
            "127/127 [==============================] - 1s 3ms/step\n",
            "127/127 [==============================] - 0s 3ms/step\n",
            "127/127 [==============================] - 0s 3ms/step\n",
            "127/127 [==============================] - 0s 3ms/step\n",
            "127/127 [==============================] - 0s 3ms/step\n",
            "127/127 [==============================] - 0s 3ms/step\n",
            "127/127 [==============================] - 0s 3ms/step\n",
            "127/127 [==============================] - 0s 3ms/step\n"
          ]
        }
      ]
    },
    {
      "cell_type": "code",
      "source": [
        "#Model performance:\n",
        "pred = predictions_portugal #choose country\n",
        "actual = test_portugal_y    #choose country\n",
        "\n",
        "mse = mean_squared_error(pred, actual)\n",
        "mae = mean_absolute_error(pred, actual)\n",
        "\n",
        "print('MSE: %.9f' % mse)\n",
        "print('MAE: %.9f' % mae)"
      ],
      "metadata": {
        "colab": {
          "base_uri": "https://localhost:8080/"
        },
        "id": "BWLUEA42BKWK",
        "outputId": "1167bf19-dfff-4515-e66c-419e70e756ab"
      },
      "execution_count": null,
      "outputs": [
        {
          "output_type": "stream",
          "name": "stdout",
          "text": [
            "MSE: 0.000038494\n",
            "MAE: 0.003824843\n"
          ]
        }
      ]
    },
    {
      "cell_type": "code",
      "source": [
        "# Plot the predictions\n",
        "plt.plot(range(len(pred)), pred, label=\"pred\")\n",
        "plt.plot(range(len(actual)), actual, label = \"actual\")\n",
        "plt.legend()\n",
        "plt.show()"
      ],
      "metadata": {
        "colab": {
          "base_uri": "https://localhost:8080/",
          "height": 282
        },
        "id": "-T0YtAdD4I0s",
        "outputId": "dfdc55f7-e012-461f-b7b8-0336632beeb1"
      },
      "execution_count": null,
      "outputs": [
        {
          "output_type": "display_data",
          "data": {
            "text/plain": [
              "<Figure size 432x288 with 1 Axes>"
            ],
            "image/png": "[encoded data removed]"
          },
          "metadata": {}
        }
      ]
    }
  ]
}