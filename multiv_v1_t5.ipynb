{
  "nbformat": 4,
  "nbformat_minor": 0,
  "metadata": {
    "colab": {
      "provenance": [],
      "machine_shape": "hm",
      "authorship_tag": "ABX9TyPGtdxmBl44MM0hoSxS8aV0",
      "include_colab_link": true
    },
    "kernelspec": {
      "name": "python3",
      "display_name": "Python 3"
    },
    "language_info": {
      "name": "python"
    },
    "gpuClass": "premium",
    "accelerator": "TPU"
  },
  "cells": [
    {
      "cell_type": "markdown",
      "metadata": {
        "id": "view-in-github",
        "colab_type": "text"
      },
      "source": [
        "<a href=\"https://colab.research.google.com/github/oriol33/TFM_OriolGairin/blob/main/multiv_v1_t5.ipynb\" target=\"_parent\"><img src=\"https://colab.research.google.com/assets/colab-badge.svg\" alt=\"Open In Colab\"/></a>"
      ]
    },
    {
      "cell_type": "markdown",
      "source": [
        "# **LSTM Forecast on CISS series**"
      ],
      "metadata": {
        "id": "QkSdK_xdDJcS"
      }
    },
    {
      "cell_type": "code",
      "source": [
        "#Import libraries\n",
        "import math\n",
        "import numpy as np\n",
        "import pandas as pd\n",
        "from keras.models import Sequential\n",
        "from keras.layers import Dense, LSTM, Dropout\n",
        "import matplotlib.pyplot as plt\n",
        "import tensorflow as tf\n",
        "from tensorflow import keras\n",
        "from sklearn.metrics import mean_absolute_error, mean_squared_error\n",
        "#from keras.engine.sequential import training_utils\n",
        "#from sklearn.preprocessing import MinMaxScaler\n",
        "\n",
        "plt.style.use('fivethirtyeight')"
      ],
      "metadata": {
        "id": "xf6hYAAIEiP-"
      },
      "execution_count": null,
      "outputs": []
    },
    {
      "cell_type": "code",
      "source": [
        "pip install keras-tuner --upgrade"
      ],
      "metadata": {
        "id": "SMyJDAC3dtQ5"
      },
      "execution_count": null,
      "outputs": []
    },
    {
      "cell_type": "code",
      "source": [
        "import keras_tuner"
      ],
      "metadata": {
        "id": "BN_z24Pbd-_U"
      },
      "execution_count": null,
      "outputs": []
    },
    {
      "cell_type": "code",
      "source": [
        "#For saving and loading our model\n",
        "import os \n",
        "from google.colab import drive\n",
        "drive.mount('/content/drive')"
      ],
      "metadata": {
        "colab": {
          "base_uri": "https://localhost:8080/"
        },
        "id": "Q1rpIQJtZ5eV",
        "outputId": "69a9fef1-332d-45ca-bf44-4bbe87e50bd8"
      },
      "execution_count": null,
      "outputs": [
        {
          "output_type": "stream",
          "name": "stdout",
          "text": [
            "Mounted at /content/drive\n"
          ]
        }
      ]
    },
    {
      "cell_type": "code",
      "source": [
        "cwd = os.getcwd()  # Get the current working directory (cwd)\n",
        "files = os.listdir(cwd)  # Get all the files in that directory\n",
        "print(\"Files in %r: %s\" % (cwd, files))"
      ],
      "metadata": {
        "colab": {
          "base_uri": "https://localhost:8080/"
        },
        "id": "g6_WcEaCdVMN",
        "outputId": "88dd7c16-fb7b-46b3-979f-a0895c09e57c"
      },
      "execution_count": null,
      "outputs": [
        {
          "output_type": "stream",
          "name": "stdout",
          "text": [
            "Files in '/content': ['.config', 'drive', 'sample_data']\n"
          ]
        }
      ]
    },
    {
      "cell_type": "code",
      "source": [
        "# change the OS to use your project folder as the working directory\n",
        "os.chdir('/content/drive/MyDrive/MESIO/TFM/Models')"
      ],
      "metadata": {
        "id": "hE3iHCQHduPs"
      },
      "execution_count": null,
      "outputs": []
    },
    {
      "cell_type": "code",
      "source": [
        "#Comprovation purposes\n",
        "!touch 'new_file_in_working_directory.txt'"
      ],
      "metadata": {
        "id": "hlwGN2D4eQ26"
      },
      "execution_count": null,
      "outputs": []
    },
    {
      "cell_type": "code",
      "source": [
        "#Entorno de ejecución\n",
        "gpu_info = !nvidia-smi\n",
        "gpu_info = '\\n'.join(gpu_info)\n",
        "if gpu_info.find('failed') >= 0:\n",
        "  print('Not connected to a GPU')\n",
        "else:\n",
        "  print(gpu_info)"
      ],
      "metadata": {
        "colab": {
          "base_uri": "https://localhost:8080/"
        },
        "id": "XsteEh1SB7A4",
        "outputId": "eb383040-fc56-400a-ba9a-792a399b776b"
      },
      "execution_count": null,
      "outputs": [
        {
          "output_type": "stream",
          "name": "stdout",
          "text": [
            "Not connected to a GPU\n"
          ]
        }
      ]
    },
    {
      "cell_type": "code",
      "source": [
        "from psutil import virtual_memory\n",
        "ram_gb = virtual_memory().total / 1e9\n",
        "print('Your runtime has {:.1f} gigabytes of available RAM\\n'.format(ram_gb))\n",
        "\n",
        "if ram_gb < 20:\n",
        "  print('Not using a high-RAM runtime')\n",
        "else:\n",
        "  print('You are using a high-RAM runtime!')"
      ],
      "metadata": {
        "colab": {
          "base_uri": "https://localhost:8080/"
        },
        "id": "WZ7iEv03ENRK",
        "outputId": "edf8d4b6-9fe4-4cb4-ff9d-f5cb2281ab99"
      },
      "execution_count": null,
      "outputs": [
        {
          "output_type": "stream",
          "name": "stdout",
          "text": [
            "Your runtime has 37.8 gigabytes of available RAM\n",
            "\n",
            "You are using a high-RAM runtime!\n"
          ]
        }
      ]
    },
    {
      "cell_type": "markdown",
      "source": [
        "**Upload and preparation of the data**"
      ],
      "metadata": {
        "id": "3dVOZdCeDZCJ"
      }
    },
    {
      "cell_type": "code",
      "execution_count": null,
      "metadata": {
        "id": "wpSX4glUC9g0",
        "colab": {
          "base_uri": "https://localhost:8080/",
          "height": 56
        },
        "outputId": "6e1d31ed-e28c-463d-fa8c-671f47f162a0"
      },
      "outputs": [
        {
          "output_type": "display_data",
          "data": {
            "text/plain": [
              "<IPython.core.display.HTML object>"
            ],
            "text/html": [
              "\n",
              "     <input type=\"file\" id=\"files-aad91881-d8e0-40a8-9a19-e3e4fd15d669\" name=\"files[]\" multiple disabled\n",
              "        style=\"border:none\" />\n",
              "     <output id=\"result-aad91881-d8e0-40a8-9a19-e3e4fd15d669\">\n",
              "      Upload widget is only available when the cell has been executed in the\n",
              "      current browser session. Please rerun this cell to enable.\n",
              "      </output>\n",
              "      <script>// Copyright 2017 Google LLC\n",
              "//\n",
              "// Licensed under the Apache License, Version 2.0 (the \"License\");\n",
              "// you may not use this file except in compliance with the License.\n",
              "// You may obtain a copy of the License at\n",
              "//\n",
              "//      http://www.apache.org/licenses/LICENSE-2.0\n",
              "//\n",
              "// Unless required by applicable law or agreed to in writing, software\n",
              "// distributed under the License is distributed on an \"AS IS\" BASIS,\n",
              "// WITHOUT WARRANTIES OR CONDITIONS OF ANY KIND, either express or implied.\n",
              "// See the License for the specific language governing permissions and\n",
              "// limitations under the License.\n",
              "\n",
              "/**\n",
              " * @fileoverview Helpers for google.colab Python module.\n",
              " */\n",
              "(function(scope) {\n",
              "function span(text, styleAttributes = {}) {\n",
              "  const element = document.createElement('span');\n",
              "  element.textContent = text;\n",
              "  for (const key of Object.keys(styleAttributes)) {\n",
              "    element.style[key] = styleAttributes[key];\n",
              "  }\n",
              "  return element;\n",
              "}\n",
              "\n",
              "// Max number of bytes which will be uploaded at a time.\n",
              "const MAX_PAYLOAD_SIZE = 100 * 1024;\n",
              "\n",
              "function _uploadFiles(inputId, outputId) {\n",
              "  const steps = uploadFilesStep(inputId, outputId);\n",
              "  const outputElement = document.getElementById(outputId);\n",
              "  // Cache steps on the outputElement to make it available for the next call\n",
              "  // to uploadFilesContinue from Python.\n",
              "  outputElement.steps = steps;\n",
              "\n",
              "  return _uploadFilesContinue(outputId);\n",
              "}\n",
              "\n",
              "// This is roughly an async generator (not supported in the browser yet),\n",
              "// where there are multiple asynchronous steps and the Python side is going\n",
              "// to poll for completion of each step.\n",
              "// This uses a Promise to block the python side on completion of each step,\n",
              "// then passes the result of the previous step as the input to the next step.\n",
              "function _uploadFilesContinue(outputId) {\n",
              "  const outputElement = document.getElementById(outputId);\n",
              "  const steps = outputElement.steps;\n",
              "\n",
              "  const next = steps.next(outputElement.lastPromiseValue);\n",
              "  return Promise.resolve(next.value.promise).then((value) => {\n",
              "    // Cache the last promise value to make it available to the next\n",
              "    // step of the generator.\n",
              "    outputElement.lastPromiseValue = value;\n",
              "    return next.value.response;\n",
              "  });\n",
              "}\n",
              "\n",
              "/**\n",
              " * Generator function which is called between each async step of the upload\n",
              " * process.\n",
              " * @param {string} inputId Element ID of the input file picker element.\n",
              " * @param {string} outputId Element ID of the output display.\n",
              " * @return {!Iterable<!Object>} Iterable of next steps.\n",
              " */\n",
              "function* uploadFilesStep(inputId, outputId) {\n",
              "  const inputElement = document.getElementById(inputId);\n",
              "  inputElement.disabled = false;\n",
              "\n",
              "  const outputElement = document.getElementById(outputId);\n",
              "  outputElement.innerHTML = '';\n",
              "\n",
              "  const pickedPromise = new Promise((resolve) => {\n",
              "    inputElement.addEventListener('change', (e) => {\n",
              "      resolve(e.target.files);\n",
              "    });\n",
              "  });\n",
              "\n",
              "  const cancel = document.createElement('button');\n",
              "  inputElement.parentElement.appendChild(cancel);\n",
              "  cancel.textContent = 'Cancel upload';\n",
              "  const cancelPromise = new Promise((resolve) => {\n",
              "    cancel.onclick = () => {\n",
              "      resolve(null);\n",
              "    };\n",
              "  });\n",
              "\n",
              "  // Wait for the user to pick the files.\n",
              "  const files = yield {\n",
              "    promise: Promise.race([pickedPromise, cancelPromise]),\n",
              "    response: {\n",
              "      action: 'starting',\n",
              "    }\n",
              "  };\n",
              "\n",
              "  cancel.remove();\n",
              "\n",
              "  // Disable the input element since further picks are not allowed.\n",
              "  inputElement.disabled = true;\n",
              "\n",
              "  if (!files) {\n",
              "    return {\n",
              "      response: {\n",
              "        action: 'complete',\n",
              "      }\n",
              "    };\n",
              "  }\n",
              "\n",
              "  for (const file of files) {\n",
              "    const li = document.createElement('li');\n",
              "    li.append(span(file.name, {fontWeight: 'bold'}));\n",
              "    li.append(span(\n",
              "        `(${file.type || 'n/a'}) - ${file.size} bytes, ` +\n",
              "        `last modified: ${\n",
              "            file.lastModifiedDate ? file.lastModifiedDate.toLocaleDateString() :\n",
              "                                    'n/a'} - `));\n",
              "    const percent = span('0% done');\n",
              "    li.appendChild(percent);\n",
              "\n",
              "    outputElement.appendChild(li);\n",
              "\n",
              "    const fileDataPromise = new Promise((resolve) => {\n",
              "      const reader = new FileReader();\n",
              "      reader.onload = (e) => {\n",
              "        resolve(e.target.result);\n",
              "      };\n",
              "      reader.readAsArrayBuffer(file);\n",
              "    });\n",
              "    // Wait for the data to be ready.\n",
              "    let fileData = yield {\n",
              "      promise: fileDataPromise,\n",
              "      response: {\n",
              "        action: 'continue',\n",
              "      }\n",
              "    };\n",
              "\n",
              "    // Use a chunked sending to avoid message size limits. See b/62115660.\n",
              "    let position = 0;\n",
              "    do {\n",
              "      const length = Math.min(fileData.byteLength - position, MAX_PAYLOAD_SIZE);\n",
              "      const chunk = new Uint8Array(fileData, position, length);\n",
              "      position += length;\n",
              "\n",
              "      const base64 = btoa(String.fromCharCode.apply(null, chunk));\n",
              "      yield {\n",
              "        response: {\n",
              "          action: 'append',\n",
              "          file: file.name,\n",
              "          data: base64,\n",
              "        },\n",
              "      };\n",
              "\n",
              "      let percentDone = fileData.byteLength === 0 ?\n",
              "          100 :\n",
              "          Math.round((position / fileData.byteLength) * 100);\n",
              "      percent.textContent = `${percentDone}% done`;\n",
              "\n",
              "    } while (position < fileData.byteLength);\n",
              "  }\n",
              "\n",
              "  // All done.\n",
              "  yield {\n",
              "    response: {\n",
              "      action: 'complete',\n",
              "    }\n",
              "  };\n",
              "}\n",
              "\n",
              "scope.google = scope.google || {};\n",
              "scope.google.colab = scope.google.colab || {};\n",
              "scope.google.colab._files = {\n",
              "  _uploadFiles,\n",
              "  _uploadFilesContinue,\n",
              "};\n",
              "})(self);\n",
              "</script> "
            ]
          },
          "metadata": {}
        },
        {
          "output_type": "execute_result",
          "data": {
            "text/plain": [
              "{}"
            ]
          },
          "metadata": {},
          "execution_count": 8
        }
      ],
      "source": [
        "#Import files from desktop\n",
        "from google.colab import files\n",
        " \n",
        "files.upload()  "
      ]
    },
    {
      "cell_type": "code",
      "source": [
        "#Read csv\n",
        "euro = pd.read_csv('euro.csv', skiprows=5)\n",
        "uk = pd.read_csv('uk.csv', skiprows=5)\n",
        "us = pd.read_csv('us.csv', skiprows=5)\n",
        "china = pd.read_csv('china.csv', skiprows=5)\n",
        "germany = pd.read_csv('germany.csv', skiprows=5)\n",
        "italy = pd.read_csv('italy.csv', skiprows=5)\n",
        "spain = pd.read_csv('spain.csv', skiprows=5)\n",
        "portugal = pd.read_csv('portugal.csv', skiprows=5)\n",
        "france = pd.read_csv('france.csv', skiprows=5)"
      ],
      "metadata": {
        "id": "GTB6iws_EeQE"
      },
      "execution_count": null,
      "outputs": []
    },
    {
      "cell_type": "code",
      "source": [
        "# Change column names\n",
        "euro.columns = ['date', 'value', 'status']\n",
        "uk.columns = ['date', 'value', 'status']\n",
        "us.columns = ['date', 'value', 'status']\n",
        "china.columns = ['date', 'value', 'status', 'comment']\n",
        "germany.columns = ['date', 'value', 'status', 'comment']\n",
        "italy.columns = ['date', 'value', 'status']\n",
        "spain.columns = ['date', 'value', 'status']\n",
        "portugal.columns = ['date', 'value', 'status']\n",
        "france.columns = ['date', 'value', 'status']"
      ],
      "metadata": {
        "id": "0rAw6QQRFGbs"
      },
      "execution_count": null,
      "outputs": []
    },
    {
      "cell_type": "code",
      "source": [
        "uk"
      ],
      "metadata": {
        "colab": {
          "base_uri": "https://localhost:8080/",
          "height": 423
        },
        "id": "RRzAj68qGFyJ",
        "outputId": "ae58fcdf-554d-4417-aabd-311dea4d783d"
      },
      "execution_count": null,
      "outputs": [
        {
          "output_type": "execute_result",
          "data": {
            "text/plain": [
              "            date   value            status\n",
              "0     2022-09-16  0.2753  Normal value (A)\n",
              "1     2022-09-15  0.2615  Normal value (A)\n",
              "2     2022-09-14  0.2571  Normal value (A)\n",
              "3     2022-09-13  0.2375  Normal value (A)\n",
              "4     2022-09-12  0.2234  Normal value (A)\n",
              "...          ...     ...               ...\n",
              "5750  2000-09-07  0.0308  Normal value (A)\n",
              "5751  2000-09-06  0.0254  Normal value (A)\n",
              "5752  2000-09-05  0.0269  Normal value (A)\n",
              "5753  2000-09-04  0.0331  Normal value (A)\n",
              "5754  2000-09-01  0.0305  Normal value (A)\n",
              "\n",
              "[5755 rows x 3 columns]"
            ],
            "text/html": [
              "\n",
              "  <div id=\"df-33112712-9d59-47cc-8c42-4bf952f0c2cf\">\n",
              "    <div class=\"colab-df-container\">\n",
              "      <div>\n",
              "<style scoped>\n",
              "    .dataframe tbody tr th:only-of-type {\n",
              "        vertical-align: middle;\n",
              "    }\n",
              "\n",
              "    .dataframe tbody tr th {\n",
              "        vertical-align: top;\n",
              "    }\n",
              "\n",
              "    .dataframe thead th {\n",
              "        text-align: right;\n",
              "    }\n",
              "</style>\n",
              "<table border=\"1\" class=\"dataframe\">\n",
              "  <thead>\n",
              "    <tr style=\"text-align: right;\">\n",
              "      <th></th>\n",
              "      <th>date</th>\n",
              "      <th>value</th>\n",
              "      <th>status</th>\n",
              "    </tr>\n",
              "  </thead>\n",
              "  <tbody>\n",
              "    <tr>\n",
              "      <th>0</th>\n",
              "      <td>2022-09-16</td>\n",
              "      <td>0.2753</td>\n",
              "      <td>Normal value (A)</td>\n",
              "    </tr>\n",
              "    <tr>\n",
              "      <th>1</th>\n",
              "      <td>2022-09-15</td>\n",
              "      <td>0.2615</td>\n",
              "      <td>Normal value (A)</td>\n",
              "    </tr>\n",
              "    <tr>\n",
              "      <th>2</th>\n",
              "      <td>2022-09-14</td>\n",
              "      <td>0.2571</td>\n",
              "      <td>Normal value (A)</td>\n",
              "    </tr>\n",
              "    <tr>\n",
              "      <th>3</th>\n",
              "      <td>2022-09-13</td>\n",
              "      <td>0.2375</td>\n",
              "      <td>Normal value (A)</td>\n",
              "    </tr>\n",
              "    <tr>\n",
              "      <th>4</th>\n",
              "      <td>2022-09-12</td>\n",
              "      <td>0.2234</td>\n",
              "      <td>Normal value (A)</td>\n",
              "    </tr>\n",
              "    <tr>\n",
              "      <th>...</th>\n",
              "      <td>...</td>\n",
              "      <td>...</td>\n",
              "      <td>...</td>\n",
              "    </tr>\n",
              "    <tr>\n",
              "      <th>5750</th>\n",
              "      <td>2000-09-07</td>\n",
              "      <td>0.0308</td>\n",
              "      <td>Normal value (A)</td>\n",
              "    </tr>\n",
              "    <tr>\n",
              "      <th>5751</th>\n",
              "      <td>2000-09-06</td>\n",
              "      <td>0.0254</td>\n",
              "      <td>Normal value (A)</td>\n",
              "    </tr>\n",
              "    <tr>\n",
              "      <th>5752</th>\n",
              "      <td>2000-09-05</td>\n",
              "      <td>0.0269</td>\n",
              "      <td>Normal value (A)</td>\n",
              "    </tr>\n",
              "    <tr>\n",
              "      <th>5753</th>\n",
              "      <td>2000-09-04</td>\n",
              "      <td>0.0331</td>\n",
              "      <td>Normal value (A)</td>\n",
              "    </tr>\n",
              "    <tr>\n",
              "      <th>5754</th>\n",
              "      <td>2000-09-01</td>\n",
              "      <td>0.0305</td>\n",
              "      <td>Normal value (A)</td>\n",
              "    </tr>\n",
              "  </tbody>\n",
              "</table>\n",
              "<p>5755 rows × 3 columns</p>\n",
              "</div>\n",
              "      <button class=\"colab-df-convert\" onclick=\"convertToInteractive('df-33112712-9d59-47cc-8c42-4bf952f0c2cf')\"\n",
              "              title=\"Convert this dataframe to an interactive table.\"\n",
              "              style=\"display:none;\">\n",
              "        \n",
              "  <svg xmlns=\"http://www.w3.org/2000/svg\" height=\"24px\"viewBox=\"0 0 24 24\"\n",
              "       width=\"24px\">\n",
              "    <path d=\"M0 0h24v24H0V0z\" fill=\"none\"/>\n",
              "    <path d=\"M18.56 5.44l.94 2.06.94-2.06 2.06-.94-2.06-.94-.94-2.06-.94 2.06-2.06.94zm-11 1L8.5 8.5l.94-2.06 2.06-.94-2.06-.94L8.5 2.5l-.94 2.06-2.06.94zm10 10l.94 2.06.94-2.06 2.06-.94-2.06-.94-.94-2.06-.94 2.06-2.06.94z\"/><path d=\"M17.41 7.96l-1.37-1.37c-.4-.4-.92-.59-1.43-.59-.52 0-1.04.2-1.43.59L10.3 9.45l-7.72 7.72c-.78.78-.78 2.05 0 2.83L4 21.41c.39.39.9.59 1.41.59.51 0 1.02-.2 1.41-.59l7.78-7.78 2.81-2.81c.8-.78.8-2.07 0-2.86zM5.41 20L4 18.59l7.72-7.72 1.47 1.35L5.41 20z\"/>\n",
              "  </svg>\n",
              "      </button>\n",
              "      \n",
              "  <style>\n",
              "    .colab-df-container {\n",
              "      display:flex;\n",
              "      flex-wrap:wrap;\n",
              "      gap: 12px;\n",
              "    }\n",
              "\n",
              "    .colab-df-convert {\n",
              "      background-color: #E8F0FE;\n",
              "      border: none;\n",
              "      border-radius: 50%;\n",
              "      cursor: pointer;\n",
              "      display: none;\n",
              "      fill: #1967D2;\n",
              "      height: 32px;\n",
              "      padding: 0 0 0 0;\n",
              "      width: 32px;\n",
              "    }\n",
              "\n",
              "    .colab-df-convert:hover {\n",
              "      background-color: #E2EBFA;\n",
              "      box-shadow: 0px 1px 2px rgba(60, 64, 67, 0.3), 0px 1px 3px 1px rgba(60, 64, 67, 0.15);\n",
              "      fill: #174EA6;\n",
              "    }\n",
              "\n",
              "    [theme=dark] .colab-df-convert {\n",
              "      background-color: #3B4455;\n",
              "      fill: #D2E3FC;\n",
              "    }\n",
              "\n",
              "    [theme=dark] .colab-df-convert:hover {\n",
              "      background-color: #434B5C;\n",
              "      box-shadow: 0px 1px 3px 1px rgba(0, 0, 0, 0.15);\n",
              "      filter: drop-shadow(0px 1px 2px rgba(0, 0, 0, 0.3));\n",
              "      fill: #FFFFFF;\n",
              "    }\n",
              "  </style>\n",
              "\n",
              "      <script>\n",
              "        const buttonEl =\n",
              "          document.querySelector('#df-33112712-9d59-47cc-8c42-4bf952f0c2cf button.colab-df-convert');\n",
              "        buttonEl.style.display =\n",
              "          google.colab.kernel.accessAllowed ? 'block' : 'none';\n",
              "\n",
              "        async function convertToInteractive(key) {\n",
              "          const element = document.querySelector('#df-33112712-9d59-47cc-8c42-4bf952f0c2cf');\n",
              "          const dataTable =\n",
              "            await google.colab.kernel.invokeFunction('convertToInteractive',\n",
              "                                                     [key], {});\n",
              "          if (!dataTable) return;\n",
              "\n",
              "          const docLinkHtml = 'Like what you see? Visit the ' +\n",
              "            '<a target=\"_blank\" href=https://colab.research.google.com/notebooks/data_table.ipynb>data table notebook</a>'\n",
              "            + ' to learn more about interactive tables.';\n",
              "          element.innerHTML = '';\n",
              "          dataTable['output_type'] = 'display_data';\n",
              "          await google.colab.output.renderOutput(dataTable, element);\n",
              "          const docLink = document.createElement('div');\n",
              "          docLink.innerHTML = docLinkHtml;\n",
              "          element.appendChild(docLink);\n",
              "        }\n",
              "      </script>\n",
              "    </div>\n",
              "  </div>\n",
              "  "
            ]
          },
          "metadata": {},
          "execution_count": 12
        }
      ]
    },
    {
      "cell_type": "code",
      "source": [
        "#Reverse data frame (so that first observation is the oldest)\n",
        "euro = euro.loc[::-1].reset_index(drop=True)\n",
        "uk = uk.loc[::-1].reset_index(drop=True)\n",
        "us = us.loc[::-1].reset_index(drop=True)\n",
        "china = china.loc[::-1].reset_index(drop=True)\n",
        "germany = germany.loc[::-1].reset_index(drop=True)\n",
        "italy = italy.loc[::-1].reset_index(drop=True)\n",
        "spain = spain.loc[::-1].reset_index(drop=True)\n",
        "portugal = portugal.loc[::-1].reset_index(drop=True)\n",
        "france = france.loc[::-1].reset_index(drop=True)"
      ],
      "metadata": {
        "id": "mVHcEXHEI1_y"
      },
      "execution_count": null,
      "outputs": []
    },
    {
      "cell_type": "code",
      "source": [
        "#Plot\n",
        "plt.figure(figsize=(10,4))\n",
        "plt.title(\"CISS\")\n",
        "plt.plot(france['value'])\n",
        "plt.xlabel('Date', fontsize=18)\n",
        "plt.ylabel('', fontsize=18)\n",
        "plt.show()"
      ],
      "metadata": {
        "colab": {
          "base_uri": "https://localhost:8080/",
          "height": 325
        },
        "id": "9SsCH0qhH_Nf",
        "outputId": "0f9035f6-dfef-47f0-8eed-244ed750c43a"
      },
      "execution_count": null,
      "outputs": [
        {
          "output_type": "display_data",
          "data": {
            "text/plain": [
              "<Figure size 720x288 with 1 Axes>"
            ],
            "image/png": "[encoded data removed]"
          },
          "metadata": {}
        }
      ]
    },
    {
      "cell_type": "code",
      "source": [
        "#Select value column\n",
        "euro = euro.filter(['value'])\n",
        "uk = uk.filter(['value'])\n",
        "us = us.filter(['value'])\n",
        "china = china.filter(['value'])\n",
        "germany = germany.filter(['value'])\n",
        "italy = italy.filter(['value'])\n",
        "spain = spain.filter(['value'])\n",
        "portugal = portugal.filter(['value'])\n",
        "france = france.filter(['value'])\n",
        "\n",
        "#Convert dataframe to numpy\n",
        "euro = euro.values\n",
        "uk = uk.values\n",
        "us = us.values\n",
        "china = china.values\n",
        "germany = germany.values\n",
        "italy = italy.values\n",
        "spain = spain.values\n",
        "portugal = portugal.values\n",
        "france = france.values"
      ],
      "metadata": {
        "id": "S7y_ovTLX09r"
      },
      "execution_count": null,
      "outputs": []
    },
    {
      "cell_type": "code",
      "source": [
        "france.shape , china.shape , len(euro)"
      ],
      "metadata": {
        "colab": {
          "base_uri": "https://localhost:8080/"
        },
        "id": "B0YnpPkPhuk3",
        "outputId": "ffea52a0-143d-44f2-9237-30e4ef184a1f"
      },
      "execution_count": null,
      "outputs": [
        {
          "output_type": "execute_result",
          "data": {
            "text/plain": [
              "((5755, 1), (4160, 1), 5755)"
            ]
          },
          "metadata": {},
          "execution_count": 16
        }
      ]
    },
    {
      "cell_type": "code",
      "source": [
        "#Partitions for Train + Validation + Test\n",
        "train_pct = 0.75\n",
        "valid_pct = 0.15\n",
        "test_pct = 0.10\n",
        "\n",
        "training_data_len = math.ceil(len(euro)*train_pct)\n",
        "valid_data_len = math.ceil(len(euro)*valid_pct)\n",
        "\n",
        "#training_data_len = 4320\n",
        "#valid_data_len = 860"
      ],
      "metadata": {
        "id": "3wYi_vRCRo4g"
      },
      "execution_count": null,
      "outputs": []
    },
    {
      "cell_type": "code",
      "source": [
        "#Create the Train , Validation & Test datasets\n",
        "train_euro = euro[0:training_data_len-1, :]\n",
        "train_uk = uk[0:training_data_len-1, :]\n",
        "train_us = us[0:training_data_len-1, :]\n",
        "train_germany = germany[0:training_data_len-1, :]\n",
        "train_italy = italy[0:training_data_len-1, :]\n",
        "train_spain = spain[0:training_data_len-1, :]\n",
        "train_portugal = portugal[0:training_data_len-1, :]\n",
        "train_france = france[0:training_data_len-1, :]\n",
        "\n",
        "valid_euro = euro[training_data_len:(training_data_len+valid_data_len), :]\n",
        "valid_uk = uk[training_data_len:(training_data_len+valid_data_len), :]\n",
        "valid_us = us[training_data_len:(training_data_len+valid_data_len), :]\n",
        "valid_germany = germany[training_data_len:(training_data_len+valid_data_len), :]\n",
        "valid_italy = italy[training_data_len:(training_data_len+valid_data_len), :]\n",
        "valid_spain = spain[training_data_len:(training_data_len+valid_data_len), :]\n",
        "valid_portugal = portugal[training_data_len:(training_data_len+valid_data_len), :]\n",
        "valid_france = france[training_data_len:(training_data_len+valid_data_len), :]\n",
        "\n",
        "test_euro = euro[(training_data_len+valid_data_len): , :]\n",
        "test_uk = uk[(training_data_len+valid_data_len): , :]\n",
        "test_us = us[(training_data_len+valid_data_len): , :]\n",
        "test_germany = germany[(training_data_len+valid_data_len): , :]\n",
        "test_italy = italy[(training_data_len+valid_data_len): , :]\n",
        "test_spain = spain[(training_data_len+valid_data_len): , :]\n",
        "test_portugal = portugal[(training_data_len+valid_data_len): , :]\n",
        "test_france = france[(training_data_len+valid_data_len): , :]"
      ],
      "metadata": {
        "id": "g5qJpfHSRs5I"
      },
      "execution_count": null,
      "outputs": []
    },
    {
      "cell_type": "code",
      "source": [
        "print(train_euro.shape ,valid_euro.shape, test_euro.shape)"
      ],
      "metadata": {
        "colab": {
          "base_uri": "https://localhost:8080/"
        },
        "id": "SsdvReXIly54",
        "outputId": "65cdaaa1-a9e2-40b5-8026-54dafe357863"
      },
      "execution_count": null,
      "outputs": [
        {
          "output_type": "stream",
          "name": "stdout",
          "text": [
            "(4316, 1) (864, 1) (574, 1)\n"
          ]
        }
      ]
    },
    {
      "cell_type": "code",
      "source": [
        "#Adjust china valid and test datasets to the other countries lengths\n",
        "train_china = china[0:(len(china)-len(test_euro)-len(valid_euro)), :]\n",
        "valid_china = china[(len(china)-len(test_euro)-len(valid_euro)):(len(china)-len(test_euro)), :]\n",
        "test_china = china[(len(china)-len(test_euro)): , :]\n",
        "print(train_china.shape, valid_china.shape, test_china.shape)"
      ],
      "metadata": {
        "colab": {
          "base_uri": "https://localhost:8080/"
        },
        "id": "Fa5im_OXI6Sl",
        "outputId": "078827fa-2e8b-43d1-d30f-85721faa441c"
      },
      "execution_count": null,
      "outputs": [
        {
          "output_type": "stream",
          "name": "stdout",
          "text": [
            "(2722, 1) (864, 1) (574, 1)\n"
          ]
        }
      ]
    },
    {
      "cell_type": "code",
      "source": [
        "train_df=np.column_stack((train_euro, train_uk, train_us, train_germany, train_italy, train_spain, train_portugal, train_france))"
      ],
      "metadata": {
        "id": "reowKaSj_xJ8"
      },
      "execution_count": null,
      "outputs": []
    },
    {
      "cell_type": "code",
      "source": [
        "valid_df=np.column_stack((valid_euro, valid_uk, valid_us, valid_germany, valid_italy, valid_spain, valid_portugal, valid_france))"
      ],
      "metadata": {
        "id": "tm_85S4qHn-9"
      },
      "execution_count": null,
      "outputs": []
    },
    {
      "cell_type": "code",
      "source": [
        "test_df=np.column_stack((test_euro, test_uk, test_us, test_germany, test_italy, test_spain, test_portugal, test_france))"
      ],
      "metadata": {
        "id": "iOgb6lLeHq_Q"
      },
      "execution_count": null,
      "outputs": []
    },
    {
      "cell_type": "code",
      "source": [
        "print(train_df[0:10,2], train_us[0:10,0])"
      ],
      "metadata": {
        "colab": {
          "base_uri": "https://localhost:8080/"
        },
        "id": "sMn86D1KXPw3",
        "outputId": "b0495796-a270-4758-8e34-4f88083bd0d5"
      },
      "execution_count": null,
      "outputs": [
        {
          "output_type": "stream",
          "name": "stdout",
          "text": [
            "[0.0188 0.017  0.0192 0.0246 0.0212 0.0298 0.0367 0.0401 0.037  0.0312] [0.0188 0.017  0.0192 0.0246 0.0212 0.0298 0.0367 0.0401 0.037  0.0312]\n"
          ]
        }
      ]
    },
    {
      "cell_type": "code",
      "source": [
        "train_df.shape, valid_df.shape, test_df.shape"
      ],
      "metadata": {
        "colab": {
          "base_uri": "https://localhost:8080/"
        },
        "id": "nB3V3680WwsD",
        "outputId": "c6ee10db-b761-42a2-86f0-d7cd43d4441d"
      },
      "execution_count": null,
      "outputs": [
        {
          "output_type": "execute_result",
          "data": {
            "text/plain": [
              "((4316, 8), (864, 8), (574, 8))"
            ]
          },
          "metadata": {},
          "execution_count": 45
        }
      ]
    },
    {
      "cell_type": "code",
      "source": [
        "#Create function to compute trainX and trainY sequences (x: input & y:output).\n",
        "trainX = []\n",
        "trainY = []\n",
        "\n",
        "n_future = 5   # Number of days we want to look into the future based on the past days.\n",
        "n_past = 64  # Number of past days we want to use to predict the future.\n",
        "\n",
        "for i in range(n_past, len(train_euro) - n_future +1):\n",
        "    trainX.append(train_df[i - n_past:i, 0:train_df.shape[1]])\n",
        "    trainY.append(train_df[i + n_future - 1, 0:train_df.shape[1]])\n",
        "\n",
        "trainX, trainY = np.array(trainX), np.array(trainY)\n",
        "\n",
        "print('trainX shape == {}.'.format(trainX.shape))\n",
        "print('trainY shape == {}.'.format(trainY.shape))"
      ],
      "metadata": {
        "colab": {
          "base_uri": "https://localhost:8080/"
        },
        "id": "TdyMh43eBvMV",
        "outputId": "cb3a22b7-df8c-4cb3-84e2-b41f28e79b1f"
      },
      "execution_count": null,
      "outputs": [
        {
          "output_type": "stream",
          "name": "stdout",
          "text": [
            "trainX shape == (4248, 64, 8).\n",
            "trainY shape == (4248, 8).\n"
          ]
        }
      ]
    },
    {
      "cell_type": "code",
      "source": [
        "#Create function to compute validX and validY sequences (x: input & y:output).\n",
        "validX = []\n",
        "validY = []\n",
        "\n",
        "n_future = 5   # Number of days we want to look into the future based on the past days.\n",
        "n_past = 64  # Number of past days we want to use to predict the future.\n",
        "\n",
        "for i in range(n_past, len(valid_euro) - n_future +1):\n",
        "    validX.append(valid_df[i - n_past:i, 0:valid_df.shape[1]])\n",
        "    validY.append(valid_df[i + n_future - 1, 0:valid_df.shape[1]])\n",
        "\n",
        "validX, validY = np.array(validX), np.array(validY)\n",
        "\n",
        "print('validX shape == {}.'.format(validX.shape))\n",
        "print('validY shape == {}.'.format(validY.shape))"
      ],
      "metadata": {
        "colab": {
          "base_uri": "https://localhost:8080/"
        },
        "id": "h3blVcQQDx2y",
        "outputId": "8c822d46-31b8-4f42-a5bf-707ead34d63b"
      },
      "execution_count": null,
      "outputs": [
        {
          "output_type": "stream",
          "name": "stdout",
          "text": [
            "validX shape == (796, 64, 8).\n",
            "validY shape == (796, 8).\n"
          ]
        }
      ]
    },
    {
      "cell_type": "code",
      "source": [
        "#Create function to compute testX and testY sequences (x: input & y:output).\n",
        "testX = []\n",
        "testY = []\n",
        "\n",
        "n_future = 5   # Number of days we want to look into the future based on the past days.\n",
        "n_past = 64  # Number of past days we want to use to predict the future.\n",
        "\n",
        "for i in range(n_past, len(test_euro) - n_future +1):\n",
        "    testX.append(test_df[i - n_past:i, 0:test_df.shape[1]])\n",
        "    testY.append(test_df[i + n_future - 1, 0:test_df.shape[1]])\n",
        "\n",
        "testX, testY = np.array(testX), np.array(testY)\n",
        "\n",
        "print('testX shape == {}.'.format(testX.shape))\n",
        "print('testY shape == {}.'.format(testY.shape))"
      ],
      "metadata": {
        "colab": {
          "base_uri": "https://localhost:8080/"
        },
        "id": "uGzzeknvFkYa",
        "outputId": "6431ae3c-0500-4fb9-a8ba-38bdebba34ee"
      },
      "execution_count": null,
      "outputs": [
        {
          "output_type": "stream",
          "name": "stdout",
          "text": [
            "testX shape == (506, 64, 8).\n",
            "testY shape == (506, 8).\n"
          ]
        }
      ]
    },
    {
      "cell_type": "markdown",
      "source": [
        "**LSTM network building and training**"
      ],
      "metadata": {
        "id": "hDdYxL2FWs6M"
      }
    },
    {
      "cell_type": "markdown",
      "source": [
        "Our approach consists on using all train_datasets (from all countries) to train one unique LSTM network that generalizes the properties of the CISS indices. We do so because of the lack of large amounts of data and the need for a data augmentation method to avoid overfitting.\n",
        "\n",
        "Precisely, we will have 3 LSTM networks, one for each horizon t+h|t of prediction."
      ],
      "metadata": {
        "id": "eXhaETTNVlGV"
      }
    },
    {
      "cell_type": "markdown",
      "source": [
        "**Approach 1:** Concadenate training sequences. Simplest approach (LSTM benchmark). Take batch_size=1 so that internal state is reset for every sequence within the epoch. No hyperparameter tunning optimization technique (just balanced \"common sense\" choice of hyperparamethers).\n",
        "\n",
        "**Approach 2:** Concadenate training sequences. The input in the model should be ordered in time. We give the model the ability to remember its internal state during the training sequences within each country. After, we reset its internal state. No hyperparameter tunning optimization technique (just balanced \"common sense\" choice of hyperparamethers).\n",
        "\n",
        "**Approach 3:** Bayesian Optimization of the hyperparameter space.\n",
        "\n",
        "**Approach 4:** Multivariate model, Bayesian Optimization of the hyperparameter space. Stateful??"
      ],
      "metadata": {
        "id": "LeF33dyjYT92"
      }
    },
    {
      "cell_type": "markdown",
      "source": [
        "**Hyperparameters and tunning possibilities**: \n",
        "\n",
        "*   Arquitectura del modelo: layers y unidades por layer (Ratio #secuencias/#param. tiene que ser razonable).\n",
        "*   Sequence length: How many timesteps is our input composed of.\n",
        "*   Batch_size: number of samples to work through before updating the internal model parameters (number of samples processed before the model is updated).\n",
        "*   Epochs: number times that the learning algorithm will work through the entire training dataset (the number of complete passes through the training dataset).\n",
        "*   Optimizer: Adam preferred choice overall. Choice of initial learning rate + reducing learning rate once learning stagnates.\n",
        "*   Loss function (define loss function)\n",
        "*   Early stoping (min_delta and patience)\n",
        "*   Dropout regularization (dropout: Fraction of the units to drop for the linear transformation of the inputs; recurrent_dropout: Fraction of the units to drop for the linear transformation of the recurrent state.)\n",
        "\n",
        "By default, an LSTM layer in Keras maintains state between data within one batch. ***If*** our tarining data is not ordered in time, ***then*** we might choose batch size=1 (or multiple length of the samples of one country). The nb. of epochs will depend upon when the loss function is stabilized.\n",
        "\n",
        "By default, the samples within an epoch are shuffled prior to being exposed to the network. ***If*** we want the network to build up state as it learns across the sequence of observations, ***then*** we should disable the shuffling of samples by setting “shuffle” to “False“.\n",
        "\n",
        "---\n",
        "**To do list**\n",
        "\n",
        "(Empty)\n",
        "\n",
        "---\n",
        "**Benchmark comparison**\n",
        "T+1|T (only on germany CISS)\n",
        "\n",
        "*   Naive approach: 0.000092064151\n",
        "*   Arma: 0.00007909968\n",
        "*   Relative Gain: 13.23%\n",
        "\n",
        "\n",
        "\n",
        "\n"
      ],
      "metadata": {
        "id": "fP7WAkMurm-B"
      }
    },
    {
      "cell_type": "code",
      "source": [
        "#Build the LSTM model\n",
        "#Define a function that creates a hypermodel with a bounded (but not specified) hyperparameter space.\n",
        "def hypermodel(hp):\n",
        "  model=Sequential()\n",
        "  model.add(LSTM(units=hp.Int('units',min_value=2, max_value=8, step=1),\n",
        "                              dropout=hp.Float('droput',min_value=0.0, max_value=0.20, step=0.05),\n",
        "                              recurrent_dropout=hp.Float('redroput',min_value=0.0, max_value=0.20, step=0.05),\n",
        "                              return_sequences=False,\n",
        "                              input_shape = (trainX.shape[1],trainX.shape[2])))\n",
        "  model.add(Dense(trainY.shape[1], activation=hp.Choice('dense_activation',values=['sigmoid', 'relu'], default='sigmoid')))\n",
        "  \n",
        "  model.compile(loss='mean_squared_error', optimizer=tf.keras.optimizers.Adam(hp.Choice('learning_rate', values=[1e-2, 1e-3, 1e-4])))\n",
        "  return model"
      ],
      "metadata": {
        "id": "5CgUhkGTkqsn"
      },
      "execution_count": null,
      "outputs": []
    },
    {
      "cell_type": "code",
      "source": [
        "#Bayesian Hyperparameter Optimizer\n",
        "bayesian_opt_tuner = keras_tuner.BayesianOptimization(\n",
        "    hypermodel=hypermodel,\n",
        "    objective='val_loss',\n",
        "    max_trials=10,\n",
        "    executions_per_trial=1,\n",
        "    seed=2020,\n",
        "    project_name='multiv_t5_v1',\n",
        "    overwrite=True,)\n",
        "\n",
        "bayesian_opt_tuner.search(x=trainX ,y=trainY, \n",
        "             epochs=25,\n",
        "             validation_data=(validX, validY),\n",
        "             batch_size=4,\n",
        "             callbacks=[tf.keras.callbacks.EarlyStopping(monitor='val_loss', \n",
        "                              patience=8,\n",
        "                              min_delta=1e-7,\n",
        "                              verbose=1,\n",
        "                              restore_best_weights=True),\n",
        "                        tf.keras.callbacks.ReduceLROnPlateau(monitor='val_loss', \n",
        "                                   factor=0.1, \n",
        "                                   patience= 3, \n",
        "                                   verbose=1, \n",
        "                                   min_delta=1e-7, \n",
        "                                   mode='min')]\n",
        "             )"
      ],
      "metadata": {
        "id": "SlkqHlsTX5Q_",
        "colab": {
          "base_uri": "https://localhost:8080/"
        },
        "outputId": "2e8818b2-a6f4-45e5-dbb6-976974f52934"
      },
      "execution_count": null,
      "outputs": [
        {
          "output_type": "stream",
          "name": "stdout",
          "text": [
            "Trial 10 Complete [00h 12m 38s]\n",
            "val_loss: 0.0023115866351872683\n",
            "\n",
            "Best val_loss So Far: 0.0009742504335008562\n",
            "Total elapsed time: 01h 54m 25s\n"
          ]
        }
      ]
    },
    {
      "cell_type": "code",
      "source": [
        "model = bayesian_opt_tuner.get_best_models(num_models=1)[0]"
      ],
      "metadata": {
        "id": "PpfIaiDLRNqh"
      },
      "execution_count": null,
      "outputs": []
    },
    {
      "cell_type": "code",
      "source": [
        "#Check\n",
        "check = model.evaluate(validX, validY, batch_size=4)\n",
        "print(\"test loss\", check)"
      ],
      "metadata": {
        "colab": {
          "base_uri": "https://localhost:8080/"
        },
        "id": "dnSmjAwvRNqh",
        "outputId": "7b85bc0f-28e7-48f8-e6cc-9f9bf3e30cc6"
      },
      "execution_count": null,
      "outputs": [
        {
          "output_type": "stream",
          "name": "stdout",
          "text": [
            "199/199 [==============================] - 1s 3ms/step - loss: 9.7425e-04\n",
            "test loss 0.0009742504335008562\n"
          ]
        }
      ]
    },
    {
      "cell_type": "code",
      "source": [
        "hyp= bayesian_opt_tuner.get_best_hyperparameters(1)[0]\n",
        "hyp.values"
      ],
      "metadata": {
        "colab": {
          "base_uri": "https://localhost:8080/"
        },
        "id": "d3N60UknRNqh",
        "outputId": "4c1b6da5-d68f-4f73-f032-7bee3dc33029"
      },
      "execution_count": null,
      "outputs": [
        {
          "output_type": "execute_result",
          "data": {
            "text/plain": [
              "{'units': 8,\n",
              " 'droput': 0.0,\n",
              " 'redroput': 0.0,\n",
              " 'dense_activation': 'relu',\n",
              " 'learning_rate': 0.01}"
            ]
          },
          "metadata": {},
          "execution_count": 36
        }
      ]
    },
    {
      "cell_type": "code",
      "source": [
        "#hyp= bayesian_opt_tuner.get_best_hyperparameters()[0]\n",
        "#hyp.get_config()"
      ],
      "metadata": {
        "id": "xTN8zUNtRNqh"
      },
      "execution_count": null,
      "outputs": []
    },
    {
      "cell_type": "code",
      "source": [
        "#Save the model\n",
        "model.save(\"multiv_v1_t5.h5\")"
      ],
      "metadata": {
        "id": "yYl7kwGeIIfx"
      },
      "execution_count": null,
      "outputs": []
    },
    {
      "cell_type": "markdown",
      "source": [
        "**Make best model stateful**"
      ],
      "metadata": {
        "id": "OKUoPqLu2_OR"
      }
    },
    {
      "cell_type": "code",
      "source": [
        "batch_size = 2\n",
        "\n",
        "model = Sequential()\n",
        "model.add(LSTM(8, return_sequences=False, batch_input_shape=(batch_size, trainX.shape[1],trainX.shape[2]), dropout=0.0, recurrent_dropout=0.0, stateful=True))\n",
        "model.add(Dense(1, activation= 'relu'))"
      ],
      "metadata": {
        "id": "3N_4v2yK3Avp"
      },
      "execution_count": null,
      "outputs": []
    },
    {
      "cell_type": "code",
      "source": [
        "model.summary()"
      ],
      "metadata": {
        "colab": {
          "base_uri": "https://localhost:8080/"
        },
        "id": "VhT_Ks2a3ldx",
        "outputId": "05dbeba0-202d-4161-c25f-f6f1ce183205"
      },
      "execution_count": null,
      "outputs": [
        {
          "output_type": "stream",
          "name": "stdout",
          "text": [
            "Model: \"sequential_1\"\n",
            "_________________________________________________________________\n",
            " Layer (type)                Output Shape              Param #   \n",
            "=================================================================\n",
            " lstm_1 (LSTM)               (2, 8)                    544       \n",
            "                                                                 \n",
            " dense_1 (Dense)             (2, 1)                    9         \n",
            "                                                                 \n",
            "=================================================================\n",
            "Total params: 553\n",
            "Trainable params: 553\n",
            "Non-trainable params: 0\n",
            "_________________________________________________________________\n"
          ]
        }
      ]
    },
    {
      "cell_type": "code",
      "source": [
        "#Choose hyperparameters\n",
        "batch_size = 2 #batch size\n",
        "epochs = 60  #epochs (maximum training duration)\n",
        "loss_f = tf.keras.losses.MeanSquaredError()  #loss function\n",
        "lr = 0.005 #learning rate\n",
        "opti = tf.keras.optimizers.Adam(learning_rate=lr)  #optimizer\n",
        "callback= [tf.keras.callbacks.EarlyStopping(monitor='val_loss', patience=15, min_delta=1e-7, verbose=1, restore_best_weights=True),\n",
        "           tf.keras.callbacks.ReduceLROnPlateau(monitor='val_loss', factor=0.1, patience= 9, verbose=1, min_delta=1e-7, mode='min')]"
      ],
      "metadata": {
        "id": "PUUYVuWq1yC4"
      },
      "execution_count": null,
      "outputs": []
    },
    {
      "cell_type": "code",
      "source": [
        "#Compile the model\n",
        "model.compile(optimizer=opti, loss=loss_f, metrics=[tf.keras.metrics.MeanAbsoluteError()])"
      ],
      "metadata": {
        "id": "QGfXRS3b3_GC"
      },
      "execution_count": null,
      "outputs": []
    },
    {
      "cell_type": "code",
      "source": [
        "#Define model training and state reset points\n",
        "def training(nb_epoch):\n",
        "  for i in range(nb_epoch):\n",
        "    model.fit(trainX, trainY, batch_size=batch_size, epochs=1, validation_data=(validX, validY), callbacks=callback, shuffle=False)\n",
        "    model.reset_states()\n",
        "  return model"
      ],
      "metadata": {
        "id": "Yyp7cTF54BHD"
      },
      "execution_count": null,
      "outputs": []
    },
    {
      "cell_type": "code",
      "source": [
        "stateful_model = training(nb_epoch=epochs)"
      ],
      "metadata": {
        "colab": {
          "base_uri": "https://localhost:8080/"
        },
        "id": "zybtj-Qj4Bc7",
        "outputId": "3ef2451e-b2e8-4c31-fa3f-037e4c47049a"
      },
      "execution_count": null,
      "outputs": [
        {
          "output_type": "stream",
          "name": "stdout",
          "text": [
            "2124/2124 [==============================] - 27s 12ms/step - loss: 0.0363 - mean_absolute_error: 0.1061 - val_loss: 0.0124 - val_mean_absolute_error: 0.0572 - lr: 0.0050\n",
            "2124/2124 [==============================] - 25s 12ms/step - loss: 0.0076 - mean_absolute_error: 0.0598 - val_loss: 0.0083 - val_mean_absolute_error: 0.0549 - lr: 0.0050\n",
            "2124/2124 [==============================] - 25s 12ms/step - loss: 0.0070 - mean_absolute_error: 0.0574 - val_loss: 0.0094 - val_mean_absolute_error: 0.0743 - lr: 0.0050\n",
            "2124/2124 [==============================] - 26s 12ms/step - loss: 0.0066 - mean_absolute_error: 0.0558 - val_loss: 0.0090 - val_mean_absolute_error: 0.0695 - lr: 0.0050\n",
            "2124/2124 [==============================] - 26s 12ms/step - loss: 0.0063 - mean_absolute_error: 0.0547 - val_loss: 0.0088 - val_mean_absolute_error: 0.0705 - lr: 0.0050\n",
            "2124/2124 [==============================] - 26s 12ms/step - loss: 0.0063 - mean_absolute_error: 0.0547 - val_loss: 0.0066 - val_mean_absolute_error: 0.0445 - lr: 0.0050\n",
            "2124/2124 [==============================] - 26s 12ms/step - loss: 0.0063 - mean_absolute_error: 0.0546 - val_loss: 0.0102 - val_mean_absolute_error: 0.0793 - lr: 0.0050\n",
            "2124/2124 [==============================] - 26s 12ms/step - loss: 0.0062 - mean_absolute_error: 0.0543 - val_loss: 0.0084 - val_mean_absolute_error: 0.0674 - lr: 0.0050\n",
            "2124/2124 [==============================] - 26s 12ms/step - loss: 0.0062 - mean_absolute_error: 0.0546 - val_loss: 0.0111 - val_mean_absolute_error: 0.0844 - lr: 0.0050\n",
            "2124/2124 [==============================] - 25s 12ms/step - loss: 0.0062 - mean_absolute_error: 0.0545 - val_loss: 0.0133 - val_mean_absolute_error: 0.0996 - lr: 0.0050\n",
            "2124/2124 [==============================] - 25s 12ms/step - loss: 0.0061 - mean_absolute_error: 0.0542 - val_loss: 0.0140 - val_mean_absolute_error: 0.1042 - lr: 0.0050\n",
            "2124/2124 [==============================] - 26s 12ms/step - loss: 0.0061 - mean_absolute_error: 0.0542 - val_loss: 0.0107 - val_mean_absolute_error: 0.0824 - lr: 0.0050\n",
            "2124/2124 [==============================] - 26s 12ms/step - loss: 0.0061 - mean_absolute_error: 0.0541 - val_loss: 0.0228 - val_mean_absolute_error: 0.1375 - lr: 0.0050\n",
            "2124/2124 [==============================] - 26s 12ms/step - loss: 0.0060 - mean_absolute_error: 0.0538 - val_loss: 0.0263 - val_mean_absolute_error: 0.1484 - lr: 0.0050\n",
            "2124/2124 [==============================] - 26s 12ms/step - loss: 0.0059 - mean_absolute_error: 0.0538 - val_loss: 0.0322 - val_mean_absolute_error: 0.1645 - lr: 0.0050\n",
            "2124/2124 [==============================] - 26s 12ms/step - loss: 0.0060 - mean_absolute_error: 0.0549 - val_loss: 0.0145 - val_mean_absolute_error: 0.1071 - lr: 0.0050\n",
            "2124/2124 [==============================] - 26s 12ms/step - loss: 0.0059 - mean_absolute_error: 0.0540 - val_loss: 0.0150 - val_mean_absolute_error: 0.1091 - lr: 0.0050\n",
            "2124/2124 [==============================] - 26s 12ms/step - loss: 0.0059 - mean_absolute_error: 0.0536 - val_loss: 0.0189 - val_mean_absolute_error: 0.1241 - lr: 0.0050\n",
            "2124/2124 [==============================] - 26s 12ms/step - loss: 0.0058 - mean_absolute_error: 0.0538 - val_loss: 0.0192 - val_mean_absolute_error: 0.1258 - lr: 0.0050\n",
            "2124/2124 [==============================] - 26s 12ms/step - loss: 0.0058 - mean_absolute_error: 0.0537 - val_loss: 0.0181 - val_mean_absolute_error: 0.1219 - lr: 0.0050\n",
            "2124/2124 [==============================] - 26s 12ms/step - loss: 0.0058 - mean_absolute_error: 0.0535 - val_loss: 0.0186 - val_mean_absolute_error: 0.1238 - lr: 0.0050\n",
            "2124/2124 [==============================] - 26s 12ms/step - loss: 0.0058 - mean_absolute_error: 0.0533 - val_loss: 0.0177 - val_mean_absolute_error: 0.1199 - lr: 0.0050\n",
            "2124/2124 [==============================] - 25s 12ms/step - loss: 0.0057 - mean_absolute_error: 0.0532 - val_loss: 0.0173 - val_mean_absolute_error: 0.1179 - lr: 0.0050\n",
            "2124/2124 [==============================] - 26s 12ms/step - loss: 0.0057 - mean_absolute_error: 0.0533 - val_loss: 0.0155 - val_mean_absolute_error: 0.1103 - lr: 0.0050\n",
            "2124/2124 [==============================] - 25s 12ms/step - loss: 0.0058 - mean_absolute_error: 0.0536 - val_loss: 0.0112 - val_mean_absolute_error: 0.0889 - lr: 0.0050\n",
            "2124/2124 [==============================] - 25s 12ms/step - loss: 0.0059 - mean_absolute_error: 0.0537 - val_loss: 0.0091 - val_mean_absolute_error: 0.0760 - lr: 0.0050\n",
            "2124/2124 [==============================] - 25s 12ms/step - loss: 0.0059 - mean_absolute_error: 0.0536 - val_loss: 0.0086 - val_mean_absolute_error: 0.0718 - lr: 0.0050\n",
            "2124/2124 [==============================] - 26s 12ms/step - loss: 0.0059 - mean_absolute_error: 0.0536 - val_loss: 0.0080 - val_mean_absolute_error: 0.0674 - lr: 0.0050\n",
            "2124/2124 [==============================] - 26s 12ms/step - loss: 0.0059 - mean_absolute_error: 0.0535 - val_loss: 0.0078 - val_mean_absolute_error: 0.0657 - lr: 0.0050\n",
            "2124/2124 [==============================] - 26s 12ms/step - loss: 0.0059 - mean_absolute_error: 0.0534 - val_loss: 0.0078 - val_mean_absolute_error: 0.0656 - lr: 0.0050\n",
            "2124/2124 [==============================] - 26s 12ms/step - loss: 0.0058 - mean_absolute_error: 0.0533 - val_loss: 0.0080 - val_mean_absolute_error: 0.0669 - lr: 0.0050\n",
            "2124/2124 [==============================] - 27s 13ms/step - loss: 0.0058 - mean_absolute_error: 0.0532 - val_loss: 0.0082 - val_mean_absolute_error: 0.0688 - lr: 0.0050\n",
            "2124/2124 [==============================] - 26s 12ms/step - loss: 0.0058 - mean_absolute_error: 0.0531 - val_loss: 0.0085 - val_mean_absolute_error: 0.0713 - lr: 0.0050\n",
            "2124/2124 [==============================] - 26s 12ms/step - loss: 0.0057 - mean_absolute_error: 0.0530 - val_loss: 0.0090 - val_mean_absolute_error: 0.0743 - lr: 0.0050\n",
            "2124/2124 [==============================] - 26s 12ms/step - loss: 0.0057 - mean_absolute_error: 0.0528 - val_loss: 0.0095 - val_mean_absolute_error: 0.0779 - lr: 0.0050\n",
            "2124/2124 [==============================] - 26s 12ms/step - loss: 0.0057 - mean_absolute_error: 0.0527 - val_loss: 0.0101 - val_mean_absolute_error: 0.0819 - lr: 0.0050\n",
            "2124/2124 [==============================] - 26s 12ms/step - loss: 0.0056 - mean_absolute_error: 0.0525 - val_loss: 0.0109 - val_mean_absolute_error: 0.0862 - lr: 0.0050\n",
            "2124/2124 [==============================] - 26s 12ms/step - loss: 0.0056 - mean_absolute_error: 0.0524 - val_loss: 0.0117 - val_mean_absolute_error: 0.0906 - lr: 0.0050\n",
            "2124/2124 [==============================] - 26s 12ms/step - loss: 0.0056 - mean_absolute_error: 0.0524 - val_loss: 0.0125 - val_mean_absolute_error: 0.0946 - lr: 0.0050\n",
            "2124/2124 [==============================] - 26s 12ms/step - loss: 0.0055 - mean_absolute_error: 0.0523 - val_loss: 0.0132 - val_mean_absolute_error: 0.0982 - lr: 0.0050\n",
            "2124/2124 [==============================] - 26s 12ms/step - loss: 0.0055 - mean_absolute_error: 0.0525 - val_loss: 0.0139 - val_mean_absolute_error: 0.1014 - lr: 0.0050\n",
            "2124/2124 [==============================] - 26s 12ms/step - loss: 0.0055 - mean_absolute_error: 0.0522 - val_loss: 0.0148 - val_mean_absolute_error: 0.1052 - lr: 0.0050\n",
            "2124/2124 [==============================] - 26s 12ms/step - loss: 0.0055 - mean_absolute_error: 0.0522 - val_loss: 0.0154 - val_mean_absolute_error: 0.1080 - lr: 0.0050\n",
            "2124/2124 [==============================] - 26s 12ms/step - loss: 0.0055 - mean_absolute_error: 0.0521 - val_loss: 0.0160 - val_mean_absolute_error: 0.1106 - lr: 0.0050\n",
            "2124/2124 [==============================] - 26s 12ms/step - loss: 0.0055 - mean_absolute_error: 0.0520 - val_loss: 0.0165 - val_mean_absolute_error: 0.1127 - lr: 0.0050\n",
            "2124/2124 [==============================] - 25s 12ms/step - loss: 0.0055 - mean_absolute_error: 0.0520 - val_loss: 0.0170 - val_mean_absolute_error: 0.1146 - lr: 0.0050\n",
            "2124/2124 [==============================] - 25s 12ms/step - loss: 0.0054 - mean_absolute_error: 0.0519 - val_loss: 0.0177 - val_mean_absolute_error: 0.1171 - lr: 0.0050\n",
            "2124/2124 [==============================] - 26s 12ms/step - loss: 0.0054 - mean_absolute_error: 0.0519 - val_loss: 0.0182 - val_mean_absolute_error: 0.1191 - lr: 0.0050\n",
            "2124/2124 [==============================] - 26s 12ms/step - loss: 0.0054 - mean_absolute_error: 0.0518 - val_loss: 0.0188 - val_mean_absolute_error: 0.1213 - lr: 0.0050\n",
            "2124/2124 [==============================] - 25s 12ms/step - loss: 0.0054 - mean_absolute_error: 0.0518 - val_loss: 0.0195 - val_mean_absolute_error: 0.1234 - lr: 0.0050\n",
            "2124/2124 [==============================] - 26s 12ms/step - loss: 0.0054 - mean_absolute_error: 0.0517 - val_loss: 0.0201 - val_mean_absolute_error: 0.1255 - lr: 0.0050\n",
            "2124/2124 [==============================] - 26s 12ms/step - loss: 0.0054 - mean_absolute_error: 0.0517 - val_loss: 0.0209 - val_mean_absolute_error: 0.1276 - lr: 0.0050\n",
            "2124/2124 [==============================] - 25s 12ms/step - loss: 0.0054 - mean_absolute_error: 0.0517 - val_loss: 0.0213 - val_mean_absolute_error: 0.1290 - lr: 0.0050\n",
            "2124/2124 [==============================] - 26s 12ms/step - loss: 0.0054 - mean_absolute_error: 0.0516 - val_loss: 0.0221 - val_mean_absolute_error: 0.1313 - lr: 0.0050\n",
            "2124/2124 [==============================] - 25s 12ms/step - loss: 0.0054 - mean_absolute_error: 0.0516 - val_loss: 0.0219 - val_mean_absolute_error: 0.1307 - lr: 0.0050\n",
            "2124/2124 [==============================] - 26s 12ms/step - loss: 0.0053 - mean_absolute_error: 0.0516 - val_loss: 0.0206 - val_mean_absolute_error: 0.1267 - lr: 0.0050\n",
            "2124/2124 [==============================] - 26s 12ms/step - loss: 0.0053 - mean_absolute_error: 0.0516 - val_loss: 0.0192 - val_mean_absolute_error: 0.1224 - lr: 0.0050\n",
            "2124/2124 [==============================] - 26s 12ms/step - loss: 0.0053 - mean_absolute_error: 0.0514 - val_loss: 0.0204 - val_mean_absolute_error: 0.1293 - lr: 0.0050\n",
            "2124/2124 [==============================] - 26s 12ms/step - loss: 0.0053 - mean_absolute_error: 0.0515 - val_loss: 0.0210 - val_mean_absolute_error: 0.1327 - lr: 0.0050\n",
            "2124/2124 [==============================] - 26s 12ms/step - loss: 0.0053 - mean_absolute_error: 0.0514 - val_loss: 0.0213 - val_mean_absolute_error: 0.1331 - lr: 0.0050\n"
          ]
        }
      ]
    },
    {
      "cell_type": "markdown",
      "source": [
        "**Rebuild and refit**"
      ],
      "metadata": {
        "id": "6Chc0x3iH2-N"
      }
    },
    {
      "cell_type": "code",
      "source": [
        "model_rebuild=bayesian_opt_tuner.hypermodel.build(hyp)"
      ],
      "metadata": {
        "id": "wWGXQNWpRNqh"
      },
      "execution_count": null,
      "outputs": []
    },
    {
      "cell_type": "code",
      "source": [
        "callback= [tf.keras.callbacks.EarlyStopping(monitor='val_loss', patience=8, min_delta=1e-7, verbose=1, restore_best_weights=True),\n",
        "           tf.keras.callbacks.ReduceLROnPlateau(monitor='val_loss', factor=0.1, patience= 3, verbose=1, min_delta=1e-7, mode='min')]"
      ],
      "metadata": {
        "id": "PAYC1MtF_ORC"
      },
      "execution_count": null,
      "outputs": []
    },
    {
      "cell_type": "code",
      "source": [
        "np.row_stack((trainX,validX)).shape, np.row_stack((trainY,validY)).shape"
      ],
      "metadata": {
        "colab": {
          "base_uri": "https://localhost:8080/"
        },
        "id": "K6bzr6dZb9G7",
        "outputId": "cd25895c-f138-4178-c3ab-1fd2bda05d0b"
      },
      "execution_count": null,
      "outputs": [
        {
          "output_type": "execute_result",
          "data": {
            "text/plain": [
              "((5045, 64, 8), (5045, 8))"
            ]
          },
          "metadata": {},
          "execution_count": 42
        }
      ]
    },
    {
      "cell_type": "code",
      "source": [
        "trainvalX = np.row_stack((trainX,validX))\n",
        "trainvalY= np.row_stack((trainY,validY))"
      ],
      "metadata": {
        "id": "i3II43u3clLg"
      },
      "execution_count": null,
      "outputs": []
    },
    {
      "cell_type": "code",
      "source": [
        "model_rebuild.fit(trainvalX, trainvalY, epochs=35, batch_size=4, validation_data=(testX, testY), callbacks=callback)"
      ],
      "metadata": {
        "id": "LYVTR9hN-hyR",
        "colab": {
          "base_uri": "https://localhost:8080/"
        },
        "outputId": "0c847adc-a7e9-41c8-eebc-c1d081f66a8d"
      },
      "execution_count": null,
      "outputs": [
        {
          "output_type": "stream",
          "name": "stdout",
          "text": [
            "Epoch 1/35\n",
            "1262/1262 [==============================] - 25s 18ms/step - loss: 0.0024 - val_loss: 0.0022 - lr: 0.0100\n",
            "Epoch 2/35\n",
            "1262/1262 [==============================] - 25s 20ms/step - loss: 0.0015 - val_loss: 0.0017 - lr: 0.0100\n",
            "Epoch 3/35\n",
            "1262/1262 [==============================] - 24s 19ms/step - loss: 0.0014 - val_loss: 0.0012 - lr: 0.0100\n",
            "Epoch 4/35\n",
            "1262/1262 [==============================] - 27s 22ms/step - loss: 0.0013 - val_loss: 0.0012 - lr: 0.0100\n",
            "Epoch 5/35\n",
            "1262/1262 [==============================] - 27s 22ms/step - loss: 0.0013 - val_loss: 0.0014 - lr: 0.0100\n",
            "Epoch 6/35\n",
            "1262/1262 [==============================] - 27s 22ms/step - loss: 0.0013 - val_loss: 0.0016 - lr: 0.0100\n",
            "Epoch 7/35\n",
            "1262/1262 [==============================] - ETA: 0s - loss: 0.0013\n",
            "Epoch 7: ReduceLROnPlateau reducing learning rate to 0.0009999999776482583.\n",
            "1262/1262 [==============================] - 27s 22ms/step - loss: 0.0013 - val_loss: 0.0013 - lr: 0.0100\n",
            "Epoch 8/35\n",
            "1262/1262 [==============================] - 27s 21ms/step - loss: 0.0010 - val_loss: 0.0011 - lr: 1.0000e-03\n",
            "Epoch 9/35\n",
            "1262/1262 [==============================] - 27s 22ms/step - loss: 0.0010 - val_loss: 0.0011 - lr: 1.0000e-03\n",
            "Epoch 10/35\n",
            "1262/1262 [==============================] - 27s 22ms/step - loss: 0.0010 - val_loss: 0.0011 - lr: 1.0000e-03\n",
            "Epoch 11/35\n",
            "1262/1262 [==============================] - 28s 22ms/step - loss: 0.0010 - val_loss: 0.0011 - lr: 1.0000e-03\n",
            "Epoch 12/35\n",
            "1261/1262 [============================>.] - ETA: 0s - loss: 0.0010\n",
            "Epoch 12: ReduceLROnPlateau reducing learning rate to 9.999999310821295e-05.\n",
            "1262/1262 [==============================] - 28s 23ms/step - loss: 0.0010 - val_loss: 0.0011 - lr: 1.0000e-03\n",
            "Epoch 13/35\n",
            "1262/1262 [==============================] - 27s 22ms/step - loss: 9.9668e-04 - val_loss: 0.0011 - lr: 1.0000e-04\n",
            "Epoch 14/35\n",
            "1262/1262 [==============================] - 27s 21ms/step - loss: 9.9382e-04 - val_loss: 0.0011 - lr: 1.0000e-04\n",
            "Epoch 15/35\n",
            "1262/1262 [==============================] - 27s 21ms/step - loss: 9.9429e-04 - val_loss: 0.0011 - lr: 1.0000e-04\n",
            "Epoch 16/35\n",
            "1262/1262 [==============================] - 27s 21ms/step - loss: 9.9399e-04 - val_loss: 0.0011 - lr: 1.0000e-04\n",
            "Epoch 17/35\n",
            "1262/1262 [==============================] - 27s 21ms/step - loss: 9.9394e-04 - val_loss: 0.0011 - lr: 1.0000e-04\n",
            "Epoch 18/35\n",
            "1262/1262 [==============================] - 26s 21ms/step - loss: 9.9215e-04 - val_loss: 0.0011 - lr: 1.0000e-04\n",
            "Epoch 19/35\n",
            "1262/1262 [==============================] - 26s 20ms/step - loss: 9.9366e-04 - val_loss: 0.0011 - lr: 1.0000e-04\n",
            "Epoch 20/35\n",
            "1262/1262 [==============================] - 26s 21ms/step - loss: 9.9343e-04 - val_loss: 0.0011 - lr: 1.0000e-04\n",
            "Epoch 21/35\n",
            "1261/1262 [============================>.] - ETA: 0s - loss: 9.9318e-04\n",
            "Epoch 21: ReduceLROnPlateau reducing learning rate to 9.999999019782991e-06.\n",
            "1262/1262 [==============================] - 26s 20ms/step - loss: 9.9313e-04 - val_loss: 0.0011 - lr: 1.0000e-04\n",
            "Epoch 22/35\n",
            "1262/1262 [==============================] - 25s 20ms/step - loss: 9.9061e-04 - val_loss: 0.0011 - lr: 1.0000e-05\n",
            "Epoch 23/35\n",
            "1262/1262 [==============================] - 25s 19ms/step - loss: 9.9012e-04 - val_loss: 0.0011 - lr: 1.0000e-05\n",
            "Epoch 24/35\n",
            "1262/1262 [==============================] - ETA: 0s - loss: 9.8993e-04\n",
            "Epoch 24: ReduceLROnPlateau reducing learning rate to 9.99999883788405e-07.\n",
            "1262/1262 [==============================] - 24s 19ms/step - loss: 9.8993e-04 - val_loss: 0.0011 - lr: 1.0000e-05\n",
            "Epoch 25/35\n",
            "1262/1262 [==============================] - 24s 19ms/step - loss: 9.8961e-04 - val_loss: 0.0011 - lr: 1.0000e-06\n",
            "Epoch 26/35\n",
            "1261/1262 [============================>.] - ETA: 0s - loss: 9.8977e-04Restoring model weights from the end of the best epoch: 18.\n",
            "1262/1262 [==============================] - 24s 19ms/step - loss: 9.8959e-04 - val_loss: 0.0011 - lr: 1.0000e-06\n",
            "Epoch 26: early stopping\n"
          ]
        },
        {
          "output_type": "execute_result",
          "data": {
            "text/plain": [
              "<keras.callbacks.History at 0x7fb7dd69aa60>"
            ]
          },
          "metadata": {},
          "execution_count": 44
        }
      ]
    },
    {
      "cell_type": "code",
      "source": [
        "#Save the model\n",
        "model_rebuild.save(\"multiv_v1refit_t5.h5\")"
      ],
      "metadata": {
        "id": "Fip585igIq7u"
      },
      "execution_count": null,
      "outputs": []
    },
    {
      "cell_type": "markdown",
      "source": [
        "**Save & load the model**"
      ],
      "metadata": {
        "id": "S7T7aDVSRNqi"
      }
    },
    {
      "cell_type": "code",
      "source": [
        "#Save the model\n",
        "#model.save(\"run3_model_v1_t5_univ.h5\")"
      ],
      "metadata": {
        "id": "CrC8sSTaRNqi"
      },
      "execution_count": null,
      "outputs": []
    },
    {
      "cell_type": "code",
      "source": [
        "#Load the model\n",
        "model = keras.models.load_model(\"multiv_v1refit_t5.h5\")\n",
        "model.summary()"
      ],
      "metadata": {
        "colab": {
          "base_uri": "https://localhost:8080/"
        },
        "outputId": "07aa24dd-b96e-44aa-f97e-9f692a4e1992",
        "id": "abEB6kY_RNqi"
      },
      "execution_count": null,
      "outputs": [
        {
          "output_type": "stream",
          "name": "stdout",
          "text": [
            "Model: \"sequential_1\"\n",
            "_________________________________________________________________\n",
            " Layer (type)                Output Shape              Param #   \n",
            "=================================================================\n",
            " lstm_1 (LSTM)               (None, 8)                 544       \n",
            "                                                                 \n",
            " dense_1 (Dense)             (None, 8)                 72        \n",
            "                                                                 \n",
            "=================================================================\n",
            "Total params: 616\n",
            "Trainable params: 616\n",
            "Non-trainable params: 0\n",
            "_________________________________________________________________\n"
          ]
        }
      ]
    },
    {
      "cell_type": "code",
      "source": [
        "#Save the model\n",
        "#model.save('/content/drive/MyDrive/MESIO/TFM/Models')"
      ],
      "metadata": {
        "id": "AKomyddORNqi"
      },
      "execution_count": null,
      "outputs": []
    },
    {
      "cell_type": "code",
      "source": [
        "#Load the model\n",
        "#model = keras.models.load_model('/content/drive/MyDrive/MESIO/TFM/Models')\n",
        "#model.summary()"
      ],
      "metadata": {
        "id": "EeV14LRNRNqi"
      },
      "execution_count": null,
      "outputs": []
    },
    {
      "cell_type": "markdown",
      "source": [
        "**Evaluate on test set**"
      ],
      "metadata": {
        "id": "n1Fg4bCcB3Fn"
      }
    },
    {
      "cell_type": "code",
      "source": [
        "# Evaluate the model on the test data\n",
        "results = model.evaluate(testX, testY, batch_size=4)\n",
        "print(\"test loss: \", results)"
      ],
      "metadata": {
        "id": "yTxnxyCNBxOy",
        "colab": {
          "base_uri": "https://localhost:8080/"
        },
        "outputId": "d9f5b2a3-4399-4dd7-e7b3-8d4207531949"
      },
      "execution_count": null,
      "outputs": [
        {
          "output_type": "stream",
          "name": "stdout",
          "text": [
            "127/127 [==============================] - 1s 4ms/step - loss: 0.0011\n",
            "test loss:  0.0010852370178326964\n"
          ]
        }
      ]
    },
    {
      "cell_type": "markdown",
      "source": [
        "**Evaluate by country**"
      ],
      "metadata": {
        "id": "tHUmYN9EuWI0"
      }
    },
    {
      "cell_type": "code",
      "source": [
        "# Plot the predictions\n",
        "plt.plot(range(len(pred)), pred, label=\"pred\")\n",
        "plt.plot(range(len(actual)), actual, label = \"actual\")\n",
        "plt.legend()\n",
        "plt.show()"
      ],
      "metadata": {
        "colab": {
          "base_uri": "https://localhost:8080/",
          "height": 282
        },
        "id": "-T0YtAdD4I0s",
        "outputId": "d00428b7-fb7e-4403-c6c0-a917182ec2d7"
      },
      "execution_count": null,
      "outputs": [
        {
          "output_type": "display_data",
          "data": {
            "text/plain": [
              "<Figure size 432x288 with 1 Axes>"
            ],
            "image/png": "[encoded data removed]"
          },
          "metadata": {}
        }
      ]
    }
  ]
}