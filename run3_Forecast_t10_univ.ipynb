{
  "nbformat": 4,
  "nbformat_minor": 0,
  "metadata": {
    "colab": {
      "provenance": [],
      "machine_shape": "hm",
      "authorship_tag": "ABX9TyMLwJo4Zk62JiL5ZsNX94vn",
      "include_colab_link": true
    },
    "kernelspec": {
      "name": "python3",
      "display_name": "Python 3"
    },
    "language_info": {
      "name": "python"
    },
    "accelerator": "TPU",
    "gpuClass": "premium"
  },
  "cells": [
    {
      "cell_type": "markdown",
      "metadata": {
        "id": "view-in-github",
        "colab_type": "text"
      },
      "source": [
        "<a href=\"https://colab.research.google.com/github/oriol33/TFM_OriolGairin/blob/main/run3_Forecast_t10_univ.ipynb\" target=\"_parent\"><img src=\"https://colab.research.google.com/assets/colab-badge.svg\" alt=\"Open In Colab\"/></a>"
      ]
    },
    {
      "cell_type": "markdown",
      "source": [
        "# **LSTM Forecast on CISS series**"
      ],
      "metadata": {
        "id": "QkSdK_xdDJcS"
      }
    },
    {
      "cell_type": "code",
      "source": [
        "#Import libraries\n",
        "import math\n",
        "import numpy as np\n",
        "import pandas as pd\n",
        "from keras.models import Sequential\n",
        "from keras.layers import Dense, LSTM, Dropout\n",
        "import matplotlib.pyplot as plt\n",
        "import tensorflow as tf\n",
        "from tensorflow import keras\n",
        "from sklearn.metrics import mean_absolute_error, mean_squared_error\n",
        "#from keras.engine.sequential import training_utils\n",
        "#from sklearn.preprocessing import MinMaxScaler\n",
        "\n",
        "plt.style.use('fivethirtyeight')"
      ],
      "metadata": {
        "id": "xf6hYAAIEiP-"
      },
      "execution_count": null,
      "outputs": []
    },
    {
      "cell_type": "code",
      "source": [
        "pip install keras-tuner --upgrade"
      ],
      "metadata": {
        "id": "SMyJDAC3dtQ5"
      },
      "execution_count": null,
      "outputs": []
    },
    {
      "cell_type": "code",
      "source": [
        "import keras_tuner"
      ],
      "metadata": {
        "id": "BN_z24Pbd-_U"
      },
      "execution_count": null,
      "outputs": []
    },
    {
      "cell_type": "code",
      "source": [
        "#For saving and loading our model\n",
        "import os \n",
        "from google.colab import drive\n",
        "drive.mount('/content/drive')"
      ],
      "metadata": {
        "colab": {
          "base_uri": "https://localhost:8080/"
        },
        "id": "Q1rpIQJtZ5eV",
        "outputId": "8cb0c76f-b784-4fff-e96c-819c0fc7b2fb"
      },
      "execution_count": null,
      "outputs": [
        {
          "output_type": "stream",
          "name": "stdout",
          "text": [
            "Mounted at /content/drive\n"
          ]
        }
      ]
    },
    {
      "cell_type": "code",
      "source": [
        "cwd = os.getcwd()  # Get the current working directory (cwd)\n",
        "files = os.listdir(cwd)  # Get all the files in that directory\n",
        "print(\"Files in %r: %s\" % (cwd, files))"
      ],
      "metadata": {
        "colab": {
          "base_uri": "https://localhost:8080/"
        },
        "id": "g6_WcEaCdVMN",
        "outputId": "7d3c303a-9b18-4c89-c6e6-f9ae55d92fc1"
      },
      "execution_count": null,
      "outputs": [
        {
          "output_type": "stream",
          "name": "stdout",
          "text": [
            "Files in '/content': ['.config', 'drive', 'sample_data']\n"
          ]
        }
      ]
    },
    {
      "cell_type": "code",
      "source": [
        "# change the OS to use your project folder as the working directory\n",
        "os.chdir('/content/drive/MyDrive/MESIO/TFM/Models')"
      ],
      "metadata": {
        "id": "hE3iHCQHduPs"
      },
      "execution_count": null,
      "outputs": []
    },
    {
      "cell_type": "code",
      "source": [
        "#Comprovation purposes\n",
        "!touch 'new_file_in_working_directory.txt'"
      ],
      "metadata": {
        "id": "hlwGN2D4eQ26"
      },
      "execution_count": null,
      "outputs": []
    },
    {
      "cell_type": "code",
      "source": [
        "#Entorno de ejecución\n",
        "gpu_info = !nvidia-smi\n",
        "gpu_info = '\\n'.join(gpu_info)\n",
        "if gpu_info.find('failed') >= 0:\n",
        "  print('Not connected to a GPU')\n",
        "else:\n",
        "  print(gpu_info)"
      ],
      "metadata": {
        "colab": {
          "base_uri": "https://localhost:8080/"
        },
        "id": "XsteEh1SB7A4",
        "outputId": "d24c2c11-0119-41c3-ef23-47260b0ffc1b"
      },
      "execution_count": null,
      "outputs": [
        {
          "output_type": "stream",
          "name": "stdout",
          "text": [
            "Not connected to a GPU\n"
          ]
        }
      ]
    },
    {
      "cell_type": "code",
      "source": [
        "from psutil import virtual_memory\n",
        "ram_gb = virtual_memory().total / 1e9\n",
        "print('Your runtime has {:.1f} gigabytes of available RAM\\n'.format(ram_gb))\n",
        "\n",
        "if ram_gb < 20:\n",
        "  print('Not using a high-RAM runtime')\n",
        "else:\n",
        "  print('You are using a high-RAM runtime!')"
      ],
      "metadata": {
        "colab": {
          "base_uri": "https://localhost:8080/"
        },
        "id": "WZ7iEv03ENRK",
        "outputId": "f29869d7-53b5-4d32-e8a1-50d3a3728ad4"
      },
      "execution_count": null,
      "outputs": [
        {
          "output_type": "stream",
          "name": "stdout",
          "text": [
            "Your runtime has 37.8 gigabytes of available RAM\n",
            "\n",
            "You are using a high-RAM runtime!\n"
          ]
        }
      ]
    },
    {
      "cell_type": "markdown",
      "source": [
        "**Upload and preparation of the data**"
      ],
      "metadata": {
        "id": "3dVOZdCeDZCJ"
      }
    },
    {
      "cell_type": "code",
      "execution_count": null,
      "metadata": {
        "id": "wpSX4glUC9g0",
        "colab": {
          "base_uri": "https://localhost:8080/",
          "height": 56
        },
        "outputId": "6e1d31ed-e28c-463d-fa8c-671f47f162a0"
      },
      "outputs": [
        {
          "output_type": "display_data",
          "data": {
            "text/plain": [
              "<IPython.core.display.HTML object>"
            ],
            "text/html": [
              "\n",
              "     <input type=\"file\" id=\"files-aad91881-d8e0-40a8-9a19-e3e4fd15d669\" name=\"files[]\" multiple disabled\n",
              "        style=\"border:none\" />\n",
              "     <output id=\"result-aad91881-d8e0-40a8-9a19-e3e4fd15d669\">\n",
              "      Upload widget is only available when the cell has been executed in the\n",
              "      current browser session. Please rerun this cell to enable.\n",
              "      </output>\n",
              "      <script>// Copyright 2017 Google LLC\n",
              "//\n",
              "// Licensed under the Apache License, Version 2.0 (the \"License\");\n",
              "// you may not use this file except in compliance with the License.\n",
              "// You may obtain a copy of the License at\n",
              "//\n",
              "//      http://www.apache.org/licenses/LICENSE-2.0\n",
              "//\n",
              "// Unless required by applicable law or agreed to in writing, software\n",
              "// distributed under the License is distributed on an \"AS IS\" BASIS,\n",
              "// WITHOUT WARRANTIES OR CONDITIONS OF ANY KIND, either express or implied.\n",
              "// See the License for the specific language governing permissions and\n",
              "// limitations under the License.\n",
              "\n",
              "/**\n",
              " * @fileoverview Helpers for google.colab Python module.\n",
              " */\n",
              "(function(scope) {\n",
              "function span(text, styleAttributes = {}) {\n",
              "  const element = document.createElement('span');\n",
              "  element.textContent = text;\n",
              "  for (const key of Object.keys(styleAttributes)) {\n",
              "    element.style[key] = styleAttributes[key];\n",
              "  }\n",
              "  return element;\n",
              "}\n",
              "\n",
              "// Max number of bytes which will be uploaded at a time.\n",
              "const MAX_PAYLOAD_SIZE = 100 * 1024;\n",
              "\n",
              "function _uploadFiles(inputId, outputId) {\n",
              "  const steps = uploadFilesStep(inputId, outputId);\n",
              "  const outputElement = document.getElementById(outputId);\n",
              "  // Cache steps on the outputElement to make it available for the next call\n",
              "  // to uploadFilesContinue from Python.\n",
              "  outputElement.steps = steps;\n",
              "\n",
              "  return _uploadFilesContinue(outputId);\n",
              "}\n",
              "\n",
              "// This is roughly an async generator (not supported in the browser yet),\n",
              "// where there are multiple asynchronous steps and the Python side is going\n",
              "// to poll for completion of each step.\n",
              "// This uses a Promise to block the python side on completion of each step,\n",
              "// then passes the result of the previous step as the input to the next step.\n",
              "function _uploadFilesContinue(outputId) {\n",
              "  const outputElement = document.getElementById(outputId);\n",
              "  const steps = outputElement.steps;\n",
              "\n",
              "  const next = steps.next(outputElement.lastPromiseValue);\n",
              "  return Promise.resolve(next.value.promise).then((value) => {\n",
              "    // Cache the last promise value to make it available to the next\n",
              "    // step of the generator.\n",
              "    outputElement.lastPromiseValue = value;\n",
              "    return next.value.response;\n",
              "  });\n",
              "}\n",
              "\n",
              "/**\n",
              " * Generator function which is called between each async step of the upload\n",
              " * process.\n",
              " * @param {string} inputId Element ID of the input file picker element.\n",
              " * @param {string} outputId Element ID of the output display.\n",
              " * @return {!Iterable<!Object>} Iterable of next steps.\n",
              " */\n",
              "function* uploadFilesStep(inputId, outputId) {\n",
              "  const inputElement = document.getElementById(inputId);\n",
              "  inputElement.disabled = false;\n",
              "\n",
              "  const outputElement = document.getElementById(outputId);\n",
              "  outputElement.innerHTML = '';\n",
              "\n",
              "  const pickedPromise = new Promise((resolve) => {\n",
              "    inputElement.addEventListener('change', (e) => {\n",
              "      resolve(e.target.files);\n",
              "    });\n",
              "  });\n",
              "\n",
              "  const cancel = document.createElement('button');\n",
              "  inputElement.parentElement.appendChild(cancel);\n",
              "  cancel.textContent = 'Cancel upload';\n",
              "  const cancelPromise = new Promise((resolve) => {\n",
              "    cancel.onclick = () => {\n",
              "      resolve(null);\n",
              "    };\n",
              "  });\n",
              "\n",
              "  // Wait for the user to pick the files.\n",
              "  const files = yield {\n",
              "    promise: Promise.race([pickedPromise, cancelPromise]),\n",
              "    response: {\n",
              "      action: 'starting',\n",
              "    }\n",
              "  };\n",
              "\n",
              "  cancel.remove();\n",
              "\n",
              "  // Disable the input element since further picks are not allowed.\n",
              "  inputElement.disabled = true;\n",
              "\n",
              "  if (!files) {\n",
              "    return {\n",
              "      response: {\n",
              "        action: 'complete',\n",
              "      }\n",
              "    };\n",
              "  }\n",
              "\n",
              "  for (const file of files) {\n",
              "    const li = document.createElement('li');\n",
              "    li.append(span(file.name, {fontWeight: 'bold'}));\n",
              "    li.append(span(\n",
              "        `(${file.type || 'n/a'}) - ${file.size} bytes, ` +\n",
              "        `last modified: ${\n",
              "            file.lastModifiedDate ? file.lastModifiedDate.toLocaleDateString() :\n",
              "                                    'n/a'} - `));\n",
              "    const percent = span('0% done');\n",
              "    li.appendChild(percent);\n",
              "\n",
              "    outputElement.appendChild(li);\n",
              "\n",
              "    const fileDataPromise = new Promise((resolve) => {\n",
              "      const reader = new FileReader();\n",
              "      reader.onload = (e) => {\n",
              "        resolve(e.target.result);\n",
              "      };\n",
              "      reader.readAsArrayBuffer(file);\n",
              "    });\n",
              "    // Wait for the data to be ready.\n",
              "    let fileData = yield {\n",
              "      promise: fileDataPromise,\n",
              "      response: {\n",
              "        action: 'continue',\n",
              "      }\n",
              "    };\n",
              "\n",
              "    // Use a chunked sending to avoid message size limits. See b/62115660.\n",
              "    let position = 0;\n",
              "    do {\n",
              "      const length = Math.min(fileData.byteLength - position, MAX_PAYLOAD_SIZE);\n",
              "      const chunk = new Uint8Array(fileData, position, length);\n",
              "      position += length;\n",
              "\n",
              "      const base64 = btoa(String.fromCharCode.apply(null, chunk));\n",
              "      yield {\n",
              "        response: {\n",
              "          action: 'append',\n",
              "          file: file.name,\n",
              "          data: base64,\n",
              "        },\n",
              "      };\n",
              "\n",
              "      let percentDone = fileData.byteLength === 0 ?\n",
              "          100 :\n",
              "          Math.round((position / fileData.byteLength) * 100);\n",
              "      percent.textContent = `${percentDone}% done`;\n",
              "\n",
              "    } while (position < fileData.byteLength);\n",
              "  }\n",
              "\n",
              "  // All done.\n",
              "  yield {\n",
              "    response: {\n",
              "      action: 'complete',\n",
              "    }\n",
              "  };\n",
              "}\n",
              "\n",
              "scope.google = scope.google || {};\n",
              "scope.google.colab = scope.google.colab || {};\n",
              "scope.google.colab._files = {\n",
              "  _uploadFiles,\n",
              "  _uploadFilesContinue,\n",
              "};\n",
              "})(self);\n",
              "</script> "
            ]
          },
          "metadata": {}
        },
        {
          "output_type": "execute_result",
          "data": {
            "text/plain": [
              "{}"
            ]
          },
          "metadata": {},
          "execution_count": 8
        }
      ],
      "source": [
        "#Import files from desktop\n",
        "from google.colab import files\n",
        " \n",
        "files.upload()  "
      ]
    },
    {
      "cell_type": "code",
      "source": [
        "#Read csv\n",
        "euro = pd.read_csv('euro.csv', skiprows=5)\n",
        "uk = pd.read_csv('uk.csv', skiprows=5)\n",
        "us = pd.read_csv('us.csv', skiprows=5)\n",
        "china = pd.read_csv('china.csv', skiprows=5)\n",
        "germany = pd.read_csv('germany.csv', skiprows=5)\n",
        "italy = pd.read_csv('italy.csv', skiprows=5)\n",
        "spain = pd.read_csv('spain.csv', skiprows=5)\n",
        "portugal = pd.read_csv('portugal.csv', skiprows=5)\n",
        "france = pd.read_csv('france.csv', skiprows=5)"
      ],
      "metadata": {
        "id": "GTB6iws_EeQE"
      },
      "execution_count": null,
      "outputs": []
    },
    {
      "cell_type": "code",
      "source": [
        "# Change column names\n",
        "euro.columns = ['date', 'value', 'status']\n",
        "uk.columns = ['date', 'value', 'status']\n",
        "us.columns = ['date', 'value', 'status']\n",
        "china.columns = ['date', 'value', 'status', 'comment']\n",
        "germany.columns = ['date', 'value', 'status', 'comment']\n",
        "italy.columns = ['date', 'value', 'status']\n",
        "spain.columns = ['date', 'value', 'status']\n",
        "portugal.columns = ['date', 'value', 'status']\n",
        "france.columns = ['date', 'value', 'status']"
      ],
      "metadata": {
        "id": "0rAw6QQRFGbs"
      },
      "execution_count": null,
      "outputs": []
    },
    {
      "cell_type": "code",
      "source": [
        "uk"
      ],
      "metadata": {
        "colab": {
          "base_uri": "https://localhost:8080/",
          "height": 423
        },
        "id": "RRzAj68qGFyJ",
        "outputId": "25bd6467-b68b-4bc0-a389-9d4adc478df2"
      },
      "execution_count": null,
      "outputs": [
        {
          "output_type": "execute_result",
          "data": {
            "text/plain": [
              "            date   value            status\n",
              "0     2022-09-16  0.2753  Normal value (A)\n",
              "1     2022-09-15  0.2615  Normal value (A)\n",
              "2     2022-09-14  0.2571  Normal value (A)\n",
              "3     2022-09-13  0.2375  Normal value (A)\n",
              "4     2022-09-12  0.2234  Normal value (A)\n",
              "...          ...     ...               ...\n",
              "5750  2000-09-07  0.0308  Normal value (A)\n",
              "5751  2000-09-06  0.0254  Normal value (A)\n",
              "5752  2000-09-05  0.0269  Normal value (A)\n",
              "5753  2000-09-04  0.0331  Normal value (A)\n",
              "5754  2000-09-01  0.0305  Normal value (A)\n",
              "\n",
              "[5755 rows x 3 columns]"
            ],
            "text/html": [
              "\n",
              "  <div id=\"df-dc9e0c28-ba01-402b-b017-91c6eb620e78\">\n",
              "    <div class=\"colab-df-container\">\n",
              "      <div>\n",
              "<style scoped>\n",
              "    .dataframe tbody tr th:only-of-type {\n",
              "        vertical-align: middle;\n",
              "    }\n",
              "\n",
              "    .dataframe tbody tr th {\n",
              "        vertical-align: top;\n",
              "    }\n",
              "\n",
              "    .dataframe thead th {\n",
              "        text-align: right;\n",
              "    }\n",
              "</style>\n",
              "<table border=\"1\" class=\"dataframe\">\n",
              "  <thead>\n",
              "    <tr style=\"text-align: right;\">\n",
              "      <th></th>\n",
              "      <th>date</th>\n",
              "      <th>value</th>\n",
              "      <th>status</th>\n",
              "    </tr>\n",
              "  </thead>\n",
              "  <tbody>\n",
              "    <tr>\n",
              "      <th>0</th>\n",
              "      <td>2022-09-16</td>\n",
              "      <td>0.2753</td>\n",
              "      <td>Normal value (A)</td>\n",
              "    </tr>\n",
              "    <tr>\n",
              "      <th>1</th>\n",
              "      <td>2022-09-15</td>\n",
              "      <td>0.2615</td>\n",
              "      <td>Normal value (A)</td>\n",
              "    </tr>\n",
              "    <tr>\n",
              "      <th>2</th>\n",
              "      <td>2022-09-14</td>\n",
              "      <td>0.2571</td>\n",
              "      <td>Normal value (A)</td>\n",
              "    </tr>\n",
              "    <tr>\n",
              "      <th>3</th>\n",
              "      <td>2022-09-13</td>\n",
              "      <td>0.2375</td>\n",
              "      <td>Normal value (A)</td>\n",
              "    </tr>\n",
              "    <tr>\n",
              "      <th>4</th>\n",
              "      <td>2022-09-12</td>\n",
              "      <td>0.2234</td>\n",
              "      <td>Normal value (A)</td>\n",
              "    </tr>\n",
              "    <tr>\n",
              "      <th>...</th>\n",
              "      <td>...</td>\n",
              "      <td>...</td>\n",
              "      <td>...</td>\n",
              "    </tr>\n",
              "    <tr>\n",
              "      <th>5750</th>\n",
              "      <td>2000-09-07</td>\n",
              "      <td>0.0308</td>\n",
              "      <td>Normal value (A)</td>\n",
              "    </tr>\n",
              "    <tr>\n",
              "      <th>5751</th>\n",
              "      <td>2000-09-06</td>\n",
              "      <td>0.0254</td>\n",
              "      <td>Normal value (A)</td>\n",
              "    </tr>\n",
              "    <tr>\n",
              "      <th>5752</th>\n",
              "      <td>2000-09-05</td>\n",
              "      <td>0.0269</td>\n",
              "      <td>Normal value (A)</td>\n",
              "    </tr>\n",
              "    <tr>\n",
              "      <th>5753</th>\n",
              "      <td>2000-09-04</td>\n",
              "      <td>0.0331</td>\n",
              "      <td>Normal value (A)</td>\n",
              "    </tr>\n",
              "    <tr>\n",
              "      <th>5754</th>\n",
              "      <td>2000-09-01</td>\n",
              "      <td>0.0305</td>\n",
              "      <td>Normal value (A)</td>\n",
              "    </tr>\n",
              "  </tbody>\n",
              "</table>\n",
              "<p>5755 rows × 3 columns</p>\n",
              "</div>\n",
              "      <button class=\"colab-df-convert\" onclick=\"convertToInteractive('df-dc9e0c28-ba01-402b-b017-91c6eb620e78')\"\n",
              "              title=\"Convert this dataframe to an interactive table.\"\n",
              "              style=\"display:none;\">\n",
              "        \n",
              "  <svg xmlns=\"http://www.w3.org/2000/svg\" height=\"24px\"viewBox=\"0 0 24 24\"\n",
              "       width=\"24px\">\n",
              "    <path d=\"M0 0h24v24H0V0z\" fill=\"none\"/>\n",
              "    <path d=\"M18.56 5.44l.94 2.06.94-2.06 2.06-.94-2.06-.94-.94-2.06-.94 2.06-2.06.94zm-11 1L8.5 8.5l.94-2.06 2.06-.94-2.06-.94L8.5 2.5l-.94 2.06-2.06.94zm10 10l.94 2.06.94-2.06 2.06-.94-2.06-.94-.94-2.06-.94 2.06-2.06.94z\"/><path d=\"M17.41 7.96l-1.37-1.37c-.4-.4-.92-.59-1.43-.59-.52 0-1.04.2-1.43.59L10.3 9.45l-7.72 7.72c-.78.78-.78 2.05 0 2.83L4 21.41c.39.39.9.59 1.41.59.51 0 1.02-.2 1.41-.59l7.78-7.78 2.81-2.81c.8-.78.8-2.07 0-2.86zM5.41 20L4 18.59l7.72-7.72 1.47 1.35L5.41 20z\"/>\n",
              "  </svg>\n",
              "      </button>\n",
              "      \n",
              "  <style>\n",
              "    .colab-df-container {\n",
              "      display:flex;\n",
              "      flex-wrap:wrap;\n",
              "      gap: 12px;\n",
              "    }\n",
              "\n",
              "    .colab-df-convert {\n",
              "      background-color: #E8F0FE;\n",
              "      border: none;\n",
              "      border-radius: 50%;\n",
              "      cursor: pointer;\n",
              "      display: none;\n",
              "      fill: #1967D2;\n",
              "      height: 32px;\n",
              "      padding: 0 0 0 0;\n",
              "      width: 32px;\n",
              "    }\n",
              "\n",
              "    .colab-df-convert:hover {\n",
              "      background-color: #E2EBFA;\n",
              "      box-shadow: 0px 1px 2px rgba(60, 64, 67, 0.3), 0px 1px 3px 1px rgba(60, 64, 67, 0.15);\n",
              "      fill: #174EA6;\n",
              "    }\n",
              "\n",
              "    [theme=dark] .colab-df-convert {\n",
              "      background-color: #3B4455;\n",
              "      fill: #D2E3FC;\n",
              "    }\n",
              "\n",
              "    [theme=dark] .colab-df-convert:hover {\n",
              "      background-color: #434B5C;\n",
              "      box-shadow: 0px 1px 3px 1px rgba(0, 0, 0, 0.15);\n",
              "      filter: drop-shadow(0px 1px 2px rgba(0, 0, 0, 0.3));\n",
              "      fill: #FFFFFF;\n",
              "    }\n",
              "  </style>\n",
              "\n",
              "      <script>\n",
              "        const buttonEl =\n",
              "          document.querySelector('#df-dc9e0c28-ba01-402b-b017-91c6eb620e78 button.colab-df-convert');\n",
              "        buttonEl.style.display =\n",
              "          google.colab.kernel.accessAllowed ? 'block' : 'none';\n",
              "\n",
              "        async function convertToInteractive(key) {\n",
              "          const element = document.querySelector('#df-dc9e0c28-ba01-402b-b017-91c6eb620e78');\n",
              "          const dataTable =\n",
              "            await google.colab.kernel.invokeFunction('convertToInteractive',\n",
              "                                                     [key], {});\n",
              "          if (!dataTable) return;\n",
              "\n",
              "          const docLinkHtml = 'Like what you see? Visit the ' +\n",
              "            '<a target=\"_blank\" href=https://colab.research.google.com/notebooks/data_table.ipynb>data table notebook</a>'\n",
              "            + ' to learn more about interactive tables.';\n",
              "          element.innerHTML = '';\n",
              "          dataTable['output_type'] = 'display_data';\n",
              "          await google.colab.output.renderOutput(dataTable, element);\n",
              "          const docLink = document.createElement('div');\n",
              "          docLink.innerHTML = docLinkHtml;\n",
              "          element.appendChild(docLink);\n",
              "        }\n",
              "      </script>\n",
              "    </div>\n",
              "  </div>\n",
              "  "
            ]
          },
          "metadata": {},
          "execution_count": 9
        }
      ]
    },
    {
      "cell_type": "code",
      "source": [
        "#Reverse data frame (so that first observation is the oldest)\n",
        "euro = euro.loc[::-1].reset_index(drop=True)\n",
        "uk = uk.loc[::-1].reset_index(drop=True)\n",
        "us = us.loc[::-1].reset_index(drop=True)\n",
        "china = china.loc[::-1].reset_index(drop=True)\n",
        "germany = germany.loc[::-1].reset_index(drop=True)\n",
        "italy = italy.loc[::-1].reset_index(drop=True)\n",
        "spain = spain.loc[::-1].reset_index(drop=True)\n",
        "portugal = portugal.loc[::-1].reset_index(drop=True)\n",
        "france = france.loc[::-1].reset_index(drop=True)"
      ],
      "metadata": {
        "id": "mVHcEXHEI1_y"
      },
      "execution_count": null,
      "outputs": []
    },
    {
      "cell_type": "code",
      "source": [
        "#Plot\n",
        "plt.figure(figsize=(10,4))\n",
        "plt.title(\"CISS\")\n",
        "plt.plot(france['value'])\n",
        "plt.xlabel('Date', fontsize=18)\n",
        "plt.ylabel('', fontsize=18)\n",
        "plt.show()"
      ],
      "metadata": {
        "colab": {
          "base_uri": "https://localhost:8080/",
          "height": 325
        },
        "id": "9SsCH0qhH_Nf",
        "outputId": "5a946994-795e-421d-a55f-0d25fae63439"
      },
      "execution_count": null,
      "outputs": [
        {
          "output_type": "display_data",
          "data": {
            "text/plain": [
              "<Figure size 720x288 with 1 Axes>"
            ],
            "image/png": "[encoded data removed]"
          },
          "metadata": {}
        }
      ]
    },
    {
      "cell_type": "code",
      "source": [
        "#Select value column\n",
        "euro = euro.filter(['value'])\n",
        "uk = uk.filter(['value'])\n",
        "us = us.filter(['value'])\n",
        "china = china.filter(['value'])\n",
        "germany = germany.filter(['value'])\n",
        "italy = italy.filter(['value'])\n",
        "spain = spain.filter(['value'])\n",
        "portugal = portugal.filter(['value'])\n",
        "france = france.filter(['value'])\n",
        "\n",
        "#Convert dataframe to numpy\n",
        "euro = euro.values\n",
        "uk = uk.values\n",
        "us = us.values\n",
        "china = china.values\n",
        "germany = germany.values\n",
        "italy = italy.values\n",
        "spain = spain.values\n",
        "portugal = portugal.values\n",
        "france = france.values"
      ],
      "metadata": {
        "id": "S7y_ovTLX09r"
      },
      "execution_count": null,
      "outputs": []
    },
    {
      "cell_type": "code",
      "source": [
        "france.shape , china.shape , len(euro)"
      ],
      "metadata": {
        "colab": {
          "base_uri": "https://localhost:8080/"
        },
        "id": "B0YnpPkPhuk3",
        "outputId": "ee97ebbf-6750-4a57-b511-0dacb504a5bc"
      },
      "execution_count": null,
      "outputs": [
        {
          "output_type": "execute_result",
          "data": {
            "text/plain": [
              "((5755, 1), (4160, 1), 5755)"
            ]
          },
          "metadata": {},
          "execution_count": 13
        }
      ]
    },
    {
      "cell_type": "code",
      "source": [
        "#Partitions for Train + Validation + Test\n",
        "train_pct = 0.75\n",
        "valid_pct = 0.15\n",
        "test_pct = 0.10\n",
        "\n",
        "training_data_len = math.ceil(len(euro)*train_pct)\n",
        "valid_data_len = math.ceil(len(euro)*valid_pct)\n",
        "\n",
        "#training_data_len = 4320\n",
        "#valid_data_len = 860\n",
        "\n",
        "#Hyperparamether sequence_length (prediction at t+1 by using previous 'sequence_length' days)\n",
        "sequence_length = 64"
      ],
      "metadata": {
        "id": "3wYi_vRCRo4g"
      },
      "execution_count": null,
      "outputs": []
    },
    {
      "cell_type": "code",
      "source": [
        "#Create the Train , Validation & Test datasets\n",
        "train_euro = euro[0:training_data_len, :]\n",
        "train_uk = uk[0:training_data_len, :]\n",
        "train_us = us[0:training_data_len, :]\n",
        "train_germany = germany[0:training_data_len, :]\n",
        "train_italy = italy[0:training_data_len, :]\n",
        "train_spain = spain[0:training_data_len, :]\n",
        "train_portugal = portugal[0:training_data_len, :]\n",
        "train_france = france[0:training_data_len, :]\n",
        "\n",
        "valid_euro = euro[training_data_len:(training_data_len+valid_data_len), :]\n",
        "valid_uk = uk[training_data_len:(training_data_len+valid_data_len), :]\n",
        "valid_us = us[training_data_len:(training_data_len+valid_data_len), :]\n",
        "valid_germany = germany[training_data_len:(training_data_len+valid_data_len), :]\n",
        "valid_italy = italy[training_data_len:(training_data_len+valid_data_len), :]\n",
        "valid_spain = spain[training_data_len:(training_data_len+valid_data_len), :]\n",
        "valid_portugal = portugal[training_data_len:(training_data_len+valid_data_len), :]\n",
        "valid_france = france[training_data_len:(training_data_len+valid_data_len), :]\n",
        "\n",
        "test_euro = euro[(training_data_len+valid_data_len): , :]\n",
        "test_uk = uk[(training_data_len+valid_data_len): , :]\n",
        "test_us = us[(training_data_len+valid_data_len): , :]\n",
        "test_germany = germany[(training_data_len+valid_data_len): , :]\n",
        "test_italy = italy[(training_data_len+valid_data_len): , :]\n",
        "test_spain = spain[(training_data_len+valid_data_len): , :]\n",
        "test_portugal = portugal[(training_data_len+valid_data_len): , :]\n",
        "test_france = france[(training_data_len+valid_data_len): , :]"
      ],
      "metadata": {
        "id": "g5qJpfHSRs5I"
      },
      "execution_count": null,
      "outputs": []
    },
    {
      "cell_type": "code",
      "source": [
        "print(train_euro.shape ,valid_euro.shape, test_euro.shape)"
      ],
      "metadata": {
        "colab": {
          "base_uri": "https://localhost:8080/"
        },
        "id": "SsdvReXIly54",
        "outputId": "0438cc3b-fc3b-497c-c2e1-7602aac57aca"
      },
      "execution_count": null,
      "outputs": [
        {
          "output_type": "stream",
          "name": "stdout",
          "text": [
            "(4317, 1) (864, 1) (574, 1)\n"
          ]
        }
      ]
    },
    {
      "cell_type": "code",
      "source": [
        "#Adjust china valid and test datasets to the other countries lengths\n",
        "train_china = china[0:(len(china)-len(test_euro)-len(valid_euro)), :]\n",
        "valid_china = china[(len(china)-len(test_euro)-len(valid_euro)):(len(china)-len(test_euro)), :]\n",
        "test_china = china[(len(china)-len(test_euro)): , :]\n",
        "print(train_china.shape, valid_china.shape, test_china.shape)"
      ],
      "metadata": {
        "colab": {
          "base_uri": "https://localhost:8080/"
        },
        "id": "Fa5im_OXI6Sl",
        "outputId": "84e3ec31-b724-44a6-daae-7f1580e75b2a"
      },
      "execution_count": null,
      "outputs": [
        {
          "output_type": "stream",
          "name": "stdout",
          "text": [
            "(2722, 1) (864, 1) (574, 1)\n"
          ]
        }
      ]
    },
    {
      "cell_type": "code",
      "source": [
        "#Create function to compute x_train and y_train sequences (x: input & y:output).\n",
        "def seq_fun(train_data, valid_data, test_data):\n",
        "  x_train = []\n",
        "  y_train = []\n",
        "  x_valid = []\n",
        "  y_valid = []\n",
        "  x_test = []  \n",
        "  y_test = []\n",
        "\n",
        "  for i in range(sequence_length, len(train_data)-9):\n",
        "    x_train.append(train_data[(i-sequence_length):i, 0])\n",
        "    y_train.append(train_data[i+9,0])\n",
        "\n",
        "  for i in range(sequence_length, len(valid_data)-9):\n",
        "    x_valid.append(valid_data[(i-sequence_length):i, 0])\n",
        "    y_valid.append(valid_data[i+9,0])\n",
        "\n",
        "  for i in range(sequence_length, len(test_data)-9):\n",
        "    x_test.append(test_data[(i-sequence_length):i, 0])\n",
        "    y_test.append(test_data[i+9,0])\n",
        "\n",
        "  x_train, y_train, x_valid, y_valid, x_test, y_test = np.array(x_train), np.array(y_train), np.array(x_valid) , np.array(y_valid), np.array(x_test), np.array(y_test)\n",
        "  return(x_train, y_train, x_valid, y_valid, x_test, y_test)"
      ],
      "metadata": {
        "id": "RDID9U7EjNd6"
      },
      "execution_count": null,
      "outputs": []
    },
    {
      "cell_type": "code",
      "source": [
        "#Obtain sequences on our datasets\n",
        "train_euro_x , train_euro_y, valid_euro_x, valid_euro_y, test_euro_x, test_euro_y = seq_fun(train_euro, valid_euro, test_euro) \n",
        "train_uk_x , train_uk_y, valid_uk_x, valid_uk_y, test_uk_x, test_uk_y = seq_fun(train_uk, valid_uk, test_uk) \n",
        "train_us_x , train_us_y, valid_us_x, valid_us_y, test_us_x, test_us_y = seq_fun(train_us, valid_us, test_us)\n",
        "train_germany_x , train_germany_y, valid_germany_x, valid_germany_y, test_germany_x, test_germany_y = seq_fun(train_germany, valid_germany, test_germany)\n",
        "train_italy_x , train_italy_y, valid_italy_x, valid_italy_y, test_italy_x, test_italy_y = seq_fun(train_italy, valid_italy, test_italy)\n",
        "train_spain_x , train_spain_y, valid_spain_x, valid_spain_y, test_spain_x, test_spain_y = seq_fun(train_spain, valid_spain, test_spain)\n",
        "train_portugal_x , train_portugal_y, valid_portugal_x, valid_portugal_y, test_portugal_x, test_portugal_y = seq_fun(train_portugal, valid_portugal, test_portugal)\n",
        "train_france_x , train_france_y, valid_france_x, valid_france_y, test_france_x, test_france_y = seq_fun(train_france, valid_france, test_france)\n",
        "train_china_x , train_china_y, valid_china_x, valid_china_y, test_china_x, test_china_y = seq_fun(train_china, valid_china, test_china)"
      ],
      "metadata": {
        "id": "7Ec7LxHTv01h"
      },
      "execution_count": null,
      "outputs": []
    },
    {
      "cell_type": "code",
      "source": [
        "#for i in range (0,11):\n",
        "# print(train_uk_x[i,] , train_uk_y[i,])"
      ],
      "metadata": {
        "id": "dRIk243j-Ke1"
      },
      "execution_count": null,
      "outputs": []
    },
    {
      "cell_type": "code",
      "source": [
        "#Make sure of the correct shape dimensions\n",
        "print(train_euro_x.shape , train_euro_y.shape, valid_euro_x.shape, valid_euro_y.shape, test_euro_x.shape, test_euro_y.shape)\n",
        "print(train_france_x.shape , train_france_y.shape, valid_france_x.shape, valid_france_y.shape, test_france_x.shape, test_france_y.shape)\n",
        "print(train_china_x.shape , train_china_y.shape, valid_china_x.shape, valid_china_y.shape, test_china_x.shape, test_china_y.shape)"
      ],
      "metadata": {
        "colab": {
          "base_uri": "https://localhost:8080/"
        },
        "id": "abF7M7hswi9w",
        "outputId": "98848d40-b843-4556-f0ef-19817949c7fc"
      },
      "execution_count": null,
      "outputs": [
        {
          "output_type": "stream",
          "name": "stdout",
          "text": [
            "(4244, 64) (4244,) (791, 64) (791,) (501, 64) (501,)\n",
            "(4244, 64) (4244,) (791, 64) (791,) (501, 64) (501,)\n",
            "(2649, 64) (2649,) (791, 64) (791,) (501, 64) (501,)\n"
          ]
        }
      ]
    },
    {
      "cell_type": "markdown",
      "source": [
        "**LSTM network building and training**"
      ],
      "metadata": {
        "id": "hDdYxL2FWs6M"
      }
    },
    {
      "cell_type": "markdown",
      "source": [
        "Our approach consists on using all train_datasets (from all countries) to train one unique LSTM network that generalizes the properties of the CISS indices. We do so because of the lack of large amounts of data and the need for a data augmentation method to avoid overfitting.\n",
        "\n",
        "Precisely, we will have 3 LSTM networks, one for each horizon t+h|t of prediction."
      ],
      "metadata": {
        "id": "eXhaETTNVlGV"
      }
    },
    {
      "cell_type": "markdown",
      "source": [
        "**Approach 1:** Concadenate training sequences. Simplest approach (LSTM benchmark). Take batch_size=1 so that internal state is reset for every sequence within the epoch. No hyperparameter tunning optimization technique (just balanced \"common sense\" choice of hyperparamethers).\n",
        "\n",
        "**Approach 2:** Concadenate training sequences. The input in the model should be ordered in time. We give the model the ability to remember its internal state during the training sequences within each country. After, we reset its internal state. No hyperparameter tunning optimization technique (just balanced \"common sense\" choice of hyperparamethers).\n",
        "\n",
        "**Approach 3:** Bayesian Optimization of the hyperparameter space."
      ],
      "metadata": {
        "id": "LeF33dyjYT92"
      }
    },
    {
      "cell_type": "code",
      "source": [
        "#Concatenate train and validation sequences (input and output)\n",
        "x_train_con = np.concatenate((train_euro_x, train_uk_x, train_us_x, train_germany_x, \n",
        "                              train_italy_x, train_spain_x, train_portugal_x, train_france_x, train_china_x))\n",
        "\n",
        "y_train_con = np.concatenate((train_euro_y, train_uk_y, train_us_y, train_germany_y, \n",
        "                              train_italy_y, train_spain_y, train_portugal_y, train_france_y, train_china_y))\n",
        "\n",
        "x_valid_con = np.concatenate((valid_euro_x, valid_uk_x, valid_us_x, valid_germany_x, \n",
        "                              valid_italy_x, valid_spain_x, valid_portugal_x, valid_france_x, valid_china_x))\n",
        "\n",
        "y_valid_con = np.concatenate((valid_euro_y, valid_uk_y, valid_us_y, valid_germany_y, \n",
        "                              valid_italy_y, valid_spain_y, valid_portugal_y, valid_france_y, valid_china_y))\n",
        "\n",
        "\n",
        "x_train_con.shape , y_train_con.shape, x_valid_con.shape, y_valid_con.shape"
      ],
      "metadata": {
        "colab": {
          "base_uri": "https://localhost:8080/"
        },
        "id": "nXVqvLDlfNi8",
        "outputId": "73a20953-7e79-41f7-9475-e34544bb1c6a"
      },
      "execution_count": null,
      "outputs": [
        {
          "output_type": "execute_result",
          "data": {
            "text/plain": [
              "((36601, 64), (36601,), (7119, 64), (7119,))"
            ]
          },
          "metadata": {},
          "execution_count": 21
        }
      ]
    },
    {
      "cell_type": "code",
      "source": [
        "#print(np.concatenate((train_uk_x[0:1,] , train_euro_x[0:1,])))\n",
        "#print(np.concatenate((train_uk_y[0:1,] , train_euro_y[0:1,])))"
      ],
      "metadata": {
        "id": "muQi6D2kee4F"
      },
      "execution_count": null,
      "outputs": []
    },
    {
      "cell_type": "code",
      "source": [
        "#Reshape the data to fit to LSTM. You have to input 3d array (number of samples, number of timesteps, number of features).\n",
        "#In this scheme, we only feed the model with one sequence (feature) at a time.\n",
        "x_train_con = np.reshape(x_train_con, (x_train_con.shape[0], x_train_con.shape[1], 1))\n",
        "x_valid_con = np.reshape(x_valid_con, (x_valid_con.shape[0], x_valid_con.shape[1], 1))\n",
        "x_train_con.shape, x_valid_con.shape"
      ],
      "metadata": {
        "colab": {
          "base_uri": "https://localhost:8080/"
        },
        "id": "LNTLWmadVOaq",
        "outputId": "06f71419-bb03-48c8-d781-29a44fdf52c3"
      },
      "execution_count": null,
      "outputs": [
        {
          "output_type": "execute_result",
          "data": {
            "text/plain": [
              "((36601, 64, 1), (7119, 64, 1))"
            ]
          },
          "metadata": {},
          "execution_count": 22
        }
      ]
    },
    {
      "cell_type": "markdown",
      "source": [
        "**Hyperparameters and tunning possibilities**: \n",
        "\n",
        "*   Arquitectura del modelo: layers y unidades por layer (Ratio #secuencias/#param. tiene que ser razonable).\n",
        "*   Sequence length: How many timesteps is our input composed of.\n",
        "*   Batch_size: number of samples to work through before updating the internal model parameters (number of samples processed before the model is updated).\n",
        "*   Epochs: number times that the learning algorithm will work through the entire training dataset (the number of complete passes through the training dataset).\n",
        "*   Optimizer: Adam preferred choice overall. Choice of initial learning rate + reducing learning rate once learning stagnates.\n",
        "*   Loss function (define loss function)\n",
        "*   Early stoping (min_delta and patience)\n",
        "*   Dropout regularization (dropout: Fraction of the units to drop for the linear transformation of the inputs; recurrent_dropout: Fraction of the units to drop for the linear transformation of the recurrent state.)\n",
        "\n",
        "By default, an LSTM layer in Keras maintains state between data within one batch. ***If*** our tarining data is not ordered in time, ***then*** we might choose batch size=1 (or multiple length of the samples of one country). The nb. of epochs will depend upon when the loss function is stabilized.\n",
        "\n",
        "By default, the samples within an epoch are shuffled prior to being exposed to the network. ***If*** we want the network to build up state as it learns across the sequence of observations, ***then*** we should disable the shuffling of samples by setting “shuffle” to “False“.\n",
        "\n",
        "---\n",
        "**To do list**\n",
        "\n",
        "(Empty)\n",
        "\n",
        "---\n",
        "**Benchmark comparison**\n",
        "T+1|T (only on germany CISS)\n",
        "\n",
        "*   Naive approach: 0.000092064151\n",
        "*   Arma: 0.00007909968\n",
        "*   Relative Gain: 13.23%\n",
        "\n",
        "\n",
        "\n",
        "\n"
      ],
      "metadata": {
        "id": "fP7WAkMurm-B"
      }
    },
    {
      "cell_type": "code",
      "source": [
        "#Build the LSTM model\n",
        "#Define a function that creates a hypermodel with a bounded (but not specified) hyperparameter space.\n",
        "def hypermodel(hp):\n",
        "  model=Sequential()\n",
        "  model.add(LSTM(units=hp.Int('units',min_value=2, max_value=18, step=2),\n",
        "                              dropout=hp.Float('droput',min_value=0.0, max_value=0.25, step=0.05),\n",
        "                              recurrent_dropout=hp.Float('redroput',min_value=0.0, max_value=0.25, step=0.05),\n",
        "                              return_sequences=False,\n",
        "                              input_shape = (x_train_con.shape[1],1)))\n",
        "  model.add(Dense(1, activation=hp.Choice('dense_activation',values=['sigmoid', 'relu'], default='sigmoid')))\n",
        "  \n",
        "  model.compile(loss='mean_squared_error', optimizer=tf.keras.optimizers.Adam(hp.Choice('learning_rate', values=[1e-2, 1e-3, 1e-4])))\n",
        "  return model"
      ],
      "metadata": {
        "id": "5CgUhkGTkqsn"
      },
      "execution_count": null,
      "outputs": []
    },
    {
      "cell_type": "code",
      "source": [
        "#Bayesian Hyperparameter Optimizer\n",
        "bayesian_opt_tuner = keras_tuner.BayesianOptimization(\n",
        "    hypermodel=hypermodel,\n",
        "    objective='val_loss',\n",
        "    max_trials=15,\n",
        "    executions_per_trial=1,\n",
        "    seed=2022,\n",
        "    project_name='t5_v1',\n",
        "    overwrite=True,)\n",
        "\n",
        "bayesian_opt_tuner.search(x=x_train_con ,y=y_train_con, \n",
        "             epochs=35,\n",
        "             validation_data=(x_valid_con, y_valid_con),\n",
        "             batch_size=16,\n",
        "             callbacks=[tf.keras.callbacks.EarlyStopping(monitor='val_loss', \n",
        "                              patience=7,\n",
        "                              min_delta=1e-7,\n",
        "                              verbose=1,\n",
        "                              restore_best_weights=True),\n",
        "                        tf.keras.callbacks.ReduceLROnPlateau(monitor='val_loss', \n",
        "                                   factor=0.1, \n",
        "                                   patience= 3, \n",
        "                                   verbose=1, \n",
        "                                   min_delta=1e-7, \n",
        "                                   mode='min')]\n",
        "             )"
      ],
      "metadata": {
        "colab": {
          "base_uri": "https://localhost:8080/"
        },
        "id": "SlkqHlsTX5Q_",
        "outputId": "f55cda72-e423-402f-ceaf-a8a485b8fcf3"
      },
      "execution_count": null,
      "outputs": [
        {
          "output_type": "stream",
          "name": "stdout",
          "text": [
            "Trial 15 Complete [00h 29m 01s]\n",
            "val_loss: 0.0028029372915625572\n",
            "\n",
            "Best val_loss So Far: 0.002799350069835782\n",
            "Total elapsed time: 05h 09m 32s\n"
          ]
        }
      ]
    },
    {
      "cell_type": "code",
      "source": [
        "model = bayesian_opt_tuner.get_best_models(num_models=1)[0]"
      ],
      "metadata": {
        "id": "3F0c61j_fD33"
      },
      "execution_count": null,
      "outputs": []
    },
    {
      "cell_type": "code",
      "source": [
        "#Check\n",
        "check = model.evaluate(x_valid_con, y_valid_con, batch_size=16)\n",
        "print(\"test loss:\", check)"
      ],
      "metadata": {
        "colab": {
          "base_uri": "https://localhost:8080/"
        },
        "id": "jr5hNFPQYKZb",
        "outputId": "0f798cac-81e1-4199-f952-882aaff6d4c1"
      },
      "execution_count": null,
      "outputs": [
        {
          "output_type": "stream",
          "name": "stdout",
          "text": [
            "445/445 [==============================] - 4s 7ms/step - loss: 0.0028\n",
            "test loss: 0.002799350069835782\n"
          ]
        }
      ]
    },
    {
      "cell_type": "code",
      "source": [
        "hyp= bayesian_opt_tuner.get_best_hyperparameters(1)[0]\n",
        "hyp.values"
      ],
      "metadata": {
        "colab": {
          "base_uri": "https://localhost:8080/"
        },
        "id": "drLWjZSMQ_pV",
        "outputId": "ef001423-e4c1-4a19-9148-2aec311193ac"
      },
      "execution_count": null,
      "outputs": [
        {
          "output_type": "execute_result",
          "data": {
            "text/plain": [
              "{'units': 18,\n",
              " 'droput': 0.0,\n",
              " 'redroput': 0.0,\n",
              " 'dense_activation': 'sigmoid',\n",
              " 'learning_rate': 0.01}"
            ]
          },
          "metadata": {},
          "execution_count": 30
        }
      ]
    },
    {
      "cell_type": "code",
      "source": [
        "#hyp= bayesian_opt_tuner.get_best_hyperparameters()[0]\n",
        "#hyp.get_config()"
      ],
      "metadata": {
        "id": "q-jO111NXaFl"
      },
      "execution_count": null,
      "outputs": []
    },
    {
      "cell_type": "code",
      "source": [
        "#Save the model\n",
        "model.save(\"run3_model_v1_t10_univ.h5\")"
      ],
      "metadata": {
        "id": "yYl7kwGeIIfx"
      },
      "execution_count": null,
      "outputs": []
    },
    {
      "cell_type": "markdown",
      "source": [
        "**Rebuild and refit**"
      ],
      "metadata": {
        "id": "6Chc0x3iH2-N"
      }
    },
    {
      "cell_type": "code",
      "source": [
        "model_rebuild=bayesian_opt_tuner.hypermodel.build(hyp)"
      ],
      "metadata": {
        "id": "jmbJrmNFzfOd"
      },
      "execution_count": null,
      "outputs": []
    },
    {
      "cell_type": "code",
      "source": [
        "callback= [tf.keras.callbacks.EarlyStopping(monitor='val_loss', patience=8, min_delta=1e-7, verbose=1, restore_best_weights=True),\n",
        "           tf.keras.callbacks.ReduceLROnPlateau(monitor='val_loss', factor=0.1, patience= 3, verbose=1, min_delta=1e-7, mode='min')]"
      ],
      "metadata": {
        "id": "PAYC1MtF_ORC"
      },
      "execution_count": null,
      "outputs": []
    },
    {
      "cell_type": "code",
      "source": [
        "#Format test set as LSTM input\n",
        "x_test_con = np.concatenate((test_euro_x, test_uk_x, test_us_x, test_germany_x, \n",
        "                              test_italy_x, test_spain_x, test_portugal_x, test_france_x, test_china_x))\n",
        "\n",
        "y_test_con = np.concatenate((test_euro_y, test_uk_y, test_us_y, test_germany_y, \n",
        "                              test_italy_y, test_spain_y, test_portugal_y, test_france_y, test_china_y))\n",
        "\n",
        "x_test_con = np.reshape(x_test_con, (x_test_con.shape[0], x_test_con.shape[1], 1))\n",
        "\n",
        "x_test_con.shape, y_test_con.shape "
      ],
      "metadata": {
        "colab": {
          "base_uri": "https://localhost:8080/"
        },
        "outputId": "ad6fc221-d978-4eef-ff63-482941b6ca5c",
        "id": "atp89sxGPdJ5"
      },
      "execution_count": null,
      "outputs": [
        {
          "output_type": "execute_result",
          "data": {
            "text/plain": [
              "((4509, 64, 1), (4509,))"
            ]
          },
          "metadata": {},
          "execution_count": 39
        }
      ]
    },
    {
      "cell_type": "code",
      "source": [
        "model_rebuild.fit(np.concatenate((x_train_con, x_valid_con)), np.concatenate((y_train_con, y_valid_con)), \n",
        "                              epochs=35, batch_size=16, validation_data=(x_test_con, y_test_con), callbacks=callback)"
      ],
      "metadata": {
        "id": "LYVTR9hN-hyR",
        "colab": {
          "base_uri": "https://localhost:8080/"
        },
        "outputId": "e725b77d-c8c0-468a-d4aa-4988ac4feabc"
      },
      "execution_count": null,
      "outputs": [
        {
          "output_type": "stream",
          "name": "stdout",
          "text": [
            "Epoch 1/35\n",
            "2733/2733 [==============================] - 59s 21ms/step - loss: 0.0040 - val_loss: 0.0025 - lr: 0.0100\n",
            "Epoch 2/35\n",
            "2733/2733 [==============================] - 59s 22ms/step - loss: 0.0028 - val_loss: 0.0025 - lr: 0.0100\n",
            "Epoch 3/35\n",
            "2733/2733 [==============================] - 59s 22ms/step - loss: 0.0027 - val_loss: 0.0025 - lr: 0.0100\n",
            "Epoch 4/35\n",
            "2733/2733 [==============================] - 60s 22ms/step - loss: 0.0027 - val_loss: 0.0025 - lr: 0.0100\n",
            "Epoch 5/35\n",
            "2733/2733 [==============================] - 61s 22ms/step - loss: 0.0027 - val_loss: 0.0026 - lr: 0.0100\n",
            "Epoch 6/35\n",
            "2733/2733 [==============================] - 60s 22ms/step - loss: 0.0026 - val_loss: 0.0025 - lr: 0.0100\n",
            "Epoch 7/35\n",
            "2733/2733 [==============================] - 60s 22ms/step - loss: 0.0026 - val_loss: 0.0026 - lr: 0.0100\n",
            "Epoch 8/35\n",
            "2733/2733 [==============================] - 59s 22ms/step - loss: 0.0026 - val_loss: 0.0026 - lr: 0.0100\n",
            "Epoch 9/35\n",
            "2732/2733 [============================>.] - ETA: 0s - loss: 0.0025\n",
            "Epoch 9: ReduceLROnPlateau reducing learning rate to 0.0009999999776482583.\n",
            "2733/2733 [==============================] - 60s 22ms/step - loss: 0.0025 - val_loss: 0.0026 - lr: 0.0100\n",
            "Epoch 10/35\n",
            "2733/2733 [==============================] - 61s 22ms/step - loss: 0.0024 - val_loss: 0.0026 - lr: 1.0000e-03\n",
            "Epoch 11/35\n",
            "2733/2733 [==============================] - 60s 22ms/step - loss: 0.0024 - val_loss: 0.0028 - lr: 1.0000e-03\n",
            "Epoch 12/35\n",
            "2732/2733 [============================>.] - ETA: 0s - loss: 0.0024\n",
            "Epoch 12: ReduceLROnPlateau reducing learning rate to 9.999999310821295e-05.\n",
            "2733/2733 [==============================] - 60s 22ms/step - loss: 0.0024 - val_loss: 0.0027 - lr: 1.0000e-03\n",
            "Epoch 13/35\n",
            "2733/2733 [==============================] - 60s 22ms/step - loss: 0.0024 - val_loss: 0.0027 - lr: 1.0000e-04\n",
            "Epoch 14/35\n",
            "2731/2733 [============================>.] - ETA: 0s - loss: 0.0024Restoring model weights from the end of the best epoch: 6.\n",
            "2733/2733 [==============================] - 60s 22ms/step - loss: 0.0024 - val_loss: 0.0027 - lr: 1.0000e-04\n",
            "Epoch 14: early stopping\n"
          ]
        },
        {
          "output_type": "execute_result",
          "data": {
            "text/plain": [
              "<keras.callbacks.History at 0x7fd8a8874d10>"
            ]
          },
          "metadata": {},
          "execution_count": 40
        }
      ]
    },
    {
      "cell_type": "code",
      "source": [
        "#Save the model\n",
        "model_rebuild.save(\"run3_model_v1refit_t10_univ.h5\")"
      ],
      "metadata": {
        "id": "Fip585igIq7u"
      },
      "execution_count": null,
      "outputs": []
    },
    {
      "cell_type": "markdown",
      "source": [
        "**Save & load the model**"
      ],
      "metadata": {
        "id": "QbPsMOKmckrS"
      }
    },
    {
      "cell_type": "code",
      "source": [
        "#Save the model\n",
        "#model.save(\"run3_model_v1_t5_univ.h5\")"
      ],
      "metadata": {
        "id": "fBa-ZBwEQQ9_"
      },
      "execution_count": null,
      "outputs": []
    },
    {
      "cell_type": "code",
      "source": [
        "#Load the model\n",
        "model = keras.models.load_model(\"run3_model_v1_t10_univ.h5\")\n",
        "model.summary()"
      ],
      "metadata": {
        "id": "9q8-8d7vZIKD",
        "colab": {
          "base_uri": "https://localhost:8080/"
        },
        "outputId": "b18c5356-7c78-4a72-e919-3f086d9fc2e3"
      },
      "execution_count": null,
      "outputs": [
        {
          "output_type": "stream",
          "name": "stderr",
          "text": [
            "WARNING:tensorflow:Error in loading the saved optimizer state. As a result, your model is starting with a freshly initialized optimizer.\n"
          ]
        },
        {
          "output_type": "stream",
          "name": "stdout",
          "text": [
            "Model: \"sequential\"\n",
            "_________________________________________________________________\n",
            " Layer (type)                Output Shape              Param #   \n",
            "=================================================================\n",
            " lstm (LSTM)                 (None, 18)                1440      \n",
            "                                                                 \n",
            " dense (Dense)               (None, 1)                 19        \n",
            "                                                                 \n",
            "=================================================================\n",
            "Total params: 1,459\n",
            "Trainable params: 1,459\n",
            "Non-trainable params: 0\n",
            "_________________________________________________________________\n"
          ]
        }
      ]
    },
    {
      "cell_type": "code",
      "source": [
        "#Save the model\n",
        "#model.save('/content/drive/MyDrive/MESIO/TFM/Models')"
      ],
      "metadata": {
        "id": "6savKJI6eo0B"
      },
      "execution_count": null,
      "outputs": []
    },
    {
      "cell_type": "code",
      "source": [
        "#Load the model\n",
        "#model = keras.models.load_model('/content/drive/MyDrive/MESIO/TFM/Models')\n",
        "#model.summary()"
      ],
      "metadata": {
        "id": "At0d4zymkTbo"
      },
      "execution_count": null,
      "outputs": []
    },
    {
      "cell_type": "markdown",
      "source": [
        "**Evaluate on test set**"
      ],
      "metadata": {
        "id": "n1Fg4bCcB3Fn"
      }
    },
    {
      "cell_type": "code",
      "source": [
        "#Format test set as LSTM input\n",
        "x_test_con = np.concatenate((test_euro_x, test_uk_x, test_us_x, test_germany_x, \n",
        "                              test_italy_x, test_spain_x, test_portugal_x, test_france_x, test_china_x))\n",
        "\n",
        "y_test_con = np.concatenate((test_euro_y, test_uk_y, test_us_y, test_germany_y, \n",
        "                              test_italy_y, test_spain_y, test_portugal_y, test_france_y, test_china_y))\n",
        "\n",
        "x_test_con = np.reshape(x_test_con, (x_test_con.shape[0], x_test_con.shape[1], 1))\n",
        "\n",
        "x_test_con.shape, y_test_con.shape "
      ],
      "metadata": {
        "colab": {
          "base_uri": "https://localhost:8080/"
        },
        "id": "OhSkNtcj2Fqc",
        "outputId": "bd0bc929-6740-4176-a7e5-909b39f3d735"
      },
      "execution_count": null,
      "outputs": [
        {
          "output_type": "execute_result",
          "data": {
            "text/plain": [
              "((4509, 64, 1), (4509,))"
            ]
          },
          "metadata": {},
          "execution_count": 25
        }
      ]
    },
    {
      "cell_type": "code",
      "source": [
        "# Evaluate the model on the test data\n",
        "results = model.evaluate(x_test_con, y_test_con, batch_size=16)\n",
        "print(\"test loss: \", results)"
      ],
      "metadata": {
        "id": "yTxnxyCNBxOy",
        "colab": {
          "base_uri": "https://localhost:8080/"
        },
        "outputId": "cc431986-3db8-4018-bcb8-83d8188992d3"
      },
      "execution_count": null,
      "outputs": [
        {
          "output_type": "stream",
          "name": "stdout",
          "text": [
            "282/282 [==============================] - 2s 7ms/step - loss: 0.0024\n",
            "test loss:  0.00241731945425272\n"
          ]
        }
      ]
    },
    {
      "cell_type": "markdown",
      "source": [
        "**Evaluate by country**"
      ],
      "metadata": {
        "id": "tHUmYN9EuWI0"
      }
    },
    {
      "cell_type": "code",
      "source": [
        "predictions_euro = model.predict(np.reshape(test_euro_x,(test_euro_x.shape[0], test_euro_x.shape[1], 1)), batch_size=16)\n",
        "predictions_uk = model.predict(np.reshape(test_uk_x,(test_uk_x.shape[0], test_uk_x.shape[1], 1)), batch_size=16)\n",
        "predictions_us = model.predict(np.reshape(test_us_x,(test_us_x.shape[0], test_us_x.shape[1], 1)), batch_size=16)\n",
        "predictions_germany = model.predict(np.reshape(test_germany_x,(test_germany_x.shape[0], test_germany_x.shape[1], 1)), batch_size=16)\n",
        "predictions_italy = model.predict(np.reshape(test_italy_x,(test_italy_x.shape[0], test_italy_x.shape[1], 1)), batch_size=16)\n",
        "predictions_spain = model.predict(np.reshape(test_spain_x,(test_spain_x.shape[0], test_spain_x.shape[1], 1)), batch_size=16)\n",
        "predictions_portugal = model.predict(np.reshape(test_portugal_x,(test_portugal_x.shape[0], test_portugal_x.shape[1], 1)), batch_size=16)\n",
        "predictions_france = model.predict(np.reshape(test_france_x,(test_france_x.shape[0], test_france_x.shape[1], 1)), batch_size=16)\n",
        "predictions_china = model.predict(np.reshape(test_china_x,(test_china_x.shape[0], test_china_x.shape[1], 1)), batch_size=16)"
      ],
      "metadata": {
        "colab": {
          "base_uri": "https://localhost:8080/"
        },
        "id": "r9uoCq0ZuUQl",
        "outputId": "920b7754-6f51-40b9-d198-c9afac4c8404"
      },
      "execution_count": null,
      "outputs": [
        {
          "output_type": "stream",
          "name": "stdout",
          "text": [
            "32/32 [==============================] - 1s 5ms/step\n",
            "32/32 [==============================] - 0s 4ms/step\n",
            "32/32 [==============================] - 0s 4ms/step\n",
            "32/32 [==============================] - 0s 5ms/step\n",
            "32/32 [==============================] - 0s 4ms/step\n",
            "32/32 [==============================] - 0s 4ms/step\n",
            "32/32 [==============================] - 0s 4ms/step\n",
            "32/32 [==============================] - 0s 4ms/step\n",
            "32/32 [==============================] - 0s 4ms/step\n"
          ]
        }
      ]
    },
    {
      "cell_type": "code",
      "source": [
        "#Model performance:\n",
        "pred = predictions_china #choose country\n",
        "actual = test_china_y    #choose country\n",
        "\n",
        "mse = mean_squared_error(pred, actual)\n",
        "mae = mean_absolute_error(pred, actual)\n",
        "\n",
        "print('MSE: %.9f' % mse)\n",
        "print('MAE: %.9f' % mae)\n",
        "\n",
        "####error= (pred - actual)"
      ],
      "metadata": {
        "colab": {
          "base_uri": "https://localhost:8080/"
        },
        "id": "BWLUEA42BKWK",
        "outputId": "88b2114c-c52e-41c4-f02c-1bbddcb9c098"
      },
      "execution_count": null,
      "outputs": [
        {
          "output_type": "stream",
          "name": "stdout",
          "text": [
            "MSE: 0.001365679\n",
            "MAE: 0.024627229\n"
          ]
        }
      ]
    },
    {
      "cell_type": "code",
      "source": [
        "# Plot the predictions\n",
        "plt.plot(range(len(pred)), pred, label=\"pred\")\n",
        "plt.plot(range(len(actual)), actual, label = \"actual\")\n",
        "plt.legend()\n",
        "plt.show()"
      ],
      "metadata": {
        "colab": {
          "base_uri": "https://localhost:8080/",
          "height": 282
        },
        "id": "-T0YtAdD4I0s",
        "outputId": "354ed287-9587-40f9-c894-19ba7d2f584e"
      },
      "execution_count": null,
      "outputs": [
        {
          "output_type": "display_data",
          "data": {
            "text/plain": [
              "<Figure size 432x288 with 1 Axes>"
            ],
            "image/png": "[encoded data removed]"
          },
          "metadata": {}
        }
      ]
    },
    {
      "cell_type": "markdown",
      "source": [
        "**Predict & Export**"
      ],
      "metadata": {
        "id": "U0mN3ZE6yIbG"
      }
    },
    {
      "cell_type": "code",
      "source": [
        "pred = model.predict(x_test_con, batch_size=1)\n",
        "actual = y_test_con"
      ],
      "metadata": {
        "colab": {
          "base_uri": "https://localhost:8080/"
        },
        "id": "2O8IGD13yH67",
        "outputId": "08415edc-8e4a-4686-b607-7a663e2ecf9d"
      },
      "execution_count": null,
      "outputs": [
        {
          "output_type": "stream",
          "name": "stdout",
          "text": [
            "4509/4509 [==============================] - 20s 4ms/step\n"
          ]
        }
      ]
    },
    {
      "cell_type": "code",
      "source": [
        "# Plot the predictions\n",
        "plt.plot(range(len(pred)), pred, label=\"pred\")\n",
        "plt.plot(range(len(actual)), actual, label = \"actual\")\n",
        "plt.legend()\n",
        "plt.show()"
      ],
      "metadata": {
        "colab": {
          "base_uri": "https://localhost:8080/",
          "height": 282
        },
        "id": "_b6B6tJ51mZz",
        "outputId": "1258288a-9d7d-4666-b7cd-b40a35fd6c38"
      },
      "execution_count": null,
      "outputs": [
        {
          "output_type": "display_data",
          "data": {
            "text/plain": [
              "<Figure size 432x288 with 1 Axes>"
            ],
            "image/png": "[encoded data removed]"
          },
          "metadata": {}
        }
      ]
    },
    {
      "cell_type": "code",
      "source": [
        "pred.shape, actual.shape"
      ],
      "metadata": {
        "colab": {
          "base_uri": "https://localhost:8080/"
        },
        "id": "DNKKOQ_32WQ1",
        "outputId": "7003469d-e4aa-44e9-9eac-7717552b9fe7"
      },
      "execution_count": null,
      "outputs": [
        {
          "output_type": "execute_result",
          "data": {
            "text/plain": [
              "((4509, 1), (4509,))"
            ]
          },
          "metadata": {},
          "execution_count": 29
        }
      ]
    },
    {
      "cell_type": "code",
      "source": [
        "export1 = pd.DataFrame(pred)\n",
        "export2 = pd.DataFrame(actual)\n",
        "\n",
        "export1.columns = ['pred']\n",
        "export2.columns= ['actual']\n",
        "\n",
        "export1.shape , export2.shape"
      ],
      "metadata": {
        "colab": {
          "base_uri": "https://localhost:8080/"
        },
        "id": "BtNmbj-e2gE4",
        "outputId": "f0394328-c279-4f0d-b58a-f2965cba7219"
      },
      "execution_count": null,
      "outputs": [
        {
          "output_type": "execute_result",
          "data": {
            "text/plain": [
              "((4509, 1), (4509, 1))"
            ]
          },
          "metadata": {},
          "execution_count": 30
        }
      ]
    },
    {
      "cell_type": "code",
      "source": [
        "filepath1 = 'predt10.xlsx'\n",
        "filepath2= 'actualt10.xlsx'\n",
        "export1.to_excel(filepath1, index=False)\n",
        "export2.to_excel(filepath2, index=False)"
      ],
      "metadata": {
        "id": "6HYSCdme2LFS"
      },
      "execution_count": null,
      "outputs": []
    }
  ]
}